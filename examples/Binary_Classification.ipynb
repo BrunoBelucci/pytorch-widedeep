{
 "cells": [
  {
   "cell_type": "code",
   "execution_count": 1,
   "metadata": {},
   "outputs": [],
   "source": [
    "import numpy as np\n",
    "import pandas as pd\n",
    "import torch\n",
    "\n",
    "from pytorch_widedeep.preprocessing import WidePreprocessor, DeepPreprocessor\n",
    "from pytorch_widedeep.models import Wide, DeepDense, WideDeep\n",
    "from pytorch_widedeep.optim import RAdam\n",
    "from pytorch_widedeep.initializers import KaimingNormal, XavierNormal\n",
    "from pytorch_widedeep.callbacks import LRHistory, ModelCheckpoint, EarlyStopping\n",
    "from pytorch_widedeep.metrics import BinaryAccuracy"
   ]
  },
  {
   "cell_type": "code",
   "execution_count": 12,
   "metadata": {},
   "outputs": [
    {
     "data": {
      "text/plain": [
       "WideDeep(\n",
       "  (wide): Wide(\n",
       "    (wide_linear): Linear(in_features=805, out_features=1, bias=True)\n",
       "  )\n",
       "  (deepdense): Sequential(\n",
       "    (0): DeepDense(\n",
       "      (embed_layers): ModuleDict(\n",
       "        (emb_layer_education): Embedding(16, 16)\n",
       "        (emb_layer_native_country): Embedding(42, 16)\n",
       "        (emb_layer_occupation): Embedding(15, 16)\n",
       "        (emb_layer_relationship): Embedding(6, 8)\n",
       "        (emb_layer_workclass): Embedding(9, 16)\n",
       "      )\n",
       "      (dense): Sequential(\n",
       "        (dense_layer_0): Sequential(\n",
       "          (0): Linear(in_features=74, out_features=64, bias=True)\n",
       "          (1): LeakyReLU(negative_slope=0.01, inplace=True)\n",
       "          (2): Dropout(p=0.0, inplace=False)\n",
       "        )\n",
       "        (dense_layer_1): Sequential(\n",
       "          (0): Linear(in_features=64, out_features=32, bias=True)\n",
       "          (1): LeakyReLU(negative_slope=0.01, inplace=True)\n",
       "          (2): Dropout(p=0.5, inplace=False)\n",
       "        )\n",
       "      )\n",
       "    )\n",
       "    (1): Linear(in_features=32, out_features=1, bias=True)\n",
       "  )\n",
       ")"
      ]
     },
     "execution_count": 12,
     "metadata": {},
     "output_type": "execute_result"
    }
   ],
   "source": [
    "df = pd.read_csv('../data/adult/adult.csv.zip')\n",
    "df.columns = [c.replace(\"-\", \"_\") for c in df.columns]\n",
    "df['age_buckets'] = pd.cut(df.age, bins=[16, 25, 30, 35, 40, 45, 50, 55, 60, 91], labels=np.arange(9))\n",
    "df['income_label'] = (df[\"income\"].apply(lambda x: \">50K\" in x)).astype(int)\n",
    "df.drop('income', axis=1, inplace=True)\n",
    "df.head()\n",
    "\n",
    "wide_cols = ['age_buckets', 'education', 'relationship','workclass','occupation',\n",
    "    'native_country','gender']\n",
    "crossed_cols = [('education', 'occupation'), ('native_country', 'occupation')]\n",
    "cat_embed_cols = [('education',16), ('relationship',8), ('workclass',16),\n",
    "    ('occupation',16),('native_country',16)]\n",
    "continuous_cols = [\"age\",\"hours_per_week\"]\n",
    "target = 'income_label'\n",
    "\n",
    "target = df[target].values\n",
    "prepare_wide = WidePreprocessor(wide_cols=wide_cols, crossed_cols=crossed_cols)\n",
    "X_wide = prepare_wide.fit_transform(df)\n",
    "prepare_deep = DeepPreprocessor(embed_cols=cat_embed_cols, continuous_cols=continuous_cols)\n",
    "X_deep = prepare_deep.fit_transform(df)\n",
    "wide = Wide(wide_dim=X_wide.shape[1], output_dim=1)\n",
    "deepdense = DeepDense(hidden_layers=[64,32], dropout=[0.5],\n",
    "                      deep_column_idx=prepare_deep.deep_column_idx,\n",
    "                      embed_input=prepare_deep.embeddings_input,\n",
    "                      continuous_cols=continuous_cols)\n",
    "model = WideDeep(wide=wide, deepdense=deepdense)\n",
    "model"
   ]
  },
  {
   "cell_type": "code",
   "execution_count": 13,
   "metadata": {},
   "outputs": [],
   "source": [
    "wide_opt = torch.optim.Adam(model.wide.parameters())\n",
    "deep_opt = RAdam(model.deepdense.parameters())"
   ]
  },
  {
   "cell_type": "code",
   "execution_count": 14,
   "metadata": {},
   "outputs": [],
   "source": [
    "wide_sch = torch.optim.lr_scheduler.StepLR(wide_opt, step_size=3)\n",
    "deep_sch = torch.optim.lr_scheduler.StepLR(deep_opt, step_size=5)"
   ]
  },
  {
   "cell_type": "code",
   "execution_count": 15,
   "metadata": {},
   "outputs": [],
   "source": [
    "initializers = {'wide': KaimingNormal, 'deepdense':XavierNormal}\n",
    "optimizers = {'wide': wide_opt, 'deepdense':deep_opt}\n",
    "schedulers = {'wide': wide_sch, 'deepdense':deep_sch}\n",
    "callbacks = [LRHistory(n_epochs=10), EarlyStopping, ModelCheckpoint(filepath='../model_weights/wd_out')]\n",
    "metrics = [BinaryAccuracy]"
   ]
  },
  {
   "cell_type": "code",
   "execution_count": 16,
   "metadata": {},
   "outputs": [],
   "source": [
    "model.compile(method='logistic', initializers=initializers, optimizers=optimizers, lr_schedulers=schedulers,\n",
    "              callbacks=callbacks, metrics=metrics)"
   ]
  },
  {
   "cell_type": "code",
   "execution_count": 17,
   "metadata": {},
   "outputs": [
    {
     "name": "stderr",
     "output_type": "stream",
     "text": [
      "epoch 1: 100%|██████████| 153/153 [00:01<00:00, 93.20it/s, loss=0.51, metrics={'acc': 0.7624}] \n",
      "valid: 100%|██████████| 39/39 [00:00<00:00, 144.33it/s, loss=0.418, metrics={'acc': 0.7715}]\n",
      "epoch 2: 100%|██████████| 153/153 [00:01<00:00, 96.64it/s, loss=0.392, metrics={'acc': 0.8195}]\n",
      "valid: 100%|██████████| 39/39 [00:00<00:00, 135.51it/s, loss=0.363, metrics={'acc': 0.8224}]\n",
      "epoch 3: 100%|██████████| 153/153 [00:01<00:00, 93.87it/s, loss=0.362, metrics={'acc': 0.834}] \n",
      "valid: 100%|██████████| 39/39 [00:00<00:00, 142.37it/s, loss=0.351, metrics={'acc': 0.8347}]\n",
      "epoch 4: 100%|██████████| 153/153 [00:01<00:00, 87.23it/s, loss=0.351, metrics={'acc': 0.8379}]\n",
      "valid: 100%|██████████| 39/39 [00:00<00:00, 139.47it/s, loss=0.349, metrics={'acc': 0.8378}]\n",
      "epoch 5: 100%|██████████| 153/153 [00:01<00:00, 91.93it/s, loss=0.348, metrics={'acc': 0.8397}]\n",
      "valid: 100%|██████████| 39/39 [00:00<00:00, 142.84it/s, loss=0.347, metrics={'acc': 0.8396}]\n",
      "epoch 6: 100%|██████████| 153/153 [00:01<00:00, 93.16it/s, loss=0.345, metrics={'acc': 0.8399}]\n",
      "valid: 100%|██████████| 39/39 [00:00<00:00, 135.49it/s, loss=0.345, metrics={'acc': 0.8397}]\n",
      "epoch 7: 100%|██████████| 153/153 [00:01<00:00, 93.72it/s, loss=0.344, metrics={'acc': 0.8398}]\n",
      "valid: 100%|██████████| 39/39 [00:00<00:00, 138.51it/s, loss=0.345, metrics={'acc': 0.8394}]\n",
      "epoch 8: 100%|██████████| 153/153 [00:01<00:00, 89.53it/s, loss=0.344, metrics={'acc': 0.8411}]\n",
      "valid: 100%|██████████| 39/39 [00:00<00:00, 139.15it/s, loss=0.345, metrics={'acc': 0.8406}]\n",
      "epoch 9: 100%|██████████| 153/153 [00:01<00:00, 92.95it/s, loss=0.343, metrics={'acc': 0.8416}]\n",
      "valid: 100%|██████████| 39/39 [00:00<00:00, 139.54it/s, loss=0.345, metrics={'acc': 0.8411}]\n",
      "epoch 10: 100%|██████████| 153/153 [00:01<00:00, 91.46it/s, loss=0.343, metrics={'acc': 0.8423}]\n",
      "valid: 100%|██████████| 39/39 [00:00<00:00, 135.76it/s, loss=0.344, metrics={'acc': 0.8417}]\n"
     ]
    }
   ],
   "source": [
    "model.fit(X_wide=X_wide, X_deep=X_deep, target=target, n_epochs=10, batch_size=256, val_split=0.2)"
   ]
  },
  {
   "cell_type": "code",
   "execution_count": 18,
   "metadata": {},
   "outputs": [],
   "source": [
    "import matplotlib.pyplot as plt\n",
    "import seaborn as sns\n",
    "\n",
    "%matplotlib inline "
   ]
  },
  {
   "cell_type": "code",
   "execution_count": 19,
   "metadata": {},
   "outputs": [
    {
     "data": {
      "text/plain": [
       "<matplotlib.axes._subplots.AxesSubplot at 0x14016ce48>"
      ]
     },
     "execution_count": 19,
     "metadata": {},
     "output_type": "execute_result"
    },
    {
     "data": {
      "image/png": "[encoded data removed]",
      "text/plain": [
       "<Figure size 432x288 with 1 Axes>"
      ]
     },
     "metadata": {
      "needs_background": "light"
     },
     "output_type": "display_data"
    }
   ],
   "source": [
    "sns.lineplot(x=model.history.epoch, y=model.lr_history['lr_wide_0'])"
   ]
  },
  {
   "cell_type": "code",
   "execution_count": 20,
   "metadata": {},
   "outputs": [
    {
     "data": {
      "text/plain": [
       "{'lr_wide_0': [0.001,\n",
       "  0.001,\n",
       "  0.001,\n",
       "  0.0001,\n",
       "  0.0001,\n",
       "  0.0001,\n",
       "  1.0000000000000003e-05,\n",
       "  1.0000000000000003e-05,\n",
       "  1.0000000000000003e-05,\n",
       "  1.0000000000000002e-06],\n",
       " 'lr_deepdense_0': [0.001,\n",
       "  0.001,\n",
       "  0.001,\n",
       "  0.001,\n",
       "  0.001,\n",
       "  0.0001,\n",
       "  0.0001,\n",
       "  0.0001,\n",
       "  0.0001,\n",
       "  0.0001]}"
      ]
     },
     "execution_count": 20,
     "metadata": {},
     "output_type": "execute_result"
    }
   ],
   "source": [
    "model.lr_history"
   ]
  }
 ],
 "metadata": {
  "kernelspec": {
   "display_name": "Python 3",
   "language": "python",
   "name": "python3"
  },
  "language_info": {
   "codemirror_mode": {
    "name": "ipython",
    "version": 3
   },
   "file_extension": ".py",
   "mimetype": "text/x-python",
   "name": "python",
   "nbconvert_exporter": "python",
   "pygments_lexer": "ipython3",
   "version": "3.6.5"
  }
 },
 "nbformat": 4,
 "nbformat_minor": 2
}
