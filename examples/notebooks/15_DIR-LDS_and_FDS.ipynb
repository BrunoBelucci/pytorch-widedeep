{
 "cells": [
  {
   "cell_type": "markdown",
   "metadata": {},
   "source": [
    "# Label and Feature Distribution Smoothing for Deep Imbalanced Regression "
   ]
  },
  {
   "cell_type": "markdown",
   "metadata": {},
   "source": [
    "## Initial imports"
   ]
  },
  {
   "cell_type": "code",
   "execution_count": 1,
   "metadata": {},
   "outputs": [
    {
     "name": "stderr",
     "output_type": "stream",
     "text": [
      "2022-01-16 20:43:53.485120: W tensorflow/stream_executor/platform/default/dso_loader.cc:64] Could not load dynamic library 'libcudart.so.11.0'; dlerror: libcudart.so.11.0: cannot open shared object file: No such file or directory\n",
      "2022-01-16 20:43:53.485200: I tensorflow/stream_executor/cuda/cudart_stub.cc:29] Ignore above cudart dlerror if you do not have a GPU set up on your machine.\n",
      "/home/palo/miniconda3/lib/python3.8/site-packages/matplotlib_inline/config.py:66: DeprecationWarning: InlineBackend._figure_formats_changed is deprecated in traitlets 4.1: use @observe and @unobserve instead.\n",
      "  def _figure_formats_changed(self, name, old, new):\n"
     ]
    }
   ],
   "source": [
    "import numpy as np\n",
    "import pandas as pd\n",
    "import torch\n",
    "from torch.optim import SGD, lr_scheduler\n",
    "\n",
    "from pytorch_widedeep import Trainer\n",
    "from pytorch_widedeep.preprocessing import TabPreprocessor\n",
    "from pytorch_widedeep.models import TabMlp, WideDeep\n",
    "from sklearn.metrics import mean_squared_error\n",
    "from pytorch_widedeep.initializers import XavierNormal\n",
    "from pytorch_widedeep.datasets import load_california_housing\n",
    "\n",
    "from sklearn.model_selection import train_test_split\n",
    "from sklearn.preprocessing import StandardScaler\n",
    "\n",
    "from pytorch_widedeep.training._wd_dataset import WideDeepDataset\n",
    "from torch.utils.data.dataloader import DataLoader\n",
    "\n",
    "import matplotlib.pyplot as plt\n",
    "from scipy.ndimage import convolve1d\n",
    "from scipy.ndimage import gaussian_filter1d\n",
    "from scipy.signal.windows import triang\n",
    "from pytorch_widedeep.utils.deeptabular_utils import get_kernel_window, find_bin\n",
    "from pytorch_widedeep.models import fds_layer\n",
    "\n",
    "# increase displayed columns in jupyter notebook\n",
    "pd.set_option(\"display.max_columns\", 200)\n",
    "pd.set_option(\"display.max_rows\", 300)"
   ]
  },
  {
   "cell_type": "markdown",
   "metadata": {},
   "source": [
    "# Load dataset"
   ]
  },
  {
   "cell_type": "code",
   "execution_count": 2,
   "metadata": {},
   "outputs": [
    {
     "data": {
      "text/html": [
       "<div>\n",
       "<style scoped>\n",
       "    .dataframe tbody tr th:only-of-type {\n",
       "        vertical-align: middle;\n",
       "    }\n",
       "\n",
       "    .dataframe tbody tr th {\n",
       "        vertical-align: top;\n",
       "    }\n",
       "\n",
       "    .dataframe thead th {\n",
       "        text-align: right;\n",
       "    }\n",
       "</style>\n",
       "<table border=\"1\" class=\"dataframe\">\n",
       "  <thead>\n",
       "    <tr style=\"text-align: right;\">\n",
       "      <th></th>\n",
       "      <th>MedInc</th>\n",
       "      <th>HouseAge</th>\n",
       "      <th>AveRooms</th>\n",
       "      <th>AveBedrms</th>\n",
       "      <th>Population</th>\n",
       "      <th>AveOccup</th>\n",
       "      <th>Latitude</th>\n",
       "      <th>Longitude</th>\n",
       "      <th>MedHouseVal</th>\n",
       "    </tr>\n",
       "  </thead>\n",
       "  <tbody>\n",
       "    <tr>\n",
       "      <th>0</th>\n",
       "      <td>8.3252</td>\n",
       "      <td>41.0</td>\n",
       "      <td>6.984127</td>\n",
       "      <td>1.023810</td>\n",
       "      <td>322.0</td>\n",
       "      <td>2.555556</td>\n",
       "      <td>37.88</td>\n",
       "      <td>-122.23</td>\n",
       "      <td>4.526</td>\n",
       "    </tr>\n",
       "    <tr>\n",
       "      <th>1</th>\n",
       "      <td>8.3014</td>\n",
       "      <td>21.0</td>\n",
       "      <td>6.238137</td>\n",
       "      <td>0.971880</td>\n",
       "      <td>2401.0</td>\n",
       "      <td>2.109842</td>\n",
       "      <td>37.86</td>\n",
       "      <td>-122.22</td>\n",
       "      <td>3.585</td>\n",
       "    </tr>\n",
       "    <tr>\n",
       "      <th>2</th>\n",
       "      <td>7.2574</td>\n",
       "      <td>52.0</td>\n",
       "      <td>8.288136</td>\n",
       "      <td>1.073446</td>\n",
       "      <td>496.0</td>\n",
       "      <td>2.802260</td>\n",
       "      <td>37.85</td>\n",
       "      <td>-122.24</td>\n",
       "      <td>3.521</td>\n",
       "    </tr>\n",
       "    <tr>\n",
       "      <th>3</th>\n",
       "      <td>5.6431</td>\n",
       "      <td>52.0</td>\n",
       "      <td>5.817352</td>\n",
       "      <td>1.073059</td>\n",
       "      <td>558.0</td>\n",
       "      <td>2.547945</td>\n",
       "      <td>37.85</td>\n",
       "      <td>-122.25</td>\n",
       "      <td>3.413</td>\n",
       "    </tr>\n",
       "    <tr>\n",
       "      <th>4</th>\n",
       "      <td>3.8462</td>\n",
       "      <td>52.0</td>\n",
       "      <td>6.281853</td>\n",
       "      <td>1.081081</td>\n",
       "      <td>565.0</td>\n",
       "      <td>2.181467</td>\n",
       "      <td>37.85</td>\n",
       "      <td>-122.25</td>\n",
       "      <td>3.422</td>\n",
       "    </tr>\n",
       "  </tbody>\n",
       "</table>\n",
       "</div>"
      ],
      "text/plain": [
       "   MedInc  HouseAge  AveRooms  AveBedrms  Population  AveOccup  Latitude  \\\n",
       "0  8.3252      41.0  6.984127   1.023810       322.0  2.555556     37.88   \n",
       "1  8.3014      21.0  6.238137   0.971880      2401.0  2.109842     37.86   \n",
       "2  7.2574      52.0  8.288136   1.073446       496.0  2.802260     37.85   \n",
       "3  5.6431      52.0  5.817352   1.073059       558.0  2.547945     37.85   \n",
       "4  3.8462      52.0  6.281853   1.081081       565.0  2.181467     37.85   \n",
       "\n",
       "   Longitude  MedHouseVal  \n",
       "0    -122.23        4.526  \n",
       "1    -122.22        3.585  \n",
       "2    -122.24        3.521  \n",
       "3    -122.25        3.413  \n",
       "4    -122.25        3.422  "
      ]
     },
     "execution_count": 2,
     "metadata": {},
     "output_type": "execute_result"
    }
   ],
   "source": [
    "df = load_california_housing(as_frame=True)\n",
    "df.head()"
   ]
  },
  {
   "cell_type": "markdown",
   "metadata": {},
   "source": [
    "# Effects of ks and sigma paramaters on kernel function"
   ]
  },
  {
   "cell_type": "code",
   "execution_count": 3,
   "metadata": {},
   "outputs": [
    {
     "data": {
      "text/plain": [
       "[<matplotlib.lines.Line2D at 0x7fc45b2a3100>]"
      ]
     },
     "execution_count": 3,
     "metadata": {},
     "output_type": "execute_result"
    },
    {
     "data": {
      "image/png": "[encoded data removed]",
      "text/plain": [
       "<Figure size 432x288 with 1 Axes>"
      ]
     },
     "metadata": {
      "needs_background": "light"
     },
     "output_type": "display_data"
    }
   ],
   "source": [
    "ks = 5\n",
    "sigma = 2\n",
    "half_ks = (ks - 1) // 2\n",
    "base_kernel = [0.0] * half_ks + [1.0] + [0.0] * half_ks\n",
    "kernel_window = gaussian_filter1d(base_kernel, sigma=sigma)\n",
    "plt.plot(kernel_window)"
   ]
  },
  {
   "cell_type": "markdown",
   "metadata": {},
   "source": [
    "# Label Distribution Smoothing - visualization\n",
    "* visualization of  pytorch_widedeep.training._wd_dataset.WideDeepDataset._prepare_weights(...)\n",
    "\n",
    "**Assign weight to each sample by following procedure:**\n",
    "1. creating histogram from label values with nuber of bins = granularity\n",
    "2.[OPTIONAL] reweighting label frequencies by sqrt\n",
    "3.[OPTIONAL] smoothing label frequencies by convolution of kernel function window with frequencies list\n",
    "4. inverting values by n_samples / (n_classes * np.bincount(y)), [see](https://scikit-learn.org/stable/modules/generated/sklearn.utils.class_weight.compute_sample_weight.html)\n",
    "5. assigning weight to each sample from closest bin value "
   ]
  },
  {
   "cell_type": "code",
   "execution_count": 4,
   "metadata": {},
   "outputs": [
    {
     "data": {
      "image/png": "[encoded data removed]",
      "text/plain": [
       "<Figure size 432x288 with 2 Axes>"
      ]
     },
     "metadata": {
      "needs_background": "light"
     },
     "output_type": "display_data"
    }
   ],
   "source": [
    "lds = True\n",
    "kernel = \"gaussian\"\n",
    "ks = 5\n",
    "sigma = 2\n",
    "reweight = \"sqrt\"\n",
    "Y = df[\"MedHouseVal\"].values\n",
    "fig, (ax1, ax2) = plt.subplots(nrows=2, ncols=1)\n",
    "lds_Ymin = Y.min()\n",
    "lds_Ymax = Y.max()\n",
    "granularity = 100\n",
    "\n",
    "bin_edges = np.linspace(lds_Ymin, lds_Ymax, num=granularity, endpoint=True)\n",
    "labels = Y\n",
    "value_dict = dict(zip(bin_edges[:-1], np.histogram(labels, bin_edges)[0]))\n",
    "ax1.bar(\n",
    "    value_dict.keys(),\n",
    "    value_dict.values(),\n",
    "    width=list(value_dict.keys())[1] - list(value_dict.keys())[0],\n",
    ")\n",
    "ax1.set_title(\"Histogram of values in the Y\")\n",
    "\n",
    "if reweight == \"sqrt\":\n",
    "    value_dict = dict(zip(value_dict.keys(), np.sqrt(list(value_dict.values()))))\n",
    "\n",
    "if kernel:\n",
    "    lds_kernel_window = get_kernel_window(kernel, ks, sigma)\n",
    "    smoothed_values = convolve1d(\n",
    "        list(value_dict.values()), weights=lds_kernel_window, mode=\"constant\"\n",
    "    )\n",
    "\n",
    "    weigths = sum(smoothed_values) / (len(smoothed_values) * smoothed_values)\n",
    "    value_dict = dict(zip(value_dict.keys(), weigths))\n",
    "else:\n",
    "    values = list(value_dict.values())\n",
    "    weigths = sum(values) / (len(values) * values)\n",
    "    value_dict = dict(zip(value_dict.keys(), weigths))\n",
    "\n",
    "ax2.bar(\n",
    "    value_dict.keys(),\n",
    "    value_dict.values(),\n",
    "    width=list(value_dict.keys())[1] - list(value_dict.keys())[0],\n",
    ")\n",
    "ax2.set_title(\"Bar plot with inverse-balanced weights for each bin from histogram\")\n",
    "fig.tight_layout()\n",
    "\n",
    "left_bin_edges = find_bin(bin_edges, labels)\n",
    "weights = [value_dict[edge] for edge in left_bin_edges]"
   ]
  },
  {
   "cell_type": "markdown",
   "metadata": {},
   "source": [
    "# Feature Distribution Smoothing\n",
    "We use dataset feature values in this example, but during the training process features tensors are the ouput of last layer before FDS layer.\n",
    "* labels are np.vstack-ed to reflect normal training scenario"
   ]
  },
  {
   "cell_type": "code",
   "execution_count": 5,
   "metadata": {},
   "outputs": [],
   "source": [
    "features = torch.tensor(df.drop(columns=[\"MedHouseVal\"]).values)\n",
    "labels = torch.tensor(np.vstack(df[\"MedHouseVal\"].values))\n",
    "FDS = fds_layer.FDS(feature_dim=features.size(1))"
   ]
  },
  {
   "cell_type": "code",
   "execution_count": 6,
   "metadata": {},
   "outputs": [],
   "source": [
    "for epoch in range(3):\n",
    "    FDS.update_last_epoch_stats(epoch)\n",
    "    FDS.update_running_stats(torch.clone(features).detach(), labels, epoch)"
   ]
  },
  {
   "cell_type": "code",
   "execution_count": 7,
   "metadata": {},
   "outputs": [
    {
     "data": {
      "image/png": "[encoded data removed]",
      "text/plain": [
       "<Figure size 432x288 with 1 Axes>"
      ]
     },
     "metadata": {
      "needs_background": "light"
     },
     "output_type": "display_data"
    }
   ],
   "source": [
    "pd.DataFrame(FDS.running_mean_last_epoch.numpy()).iloc[:, 7].plot(\n",
    "    title=\"Running mean bina values for 'Longitude' feature\"\n",
    ");"
   ]
  },
  {
   "cell_type": "code",
   "execution_count": 8,
   "metadata": {},
   "outputs": [
    {
     "data": {
      "image/png": "[encoded data removed]",
      "text/plain": [
       "<Figure size 432x288 with 1 Axes>"
      ]
     },
     "metadata": {
      "needs_background": "light"
     },
     "output_type": "display_data"
    }
   ],
   "source": [
    "pd.DataFrame(FDS.smoothed_mean_last_epoch.numpy()).iloc[:, 7].plot(\n",
    "    title=\"Smoothed mean bina values for 'Longitude' feature\"\n",
    ");"
   ]
  },
  {
   "cell_type": "code",
   "execution_count": 9,
   "metadata": {},
   "outputs": [],
   "source": [
    "smoothed_features = FDS.smooth(torch.clone(features).detach(), labels, epoch).numpy()\n",
    "left_bin_edges_indices = find_bin(\n",
    "    FDS.bin_edges, labels.squeeze(), ret_value=False\n",
    ").numpy()\n",
    "continuous_cols = df.drop(columns=[\"MedHouseVal\"]).columns.values.tolist()\n",
    "\n",
    "df_w_bins = df.copy()\n",
    "df_w_bins[\"MedHouseVal_bins\"] = left_bin_edges_indices\n",
    "df_smoothed_w_bins = df_w_bins.copy()\n",
    "df_smoothed_w_bins[continuous_cols] = smoothed_features"
   ]
  },
  {
   "cell_type": "code",
   "execution_count": 10,
   "metadata": {},
   "outputs": [
    {
     "data": {
      "image/png": "[encoded data removed]",
      "text/plain": [
       "<Figure size 432x288 with 1 Axes>"
      ]
     },
     "metadata": {
      "needs_background": "light"
     },
     "output_type": "display_data"
    }
   ],
   "source": [
    "df_w_bins[df_w_bins[\"MedHouseVal_bins\"] == 5][\"Longitude\"].plot(\n",
    "    title=\"Longitude feature values before calibration\"\n",
    ");"
   ]
  },
  {
   "cell_type": "code",
   "execution_count": 11,
   "metadata": {},
   "outputs": [
    {
     "data": {
      "image/png": "[encoded data removed]",
      "text/plain": [
       "<Figure size 432x288 with 1 Axes>"
      ]
     },
     "metadata": {
      "needs_background": "light"
     },
     "output_type": "display_data"
    }
   ],
   "source": [
    "df_smoothed_w_bins[df_w_bins[\"MedHouseVal_bins\"] == 5][\"Longitude\"].plot(\n",
    "    title=\"Longitude feature values after calibration\\n(only slight change in values)\"\n",
    ");"
   ]
  },
  {
   "cell_type": "markdown",
   "metadata": {},
   "source": [
    "# Data preparation"
   ]
  },
  {
   "cell_type": "code",
   "execution_count": 12,
   "metadata": {},
   "outputs": [],
   "source": [
    "df_train, df_valid = train_test_split(df, test_size=0.2, random_state=1)\n",
    "df_valid, df_test = train_test_split(df_valid, test_size=0.5, random_state=1)"
   ]
  },
  {
   "cell_type": "code",
   "execution_count": 13,
   "metadata": {},
   "outputs": [],
   "source": [
    "continuous_cols = df.drop(columns=[\"MedHouseVal\"]).columns.values.tolist()"
   ]
  },
  {
   "cell_type": "markdown",
   "metadata": {},
   "source": [
    "# Model with LDS & FDS"
   ]
  },
  {
   "cell_type": "code",
   "execution_count": 14,
   "metadata": {},
   "outputs": [],
   "source": [
    "# deeptabular\n",
    "tab_preprocessor = TabPreprocessor(continuous_cols=continuous_cols, scale=True)\n",
    "X_tab_train = tab_preprocessor.fit_transform(df_train)\n",
    "X_tab_valid = tab_preprocessor.transform(df_valid)\n",
    "X_tab_test = tab_preprocessor.transform(df_test)\n",
    "\n",
    "# target\n",
    "y_train = df_train[\"MedHouseVal\"].values\n",
    "y_valid = df_valid[\"MedHouseVal\"].values\n",
    "y_test = df_test[\"MedHouseVal\"].values\n",
    "\n",
    "X_train = {\"X_tab\": X_tab_train, \"target\": y_train, \"lds\": True, \"lds_reweight\": \"sqrt\"}\n",
    "X_val = {\"X_tab\": X_tab_valid, \"target\": y_valid}"
   ]
  },
  {
   "cell_type": "code",
   "execution_count": 15,
   "metadata": {},
   "outputs": [
    {
     "data": {
      "text/plain": [
       "WideDeep(\n",
       "  (deeptabular): TabMlp(\n",
       "    (cat_and_cont_embed): DiffSizeCatAndContEmbeddings(\n",
       "      (cont_norm): BatchNorm1d(8, eps=1e-05, momentum=0.1, affine=True, track_running_stats=True)\n",
       "    )\n",
       "    (tab_mlp): MLP(\n",
       "      (mlp): Sequential(\n",
       "        (dense_layer_0): Sequential(\n",
       "          (0): Dropout(p=0.1, inplace=False)\n",
       "          (1): Linear(in_features=8, out_features=200, bias=True)\n",
       "          (2): ReLU(inplace=True)\n",
       "        )\n",
       "        (dense_layer_1): Sequential(\n",
       "          (0): Dropout(p=0.1, inplace=False)\n",
       "          (1): Linear(in_features=200, out_features=100, bias=True)\n",
       "          (2): ReLU(inplace=True)\n",
       "        )\n",
       "      )\n",
       "    )\n",
       "  )\n",
       "  (FDS): FDS()\n",
       "  (FDS_dropout): Dropout(p=0.1, inplace=False)\n",
       "  (pred_layer): Linear(in_features=100, out_features=1, bias=True)\n",
       ")"
      ]
     },
     "execution_count": 15,
     "metadata": {},
     "output_type": "execute_result"
    }
   ],
   "source": [
    "deeptabular = TabMlp(\n",
    "    column_idx=tab_preprocessor.column_idx,\n",
    "    continuous_cols=tab_preprocessor.continuous_cols,\n",
    ")\n",
    "model = WideDeep(deeptabular=deeptabular, fds=True)\n",
    "model"
   ]
  },
  {
   "cell_type": "code",
   "execution_count": 16,
   "metadata": {
    "scrolled": false
   },
   "outputs": [
    {
     "name": "stderr",
     "output_type": "stream",
     "text": [
      "epoch 1: 100%|██████████| 331/331 [00:01<00:00, 172.13it/s, loss=1.78, metrics={}]\n",
      "valid: 100%|██████████| 42/42 [00:00<00:00, 105.08it/s, loss=1.71, metrics={}]\n",
      "  0%|          | 0/331 [00:00<?, ?it/s]\n",
      "epoch 2: 100%|██████████| 331/331 [00:02<00:00, 162.28it/s, loss=1.78, metrics={}]\n",
      "valid: 100%|██████████| 42/42 [00:00<00:00, 106.81it/s, loss=1.7, metrics={}] \n",
      "  0%|          | 0/331 [00:00<?, ?it/s]\n",
      "epoch 3: 100%|██████████| 331/331 [00:03<00:00, 89.64it/s, loss=1.78, metrics={}]\n",
      "valid: 100%|██████████| 42/42 [00:00<00:00, 115.11it/s, loss=1.69, metrics={}]\n",
      "  0%|          | 0/331 [00:01<?, ?it/s]\n",
      "epoch 4: 100%|██████████| 331/331 [00:03<00:00, 86.44it/s, loss=1.78, metrics={}] \n",
      "valid: 100%|██████████| 42/42 [00:00<00:00, 94.20it/s, loss=1.69, metrics={}] \n",
      "  0%|          | 0/331 [00:01<?, ?it/s]\n",
      "epoch 5: 100%|██████████| 331/331 [00:04<00:00, 78.76it/s, loss=1.78, metrics={}]\n",
      "valid: 100%|██████████| 42/42 [00:00<00:00, 94.89it/s, loss=1.72, metrics={}] \n",
      "  0%|          | 0/331 [00:01<?, ?it/s]\n",
      "predict: 100%|██████████| 42/42 [00:00<00:00, 118.68it/s]\n"
     ]
    },
    {
     "name": "stdout",
     "output_type": "stream",
     "text": [
      "test RMSE: 2.1421520310627966\n"
     ]
    }
   ],
   "source": [
    "# Optimizers\n",
    "deep_opt = SGD(model.deeptabular.parameters(), lr=0.1)\n",
    "# LR Scheduler\n",
    "deep_sch = lr_scheduler.StepLR(deep_opt, step_size=3)\n",
    "# Hyperparameters\n",
    "trainer = Trainer(\n",
    "    model,\n",
    "    objective=\"huber\",\n",
    "    lr_schedulers={\"deeptabular\": deep_sch},\n",
    "    initializers={\n",
    "        \"deeptabular\": XavierNormal,\n",
    "        \"FDS\": XavierNormal,\n",
    "        \"FDS_dropout\": XavierNormal,\n",
    "        \"pred_layer\": XavierNormal,\n",
    "    },\n",
    "    optimizers={\"deeptabular\": deep_opt},\n",
    "    metrics=[],\n",
    ")\n",
    "\n",
    "trainer.fit(X_train=X_train, X_val=X_val, n_epochs=5, batch_size=50)\n",
    "\n",
    "print(\n",
    "    f\"test RMSE: {mean_squared_error(y_test, trainer.predict(X_tab=X_tab_test), squared=False)}\"\n",
    ")"
   ]
  },
  {
   "cell_type": "markdown",
   "metadata": {},
   "source": [
    "# Model with LDS only"
   ]
  },
  {
   "cell_type": "code",
   "execution_count": 17,
   "metadata": {},
   "outputs": [
    {
     "name": "stderr",
     "output_type": "stream",
     "text": [
      "epoch 1: 100%|██████████| 331/331 [00:02<00:00, 158.02it/s, loss=0.567, metrics={}]\n",
      "valid: 100%|██████████| 42/42 [00:00<00:00, 115.27it/s, loss=0.431, metrics={}]\n",
      "epoch 2: 100%|██████████| 331/331 [00:02<00:00, 157.53it/s, loss=0.513, metrics={}]\n",
      "valid: 100%|██████████| 42/42 [00:00<00:00, 89.29it/s, loss=0.417, metrics={}]\n",
      "epoch 3: 100%|██████████| 331/331 [00:02<00:00, 122.29it/s, loss=0.5, metrics={}]  \n",
      "valid: 100%|██████████| 42/42 [00:00<00:00, 87.43it/s, loss=0.49, metrics={}] \n",
      "epoch 4: 100%|██████████| 331/331 [00:02<00:00, 120.12it/s, loss=0.482, metrics={}]\n",
      "valid: 100%|██████████| 42/42 [00:00<00:00, 85.78it/s, loss=0.396, metrics={}]\n",
      "epoch 5: 100%|██████████| 331/331 [00:02<00:00, 117.07it/s, loss=0.486, metrics={}]\n",
      "valid: 100%|██████████| 42/42 [00:00<00:00, 75.87it/s, loss=0.445, metrics={}] \n",
      "predict: 100%|██████████| 42/42 [00:00<00:00, 112.46it/s]\n"
     ]
    },
    {
     "name": "stdout",
     "output_type": "stream",
     "text": [
      "test RMSE: 0.6921908298270133\n"
     ]
    }
   ],
   "source": [
    "deeptabular = TabMlp(\n",
    "    column_idx=tab_preprocessor.column_idx,\n",
    "    continuous_cols=tab_preprocessor.continuous_cols,\n",
    ")\n",
    "model = WideDeep(deeptabular=deeptabular, fds=False)\n",
    "\n",
    "# Optimizers\n",
    "deep_opt = SGD(model.deeptabular.parameters(), lr=0.1)\n",
    "# LR Scheduler\n",
    "deep_sch = lr_scheduler.StepLR(deep_opt, step_size=3)\n",
    "# Hyperparameters\n",
    "trainer = Trainer(\n",
    "    model,\n",
    "    objective=\"huber\",\n",
    "    lr_schedulers={\"deeptabular\": deep_sch},\n",
    "    initializers={\"deeptabular\": XavierNormal},\n",
    "    optimizers={\"deeptabular\": deep_opt},\n",
    "    metrics=[],\n",
    ")\n",
    "\n",
    "trainer.fit(X_train=X_train, X_val=X_val, n_epochs=5, batch_size=50)\n",
    "\n",
    "print(\n",
    "    f\"test RMSE: {mean_squared_error(y_test, trainer.predict(X_tab=X_tab_test), squared=False)}\"\n",
    ")"
   ]
  },
  {
   "cell_type": "markdown",
   "metadata": {},
   "source": [
    "# Model without FDS or LDS"
   ]
  },
  {
   "cell_type": "code",
   "execution_count": 18,
   "metadata": {},
   "outputs": [
    {
     "name": "stderr",
     "output_type": "stream",
     "text": [
      "epoch 1: 100%|██████████| 331/331 [00:01<00:00, 181.58it/s, loss=0.546, metrics={}]\n",
      "valid: 100%|██████████| 42/42 [00:00<00:00, 125.48it/s, loss=0.511, metrics={}]\n",
      "epoch 2: 100%|██████████| 331/331 [00:01<00:00, 184.87it/s, loss=0.499, metrics={}]\n",
      "valid: 100%|██████████| 42/42 [00:00<00:00, 122.41it/s, loss=0.483, metrics={}]\n",
      "epoch 3: 100%|██████████| 331/331 [00:01<00:00, 172.45it/s, loss=0.482, metrics={}]\n",
      "valid: 100%|██████████| 42/42 [00:00<00:00, 125.93it/s, loss=0.546, metrics={}]\n",
      "epoch 4: 100%|██████████| 331/331 [00:01<00:00, 182.02it/s, loss=0.462, metrics={}]\n",
      "valid: 100%|██████████| 42/42 [00:00<00:00, 128.49it/s, loss=0.398, metrics={}]\n",
      "epoch 5: 100%|██████████| 331/331 [00:01<00:00, 167.53it/s, loss=0.462, metrics={}]\n",
      "valid: 100%|██████████| 42/42 [00:00<00:00, 94.32it/s, loss=0.421, metrics={}] \n",
      "predict: 100%|██████████| 42/42 [00:00<00:00, 172.91it/s]"
     ]
    },
    {
     "name": "stdout",
     "output_type": "stream",
     "text": [
      "test RMSE: 0.6887689192708166\n"
     ]
    },
    {
     "name": "stderr",
     "output_type": "stream",
     "text": [
      "\n"
     ]
    }
   ],
   "source": [
    "# deeptabular\n",
    "tab_preprocessor = TabPreprocessor(continuous_cols=continuous_cols, scale=True)\n",
    "X_tab_train = tab_preprocessor.fit_transform(df_train)\n",
    "X_tab_valid = tab_preprocessor.transform(df_valid)\n",
    "X_tab_test = tab_preprocessor.transform(df_test)\n",
    "\n",
    "# target\n",
    "y_train = df_train[\"MedHouseVal\"].values\n",
    "y_valid = df_valid[\"MedHouseVal\"].values\n",
    "y_test = df_test[\"MedHouseVal\"].values\n",
    "\n",
    "X_train = {\"X_tab\": X_tab_train, \"target\": y_train}\n",
    "X_val = {\"X_tab\": X_tab_valid, \"target\": y_valid}\n",
    "\n",
    "deeptabular = TabMlp(\n",
    "    column_idx=tab_preprocessor.column_idx,\n",
    "    continuous_cols=tab_preprocessor.continuous_cols,\n",
    ")\n",
    "model = WideDeep(deeptabular=deeptabular, fds=False)\n",
    "\n",
    "# Optimizers\n",
    "deep_opt = SGD(model.deeptabular.parameters(), lr=0.1)\n",
    "# LR Scheduler\n",
    "deep_sch = lr_scheduler.StepLR(deep_opt, step_size=3)\n",
    "# Hyperparameters\n",
    "trainer = Trainer(\n",
    "    model,\n",
    "    objective=\"huber\",\n",
    "    lr_schedulers={\"deeptabular\": deep_sch},\n",
    "    initializers={\"deeptabular\": XavierNormal},\n",
    "    optimizers={\"deeptabular\": deep_opt},\n",
    "    metrics=[],\n",
    ")\n",
    "\n",
    "trainer.fit(X_train=X_train, X_val=X_val, n_epochs=5, batch_size=50)\n",
    "\n",
    "print(\n",
    "    f\"test RMSE: {mean_squared_error(y_test, trainer.predict(X_tab=X_tab_test), squared=False)}\"\n",
    ")"
   ]
  }
 ],
 "metadata": {
  "interpreter": {
   "hash": "3b99005fd577fa40f3cce433b2b92303885900e634b2b5344c07c59d06c8792d"
  },
  "kernelspec": {
   "display_name": "Python 3 (ipykernel)",
   "language": "python",
   "name": "python3"
  },
  "language_info": {
   "codemirror_mode": {
    "name": "ipython",
    "version": 3
   },
   "file_extension": ".py",
   "mimetype": "text/x-python",
   "name": "python",
   "nbconvert_exporter": "python",
   "pygments_lexer": "ipython3",
   "version": "3.8.5"
  },
  "toc": {
   "base_numbering": 1,
   "nav_menu": {},
   "number_sections": true,
   "sideBar": true,
   "skip_h1_title": false,
   "title_cell": "Table of Contents",
   "title_sidebar": "Contents",
   "toc_cell": false,
   "toc_position": {},
   "toc_section_display": true,
   "toc_window_display": false
  }
 },
 "nbformat": 4,
 "nbformat_minor": 5
}
