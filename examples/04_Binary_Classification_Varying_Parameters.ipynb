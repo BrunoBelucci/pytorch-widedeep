{
 "cells": [
  {
   "cell_type": "markdown",
   "metadata": {},
   "source": [
    "## Binary Classification with different optimizers, schedulers, etc.\n",
    "\n",
    "In this notebook we will use the Adult Census dataset. Download the data from [here](https://www.kaggle.com/wenruliu/adult-income-dataset/downloads/adult.csv/2)."
   ]
  },
  {
   "cell_type": "code",
   "execution_count": 1,
   "metadata": {},
   "outputs": [],
   "source": [
    "import numpy as np\n",
    "import pandas as pd\n",
    "import torch\n",
    "\n",
    "from pytorch_widedeep import Trainer\n",
    "from pytorch_widedeep.preprocessing import WidePreprocessor, TabPreprocessor\n",
    "from pytorch_widedeep.models import Wide, TabMlp, WideDeep\n",
    "from pytorch_widedeep.metrics import Accuracy, Recall"
   ]
  },
  {
   "cell_type": "code",
   "execution_count": 2,
   "metadata": {},
   "outputs": [
    {
     "data": {
      "text/html": [
       "<div>\n",
       "<style scoped>\n",
       "    .dataframe tbody tr th:only-of-type {\n",
       "        vertical-align: middle;\n",
       "    }\n",
       "\n",
       "    .dataframe tbody tr th {\n",
       "        vertical-align: top;\n",
       "    }\n",
       "\n",
       "    .dataframe thead th {\n",
       "        text-align: right;\n",
       "    }\n",
       "</style>\n",
       "<table border=\"1\" class=\"dataframe\">\n",
       "  <thead>\n",
       "    <tr style=\"text-align: right;\">\n",
       "      <th></th>\n",
       "      <th>age</th>\n",
       "      <th>workclass</th>\n",
       "      <th>fnlwgt</th>\n",
       "      <th>education</th>\n",
       "      <th>educational-num</th>\n",
       "      <th>marital-status</th>\n",
       "      <th>occupation</th>\n",
       "      <th>relationship</th>\n",
       "      <th>race</th>\n",
       "      <th>gender</th>\n",
       "      <th>capital-gain</th>\n",
       "      <th>capital-loss</th>\n",
       "      <th>hours-per-week</th>\n",
       "      <th>native-country</th>\n",
       "      <th>income</th>\n",
       "    </tr>\n",
       "  </thead>\n",
       "  <tbody>\n",
       "    <tr>\n",
       "      <th>0</th>\n",
       "      <td>25</td>\n",
       "      <td>Private</td>\n",
       "      <td>226802</td>\n",
       "      <td>11th</td>\n",
       "      <td>7</td>\n",
       "      <td>Never-married</td>\n",
       "      <td>Machine-op-inspct</td>\n",
       "      <td>Own-child</td>\n",
       "      <td>Black</td>\n",
       "      <td>Male</td>\n",
       "      <td>0</td>\n",
       "      <td>0</td>\n",
       "      <td>40</td>\n",
       "      <td>United-States</td>\n",
       "      <td>&lt;=50K</td>\n",
       "    </tr>\n",
       "    <tr>\n",
       "      <th>1</th>\n",
       "      <td>38</td>\n",
       "      <td>Private</td>\n",
       "      <td>89814</td>\n",
       "      <td>HS-grad</td>\n",
       "      <td>9</td>\n",
       "      <td>Married-civ-spouse</td>\n",
       "      <td>Farming-fishing</td>\n",
       "      <td>Husband</td>\n",
       "      <td>White</td>\n",
       "      <td>Male</td>\n",
       "      <td>0</td>\n",
       "      <td>0</td>\n",
       "      <td>50</td>\n",
       "      <td>United-States</td>\n",
       "      <td>&lt;=50K</td>\n",
       "    </tr>\n",
       "    <tr>\n",
       "      <th>2</th>\n",
       "      <td>28</td>\n",
       "      <td>Local-gov</td>\n",
       "      <td>336951</td>\n",
       "      <td>Assoc-acdm</td>\n",
       "      <td>12</td>\n",
       "      <td>Married-civ-spouse</td>\n",
       "      <td>Protective-serv</td>\n",
       "      <td>Husband</td>\n",
       "      <td>White</td>\n",
       "      <td>Male</td>\n",
       "      <td>0</td>\n",
       "      <td>0</td>\n",
       "      <td>40</td>\n",
       "      <td>United-States</td>\n",
       "      <td>&gt;50K</td>\n",
       "    </tr>\n",
       "    <tr>\n",
       "      <th>3</th>\n",
       "      <td>44</td>\n",
       "      <td>Private</td>\n",
       "      <td>160323</td>\n",
       "      <td>Some-college</td>\n",
       "      <td>10</td>\n",
       "      <td>Married-civ-spouse</td>\n",
       "      <td>Machine-op-inspct</td>\n",
       "      <td>Husband</td>\n",
       "      <td>Black</td>\n",
       "      <td>Male</td>\n",
       "      <td>7688</td>\n",
       "      <td>0</td>\n",
       "      <td>40</td>\n",
       "      <td>United-States</td>\n",
       "      <td>&gt;50K</td>\n",
       "    </tr>\n",
       "    <tr>\n",
       "      <th>4</th>\n",
       "      <td>18</td>\n",
       "      <td>?</td>\n",
       "      <td>103497</td>\n",
       "      <td>Some-college</td>\n",
       "      <td>10</td>\n",
       "      <td>Never-married</td>\n",
       "      <td>?</td>\n",
       "      <td>Own-child</td>\n",
       "      <td>White</td>\n",
       "      <td>Female</td>\n",
       "      <td>0</td>\n",
       "      <td>0</td>\n",
       "      <td>30</td>\n",
       "      <td>United-States</td>\n",
       "      <td>&lt;=50K</td>\n",
       "    </tr>\n",
       "  </tbody>\n",
       "</table>\n",
       "</div>"
      ],
      "text/plain": [
       "   age  workclass  fnlwgt     education  educational-num      marital-status  \\\n",
       "0   25    Private  226802          11th                7       Never-married   \n",
       "1   38    Private   89814       HS-grad                9  Married-civ-spouse   \n",
       "2   28  Local-gov  336951    Assoc-acdm               12  Married-civ-spouse   \n",
       "3   44    Private  160323  Some-college               10  Married-civ-spouse   \n",
       "4   18          ?  103497  Some-college               10       Never-married   \n",
       "\n",
       "          occupation relationship   race  gender  capital-gain  capital-loss  \\\n",
       "0  Machine-op-inspct    Own-child  Black    Male             0             0   \n",
       "1    Farming-fishing      Husband  White    Male             0             0   \n",
       "2    Protective-serv      Husband  White    Male             0             0   \n",
       "3  Machine-op-inspct      Husband  Black    Male          7688             0   \n",
       "4                  ?    Own-child  White  Female             0             0   \n",
       "\n",
       "   hours-per-week native-country income  \n",
       "0              40  United-States  <=50K  \n",
       "1              50  United-States  <=50K  \n",
       "2              40  United-States   >50K  \n",
       "3              40  United-States   >50K  \n",
       "4              30  United-States  <=50K  "
      ]
     },
     "execution_count": 2,
     "metadata": {},
     "output_type": "execute_result"
    }
   ],
   "source": [
    "df = pd.read_csv('data/adult/adult.csv.zip')\n",
    "df.head()"
   ]
  },
  {
   "cell_type": "code",
   "execution_count": 3,
   "metadata": {},
   "outputs": [
    {
     "data": {
      "text/html": [
       "<div>\n",
       "<style scoped>\n",
       "    .dataframe tbody tr th:only-of-type {\n",
       "        vertical-align: middle;\n",
       "    }\n",
       "\n",
       "    .dataframe tbody tr th {\n",
       "        vertical-align: top;\n",
       "    }\n",
       "\n",
       "    .dataframe thead th {\n",
       "        text-align: right;\n",
       "    }\n",
       "</style>\n",
       "<table border=\"1\" class=\"dataframe\">\n",
       "  <thead>\n",
       "    <tr style=\"text-align: right;\">\n",
       "      <th></th>\n",
       "      <th>age</th>\n",
       "      <th>workclass</th>\n",
       "      <th>fnlwgt</th>\n",
       "      <th>education</th>\n",
       "      <th>educational_num</th>\n",
       "      <th>marital_status</th>\n",
       "      <th>occupation</th>\n",
       "      <th>relationship</th>\n",
       "      <th>race</th>\n",
       "      <th>gender</th>\n",
       "      <th>capital_gain</th>\n",
       "      <th>capital_loss</th>\n",
       "      <th>hours_per_week</th>\n",
       "      <th>native_country</th>\n",
       "      <th>income_label</th>\n",
       "    </tr>\n",
       "  </thead>\n",
       "  <tbody>\n",
       "    <tr>\n",
       "      <th>0</th>\n",
       "      <td>25</td>\n",
       "      <td>Private</td>\n",
       "      <td>226802</td>\n",
       "      <td>11th</td>\n",
       "      <td>7</td>\n",
       "      <td>Never-married</td>\n",
       "      <td>Machine-op-inspct</td>\n",
       "      <td>Own-child</td>\n",
       "      <td>Black</td>\n",
       "      <td>Male</td>\n",
       "      <td>0</td>\n",
       "      <td>0</td>\n",
       "      <td>40</td>\n",
       "      <td>United-States</td>\n",
       "      <td>0</td>\n",
       "    </tr>\n",
       "    <tr>\n",
       "      <th>1</th>\n",
       "      <td>38</td>\n",
       "      <td>Private</td>\n",
       "      <td>89814</td>\n",
       "      <td>HS-grad</td>\n",
       "      <td>9</td>\n",
       "      <td>Married-civ-spouse</td>\n",
       "      <td>Farming-fishing</td>\n",
       "      <td>Husband</td>\n",
       "      <td>White</td>\n",
       "      <td>Male</td>\n",
       "      <td>0</td>\n",
       "      <td>0</td>\n",
       "      <td>50</td>\n",
       "      <td>United-States</td>\n",
       "      <td>0</td>\n",
       "    </tr>\n",
       "    <tr>\n",
       "      <th>2</th>\n",
       "      <td>28</td>\n",
       "      <td>Local-gov</td>\n",
       "      <td>336951</td>\n",
       "      <td>Assoc-acdm</td>\n",
       "      <td>12</td>\n",
       "      <td>Married-civ-spouse</td>\n",
       "      <td>Protective-serv</td>\n",
       "      <td>Husband</td>\n",
       "      <td>White</td>\n",
       "      <td>Male</td>\n",
       "      <td>0</td>\n",
       "      <td>0</td>\n",
       "      <td>40</td>\n",
       "      <td>United-States</td>\n",
       "      <td>1</td>\n",
       "    </tr>\n",
       "    <tr>\n",
       "      <th>3</th>\n",
       "      <td>44</td>\n",
       "      <td>Private</td>\n",
       "      <td>160323</td>\n",
       "      <td>Some-college</td>\n",
       "      <td>10</td>\n",
       "      <td>Married-civ-spouse</td>\n",
       "      <td>Machine-op-inspct</td>\n",
       "      <td>Husband</td>\n",
       "      <td>Black</td>\n",
       "      <td>Male</td>\n",
       "      <td>7688</td>\n",
       "      <td>0</td>\n",
       "      <td>40</td>\n",
       "      <td>United-States</td>\n",
       "      <td>1</td>\n",
       "    </tr>\n",
       "    <tr>\n",
       "      <th>4</th>\n",
       "      <td>18</td>\n",
       "      <td>?</td>\n",
       "      <td>103497</td>\n",
       "      <td>Some-college</td>\n",
       "      <td>10</td>\n",
       "      <td>Never-married</td>\n",
       "      <td>?</td>\n",
       "      <td>Own-child</td>\n",
       "      <td>White</td>\n",
       "      <td>Female</td>\n",
       "      <td>0</td>\n",
       "      <td>0</td>\n",
       "      <td>30</td>\n",
       "      <td>United-States</td>\n",
       "      <td>0</td>\n",
       "    </tr>\n",
       "  </tbody>\n",
       "</table>\n",
       "</div>"
      ],
      "text/plain": [
       "   age  workclass  fnlwgt     education  educational_num      marital_status  \\\n",
       "0   25    Private  226802          11th                7       Never-married   \n",
       "1   38    Private   89814       HS-grad                9  Married-civ-spouse   \n",
       "2   28  Local-gov  336951    Assoc-acdm               12  Married-civ-spouse   \n",
       "3   44    Private  160323  Some-college               10  Married-civ-spouse   \n",
       "4   18          ?  103497  Some-college               10       Never-married   \n",
       "\n",
       "          occupation relationship   race  gender  capital_gain  capital_loss  \\\n",
       "0  Machine-op-inspct    Own-child  Black    Male             0             0   \n",
       "1    Farming-fishing      Husband  White    Male             0             0   \n",
       "2    Protective-serv      Husband  White    Male             0             0   \n",
       "3  Machine-op-inspct      Husband  Black    Male          7688             0   \n",
       "4                  ?    Own-child  White  Female             0             0   \n",
       "\n",
       "   hours_per_week native_country  income_label  \n",
       "0              40  United-States             0  \n",
       "1              50  United-States             0  \n",
       "2              40  United-States             1  \n",
       "3              40  United-States             1  \n",
       "4              30  United-States             0  "
      ]
     },
     "execution_count": 3,
     "metadata": {},
     "output_type": "execute_result"
    }
   ],
   "source": [
    "# For convenience, we'll replace '-' with '_'\n",
    "df.columns = [c.replace(\"-\", \"_\") for c in df.columns]\n",
    "# binary target\n",
    "df['income_label'] = (df[\"income\"].apply(lambda x: \">50K\" in x)).astype(int)\n",
    "df.drop('income', axis=1, inplace=True)\n",
    "df.head()"
   ]
  },
  {
   "cell_type": "markdown",
   "metadata": {},
   "source": [
    "### Preparing the data\n",
    "\n",
    "Have a look to notebooks one and two if you want to get a good understanding of the next few lines of code (although there is no need to use the package)"
   ]
  },
  {
   "cell_type": "code",
   "execution_count": 4,
   "metadata": {},
   "outputs": [],
   "source": [
    "wide_cols = ['education', 'relationship','workclass','occupation','native_country','gender']\n",
    "crossed_cols = [('education', 'occupation'), ('native_country', 'occupation')]\n",
    "cat_embed_cols = [('education',16), ('relationship',8), ('workclass',16), ('occupation',16),('native_country',16)]\n",
    "continuous_cols = [\"age\",\"hours_per_week\"]\n",
    "target_col = 'income_label'"
   ]
  },
  {
   "cell_type": "code",
   "execution_count": 5,
   "metadata": {},
   "outputs": [],
   "source": [
    "# TARGET\n",
    "target = df[target_col].values\n",
    "\n",
    "# WIDE\n",
    "wide_preprocessor = WidePreprocessor(wide_cols=wide_cols, crossed_cols=crossed_cols)\n",
    "X_wide = wide_preprocessor.fit_transform(df)\n",
    "\n",
    "# DEEP\n",
    "tab_preprocessor = TabPreprocessor(embed_cols=cat_embed_cols, continuous_cols=continuous_cols)\n",
    "X_tab = tab_preprocessor.fit_transform(df)"
   ]
  },
  {
   "cell_type": "code",
   "execution_count": 6,
   "metadata": {},
   "outputs": [
    {
     "name": "stdout",
     "output_type": "stream",
     "text": [
      "[[  1  17  23 ...  89  91 316]\n",
      " [  2  18  23 ...  89  92 317]\n",
      " [  3  18  24 ...  89  93 318]\n",
      " ...\n",
      " [  2  20  23 ...  90 103 323]\n",
      " [  2  17  23 ...  89 103 323]\n",
      " [  2  21  29 ...  90 115 324]]\n",
      "(48842, 8)\n"
     ]
    }
   ],
   "source": [
    "print(X_wide)\n",
    "print(X_wide.shape)"
   ]
  },
  {
   "cell_type": "code",
   "execution_count": 7,
   "metadata": {},
   "outputs": [
    {
     "name": "stdout",
     "output_type": "stream",
     "text": [
      "[[ 1.          1.          1.         ...  1.         -0.99512893\n",
      "  -0.03408696]\n",
      " [ 2.          2.          1.         ...  1.         -0.04694151\n",
      "   0.77292975]\n",
      " [ 3.          2.          2.         ...  1.         -0.77631645\n",
      "  -0.03408696]\n",
      " ...\n",
      " [ 2.          4.          1.         ...  1.          1.41180837\n",
      "  -0.03408696]\n",
      " [ 2.          1.          1.         ...  1.         -1.21394141\n",
      "  -1.64812038]\n",
      " [ 2.          5.          7.         ...  1.          0.97418341\n",
      "  -0.03408696]]\n",
      "(48842, 7)\n"
     ]
    }
   ],
   "source": [
    "print(X_tab)\n",
    "print(X_tab.shape)"
   ]
  },
  {
   "cell_type": "markdown",
   "metadata": {},
   "source": [
    "As you can see, you can run a wide and deep model in just a few lines of code\n",
    "\n",
    "Let's now see how to use `WideDeep` with varying parameters"
   ]
  },
  {
   "cell_type": "markdown",
   "metadata": {},
   "source": [
    "###  2.1 Dropout and Batchnorm"
   ]
  },
  {
   "cell_type": "code",
   "execution_count": 8,
   "metadata": {},
   "outputs": [],
   "source": [
    "?TabMlp"
   ]
  },
  {
   "cell_type": "code",
   "execution_count": 9,
   "metadata": {},
   "outputs": [],
   "source": [
    "wide = Wide(wide_dim=np.unique(X_wide).shape[0], pred_dim=1)\n",
    "# We can add dropout and batchnorm to the dense layers, as well as chose the order of the operations\n",
    "deeptabular = TabMlp(column_idx=tab_preprocessor.column_idx,\n",
    "                   mlp_hidden_dims=[64,32], \n",
    "                   mlp_dropout=[0.5, 0.5], \n",
    "                   mlp_batchnorm=True, \n",
    "                   mlp_linear_first = True,\n",
    "                   embed_input=tab_preprocessor.embeddings_input,\n",
    "                   continuous_cols=continuous_cols)\n",
    "model = WideDeep(wide=wide, deeptabular=deeptabular)"
   ]
  },
  {
   "cell_type": "code",
   "execution_count": 10,
   "metadata": {},
   "outputs": [
    {
     "data": {
      "text/plain": [
       "WideDeep(\n",
       "  (wide): Wide(\n",
       "    (wide_linear): Embedding(797, 1, padding_idx=0)\n",
       "  )\n",
       "  (deeptabular): Sequential(\n",
       "    (0): TabMlp(\n",
       "      (embed_layers): ModuleDict(\n",
       "        (emb_layer_education): Embedding(17, 16, padding_idx=0)\n",
       "        (emb_layer_native_country): Embedding(43, 16, padding_idx=0)\n",
       "        (emb_layer_occupation): Embedding(16, 16, padding_idx=0)\n",
       "        (emb_layer_relationship): Embedding(7, 8, padding_idx=0)\n",
       "        (emb_layer_workclass): Embedding(10, 16, padding_idx=0)\n",
       "      )\n",
       "      (embedding_dropout): Dropout(p=0.0, inplace=False)\n",
       "      (tab_mlp): MLP(\n",
       "        (mlp): Sequential(\n",
       "          (dense_layer_0): Sequential(\n",
       "            (0): Linear(in_features=74, out_features=64, bias=False)\n",
       "            (1): ReLU(inplace=True)\n",
       "            (2): BatchNorm1d(64, eps=1e-05, momentum=0.1, affine=True, track_running_stats=True)\n",
       "            (3): Dropout(p=0.5, inplace=False)\n",
       "          )\n",
       "          (dense_layer_1): Sequential(\n",
       "            (0): Linear(in_features=64, out_features=32, bias=True)\n",
       "            (1): ReLU(inplace=True)\n",
       "            (2): Dropout(p=0.5, inplace=False)\n",
       "          )\n",
       "        )\n",
       "      )\n",
       "    )\n",
       "    (1): Linear(in_features=32, out_features=1, bias=True)\n",
       "  )\n",
       ")"
      ]
     },
     "execution_count": 10,
     "metadata": {},
     "output_type": "execute_result"
    }
   ],
   "source": [
    "model"
   ]
  },
  {
   "cell_type": "markdown",
   "metadata": {},
   "source": [
    "We can use different initializers, optimizers and learning rate schedulers for each `branch` of the model"
   ]
  },
  {
   "cell_type": "markdown",
   "metadata": {},
   "source": [
    "###  Optimizers, LR schedulers, Initializers and Callbacks"
   ]
  },
  {
   "cell_type": "code",
   "execution_count": 11,
   "metadata": {},
   "outputs": [],
   "source": [
    "from pytorch_widedeep.initializers import KaimingNormal, XavierNormal\n",
    "from pytorch_widedeep.callbacks import ModelCheckpoint, LRHistory, EarlyStopping\n",
    "from pytorch_widedeep.optim import RAdam"
   ]
  },
  {
   "cell_type": "code",
   "execution_count": 12,
   "metadata": {},
   "outputs": [],
   "source": [
    "# Optimizers\n",
    "wide_opt = torch.optim.Adam(model.wide.parameters(), lr=0.03)\n",
    "deep_opt = RAdam(model.deeptabular.parameters(), lr=0.01)\n",
    "# LR Schedulers\n",
    "wide_sch = torch.optim.lr_scheduler.StepLR(wide_opt, step_size=3)\n",
    "deep_sch = torch.optim.lr_scheduler.StepLR(deep_opt, step_size=5)"
   ]
  },
  {
   "cell_type": "markdown",
   "metadata": {},
   "source": [
    "the component-dependent settings must be passed as dictionaries, while general settings are simply lists"
   ]
  },
  {
   "cell_type": "code",
   "execution_count": 13,
   "metadata": {},
   "outputs": [],
   "source": [
    "# Component-dependent settings as Dict\n",
    "optimizers = {'wide': wide_opt, 'deeptabular':deep_opt}\n",
    "schedulers = {'wide': wide_sch, 'deeptabular':deep_sch}\n",
    "initializers = {'wide': KaimingNormal, 'deeptabular':XavierNormal}\n",
    "# General settings as List\n",
    "callbacks = [LRHistory(n_epochs=10), EarlyStopping, ModelCheckpoint(filepath='model_weights/wd_out')]\n",
    "metrics = [Accuracy, Recall]"
   ]
  },
  {
   "cell_type": "code",
   "execution_count": 14,
   "metadata": {},
   "outputs": [],
   "source": [
    "trainer = Trainer(model, \n",
    "                  objective='binary', \n",
    "                  optimizers=optimizers, \n",
    "                  lr_schedulers=schedulers,\n",
    "                  initializers=initializers,\n",
    "                  callbacks=callbacks,\n",
    "                  metrics=metrics\n",
    "                 )"
   ]
  },
  {
   "cell_type": "code",
   "execution_count": 16,
   "metadata": {},
   "outputs": [
    {
     "name": "stderr",
     "output_type": "stream",
     "text": [
      "epoch 1: 100%|██████████| 153/153 [00:03<00:00, 46.93it/s, loss=0.597, metrics={'acc': 0.7751, 'rec': 0.4646}]\n",
      "valid: 100%|██████████| 39/39 [00:00<00:00, 115.54it/s, loss=0.365, metrics={'acc': 0.7871, 'rec': 0.4839}]\n",
      "epoch 2: 100%|██████████| 153/153 [00:03<00:00, 48.61it/s, loss=0.373, metrics={'acc': 0.8258, 'rec': 0.5525}]\n",
      "valid: 100%|██████████| 39/39 [00:00<00:00, 126.36it/s, loss=0.354, metrics={'acc': 0.8282, 'rec': 0.5622}]\n",
      "epoch 3: 100%|██████████| 153/153 [00:03<00:00, 46.11it/s, loss=0.356, metrics={'acc': 0.8329, 'rec': 0.5595}]\n",
      "valid: 100%|██████████| 39/39 [00:00<00:00, 114.20it/s, loss=0.351, metrics={'acc': 0.8343, 'rec': 0.5672}]\n",
      "epoch 4: 100%|██████████| 153/153 [00:03<00:00, 45.97it/s, loss=0.346, metrics={'acc': 0.8371, 'rec': 0.574}] \n",
      "valid: 100%|██████████| 39/39 [00:00<00:00, 107.73it/s, loss=0.349, metrics={'acc': 0.8374, 'rec': 0.5691}]\n",
      "epoch 5: 100%|██████████| 153/153 [00:03<00:00, 46.22it/s, loss=0.345, metrics={'acc': 0.8384, 'rec': 0.571}] \n",
      "valid: 100%|██████████| 39/39 [00:00<00:00, 115.02it/s, loss=0.348, metrics={'acc': 0.8387, 'rec': 0.567}] \n",
      "epoch 6: 100%|██████████| 153/153 [00:03<00:00, 46.08it/s, loss=0.344, metrics={'acc': 0.8397, 'rec': 0.5702}]\n",
      "valid: 100%|██████████| 39/39 [00:00<00:00, 114.94it/s, loss=0.347, metrics={'acc': 0.8398, 'rec': 0.5666}]\n",
      "epoch 7: 100%|██████████| 153/153 [00:03<00:00, 48.03it/s, loss=0.342, metrics={'acc': 0.8404, 'rec': 0.5692}]\n",
      "valid: 100%|██████████| 39/39 [00:00<00:00, 120.91it/s, loss=0.347, metrics={'acc': 0.8405, 'rec': 0.5672}]\n",
      "epoch 8: 100%|██████████| 153/153 [00:03<00:00, 46.60it/s, loss=0.342, metrics={'acc': 0.8408, 'rec': 0.573}] \n",
      "valid: 100%|██████████| 39/39 [00:00<00:00, 117.20it/s, loss=0.347, metrics={'acc': 0.8408, 'rec': 0.5705}]\n",
      "epoch 9: 100%|██████████| 153/153 [00:03<00:00, 47.54it/s, loss=0.34, metrics={'acc': 0.8417, 'rec': 0.5744}] \n",
      "valid: 100%|██████████| 39/39 [00:00<00:00, 116.07it/s, loss=0.346, metrics={'acc': 0.8419, 'rec': 0.5733}]\n",
      "epoch 10: 100%|██████████| 153/153 [00:03<00:00, 47.99it/s, loss=0.341, metrics={'acc': 0.8413, 'rec': 0.5786}]\n",
      "valid: 100%|██████████| 39/39 [00:00<00:00, 112.61it/s, loss=0.346, metrics={'acc': 0.8416, 'rec': 0.5763}]\n"
     ]
    }
   ],
   "source": [
    "trainer.fit(X_wide=X_wide, X_tab=X_tab, target=target, n_epochs=10, batch_size=256, val_split=0.2)"
   ]
  },
  {
   "cell_type": "markdown",
   "metadata": {},
   "source": [
    "You see that, among many methods and attributes we have the `history` and `lr_history` attributes"
   ]
  },
  {
   "cell_type": "code",
   "execution_count": 18,
   "metadata": {},
   "outputs": [
    {
     "name": "stdout",
     "output_type": "stream",
     "text": [
      "{'train_loss': [0.5969724349336687, 0.3732765291640961, 0.35611476909880546, 0.3463761859080371, 0.34545664167871665, 0.34359567286142334, 0.3418893502428641, 0.34155894767225176, 0.33982853737531926, 0.3406260426527534], 'train_acc': [0.7750876564379495, 0.8257620351649476, 0.8328513295626135, 0.8371253806976685, 0.838405036726128, 0.8396590996340184, 0.8404013001305249, 0.8408363831802012, 0.8417321424001228, 0.8412970593504466], 'train_rec': [0.46464863419532776, 0.5524654984474182, 0.5595250725746155, 0.5739651322364807, 0.5709701776504517, 0.5702214241027832, 0.569151759147644, 0.5730024576187134, 0.5743929743766785, 0.5785645246505737], 'val_loss': [0.3653175265361101, 0.35369565853705776, 0.3509304424126943, 0.34885044204883087, 0.3483696549366682, 0.34747094985766286, 0.34690968424845964, 0.34662194358996856, 0.3462058512064127, 0.34638020854729873], 'val_acc': [0.7871094549772737, 0.8282011383645224, 0.8343229187993939, 0.8373735719258015, 0.8386839195774128, 0.8398099995905164, 0.840465173416322, 0.8407722861471684, 0.8418778919782155, 0.8415707792473691], 'val_rec': [0.4838709533214569, 0.5622486472129822, 0.5672114491462708, 0.5690938830375671, 0.5669547319412231, 0.5666124820709229, 0.5672114491462708, 0.5705484747886658, 0.5732865333557129, 0.5762813091278076]}\n"
     ]
    }
   ],
   "source": [
    "print(trainer.history)"
   ]
  },
  {
   "cell_type": "code",
   "execution_count": 19,
   "metadata": {},
   "outputs": [
    {
     "name": "stdout",
     "output_type": "stream",
     "text": [
      "{'lr_wide_0': [0.03, 0.03, 0.03, 0.003, 0.003, 0.003, 0.00030000000000000003, 0.00030000000000000003, 0.00030000000000000003, 3.0000000000000004e-05], 'lr_deeptabular_0': [0.01, 0.01, 0.01, 0.01, 0.01, 0.001, 0.001, 0.001, 0.001, 0.001]}\n"
     ]
    }
   ],
   "source": [
    "print(trainer.lr_history)"
   ]
  },
  {
   "cell_type": "markdown",
   "metadata": {},
   "source": [
    "We can see that the learning rate effectively decreases by a factor of 0.1 (the default) after the corresponding `step_size`. Note that the keys of the dictionary have a suffix `_0`. This is because if you pass different parameter groups to the torch optimizers, these will also be recorded. We'll see this in the `Regression` notebook. \n",
    "\n",
    "And I guess one has a good idea of how to use the package. Before we leave this notebook just mentioning that the `WideDeep` class comes with a useful method to \"rescue\" the learned embeddings. For example, let's say I want to use the embeddings learned for the different levels of the categorical feature `education`"
   ]
  },
  {
   "cell_type": "code",
   "execution_count": 20,
   "metadata": {},
   "outputs": [
    {
     "data": {
      "text/plain": [
       "{'11th': array([-0.04348978,  0.45022243,  0.18464865,  0.06992336, -0.34323215,\n",
       "         0.20416489, -0.310977  ,  0.02868079,  0.35072434, -0.16913618,\n",
       "         0.36890852, -0.11342919,  0.12130431,  0.40069175,  0.13254811,\n",
       "         0.11155065], dtype=float32),\n",
       " 'HS-grad': array([ 0.02742365, -0.06904709,  0.07933907, -0.28882706,  0.05550014,\n",
       "        -0.2779799 , -0.17582755, -0.01317326, -0.36928716,  0.31297338,\n",
       "        -0.26600584, -0.24179696,  0.29325986, -0.41419625,  0.11772554,\n",
       "        -0.14493649], dtype=float32),\n",
       " 'Assoc-acdm': array([-0.22545657, -0.09746448,  0.25342208,  0.04131372, -0.0871982 ,\n",
       "         0.13787483,  0.25658223,  0.08221256, -0.5716772 , -0.08774945,\n",
       "        -0.55335015,  0.0017394 ,  0.02402168, -0.06060516, -0.13931672,\n",
       "         0.01669413], dtype=float32),\n",
       " 'Some-college': array([ 0.17594509,  0.1466892 , -0.68583024,  0.00980275, -0.03707155,\n",
       "         0.28042212, -0.34241527,  0.4351751 ,  0.25033662, -0.03148668,\n",
       "        -0.321893  ,  0.40399942, -0.5674298 , -0.02260252,  0.2621312 ,\n",
       "        -0.10904442], dtype=float32),\n",
       " '10th': array([ 0.08897612,  0.13813983, -0.4401661 , -0.11018619,  0.01706753,\n",
       "         0.02297777,  0.10604484, -0.23632582, -0.02791097,  0.09928191,\n",
       "         0.12611109, -0.3399733 , -0.08097082,  0.04310338,  0.05402394,\n",
       "         0.09167037], dtype=float32),\n",
       " 'Prof-school': array([-0.13230833,  0.30403477,  0.18878782,  0.0359535 ,  0.34591165,\n",
       "        -0.11021569,  0.09120046, -0.1949764 ,  0.3930999 , -0.18068184,\n",
       "         0.17961106, -0.04070764, -0.13079984, -0.03907171,  0.0455745 ,\n",
       "         0.47199208], dtype=float32),\n",
       " '7th-8th': array([-0.29865572,  0.11415728,  0.12536658,  0.00378002,  0.28975052,\n",
       "        -0.22565694, -0.5251756 ,  0.01040789, -0.32491142, -0.30591798,\n",
       "         0.5738344 ,  0.19250327,  0.37247634, -0.14377692, -0.01923587,\n",
       "        -0.06072549], dtype=float32),\n",
       " 'Bachelors': array([ 0.1723019 ,  0.31989914,  0.12256616,  0.26207376, -0.09344577,\n",
       "         0.22808018,  0.17641369,  0.24743417,  0.0236766 , -0.29632306,\n",
       "        -0.16781773,  0.3523868 , -0.12384132, -0.04851032, -0.16961683,\n",
       "        -0.24618031], dtype=float32),\n",
       " 'Masters': array([ 0.13513914, -0.12851474,  0.03812106, -0.02004232, -0.25906253,\n",
       "         0.25780964,  0.09860725, -0.15204129,  0.24468958,  0.00484474,\n",
       "        -0.02741181,  0.06918225, -0.3442995 ,  0.05543572,  0.00385709,\n",
       "        -0.00168956], dtype=float32),\n",
       " 'Doctorate': array([ 0.06480617,  0.06599548,  0.46788725,  0.2215901 ,  0.176865  ,\n",
       "         0.66419554,  0.14603733,  0.27713096, -0.04518269, -0.27603534,\n",
       "         0.0126537 , -0.04989887,  0.00106151, -0.04115627,  0.24491031,\n",
       "        -0.0461529 ], dtype=float32),\n",
       " '5th-6th': array([-0.37561294, -0.065245  , -0.01771996,  0.33935246,  0.08604579,\n",
       "        -0.05145234,  0.22218166,  0.18385749, -0.14928755, -0.28778678,\n",
       "         0.4464233 ,  0.5372243 , -0.00726844, -0.07516145, -0.04257993,\n",
       "         0.22239284], dtype=float32),\n",
       " 'Assoc-voc': array([ 0.0685731 , -0.38389382, -0.15890174,  0.03092899,  0.02223977,\n",
       "         0.40036133,  0.2921845 , -0.14623357, -0.16692743, -0.00246648,\n",
       "        -0.09834183,  0.6210861 , -0.18766475, -0.07672001,  0.10467876,\n",
       "         0.34619078], dtype=float32),\n",
       " '9th': array([ 0.1914714 , -0.27201548,  0.14191356,  0.18896139, -0.159099  ,\n",
       "         0.20168377, -0.48705807,  0.32911918, -0.06828134,  0.55074024,\n",
       "         0.04696265,  0.26587102, -0.19233169,  0.15485871,  0.10850937,\n",
       "         0.15025803], dtype=float32),\n",
       " '12th': array([-0.03691688, -0.32224256,  0.22202617,  0.09047873,  0.36252296,\n",
       "        -0.0665689 , -0.18713304,  0.34395042, -0.06633651,  0.06114125,\n",
       "        -0.09275068, -0.20298211, -0.03978887, -0.06105126,  0.24087675,\n",
       "         0.08973746], dtype=float32),\n",
       " '1st-4th': array([ 0.21167594, -0.1836281 ,  0.20151126,  0.06630171, -0.12119894,\n",
       "        -0.11111464, -0.15517879,  0.15029173,  0.15293713,  0.12396568,\n",
       "        -0.19926494, -0.2386844 ,  0.19474643,  0.5253821 ,  0.42930233,\n",
       "         0.03084106], dtype=float32),\n",
       " 'Preschool': array([ 0.3137016 ,  0.16141222, -0.22925621,  0.1221766 ,  0.4623554 ,\n",
       "         0.33529642, -0.04425647,  0.23362024, -0.13050151,  0.31540486,\n",
       "        -0.14875531, -0.19344002, -0.02747717,  0.28883722,  0.0896256 ,\n",
       "         0.14310981], dtype=float32)}"
      ]
     },
     "execution_count": 20,
     "metadata": {},
     "output_type": "execute_result"
    }
   ],
   "source": [
    "trainer.get_embeddings(col_name='education', cat_encoding_dict=tab_preprocessor.label_encoder.encoding_dict)"
   ]
  }
 ],
 "metadata": {
  "kernelspec": {
   "display_name": "Python 3",
   "language": "python",
   "name": "python3"
  },
  "language_info": {
   "codemirror_mode": {
    "name": "ipython",
    "version": 3
   },
   "file_extension": ".py",
   "mimetype": "text/x-python",
   "name": "python",
   "nbconvert_exporter": "python",
   "pygments_lexer": "ipython3",
   "version": "3.7.7"
  }
 },
 "nbformat": 4,
 "nbformat_minor": 2
}
