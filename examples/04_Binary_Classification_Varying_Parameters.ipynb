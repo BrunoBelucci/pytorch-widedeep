{
 "cells": [
  {
   "cell_type": "markdown",
   "metadata": {},
   "source": [
    "## Binary Classification with different optimizers, schedulers, etc.\n",
    "\n",
    "In this notebook we will use the Adult Census dataset. Download the data from [here](https://www.kaggle.com/wenruliu/adult-income-dataset/downloads/adult.csv/2)."
   ]
  },
  {
   "cell_type": "code",
   "execution_count": 1,
   "metadata": {},
   "outputs": [],
   "source": [
    "import numpy as np\n",
    "import pandas as pd\n",
    "import torch\n",
    "\n",
    "from pytorch_widedeep.preprocessing import WidePreprocessor, DeepPreprocessor\n",
    "from pytorch_widedeep.models import Wide, DeepDense, WideDeep\n",
    "from pytorch_widedeep.metrics import BinaryAccuracy"
   ]
  },
  {
   "cell_type": "code",
   "execution_count": 2,
   "metadata": {},
   "outputs": [
    {
     "data": {
      "text/html": [
       "<div>\n",
       "<style scoped>\n",
       "    .dataframe tbody tr th:only-of-type {\n",
       "        vertical-align: middle;\n",
       "    }\n",
       "\n",
       "    .dataframe tbody tr th {\n",
       "        vertical-align: top;\n",
       "    }\n",
       "\n",
       "    .dataframe thead th {\n",
       "        text-align: right;\n",
       "    }\n",
       "</style>\n",
       "<table border=\"1\" class=\"dataframe\">\n",
       "  <thead>\n",
       "    <tr style=\"text-align: right;\">\n",
       "      <th></th>\n",
       "      <th>age</th>\n",
       "      <th>workclass</th>\n",
       "      <th>fnlwgt</th>\n",
       "      <th>education</th>\n",
       "      <th>educational-num</th>\n",
       "      <th>marital-status</th>\n",
       "      <th>occupation</th>\n",
       "      <th>relationship</th>\n",
       "      <th>race</th>\n",
       "      <th>gender</th>\n",
       "      <th>capital-gain</th>\n",
       "      <th>capital-loss</th>\n",
       "      <th>hours-per-week</th>\n",
       "      <th>native-country</th>\n",
       "      <th>income</th>\n",
       "    </tr>\n",
       "  </thead>\n",
       "  <tbody>\n",
       "    <tr>\n",
       "      <td>0</td>\n",
       "      <td>25</td>\n",
       "      <td>Private</td>\n",
       "      <td>226802</td>\n",
       "      <td>11th</td>\n",
       "      <td>7</td>\n",
       "      <td>Never-married</td>\n",
       "      <td>Machine-op-inspct</td>\n",
       "      <td>Own-child</td>\n",
       "      <td>Black</td>\n",
       "      <td>Male</td>\n",
       "      <td>0</td>\n",
       "      <td>0</td>\n",
       "      <td>40</td>\n",
       "      <td>United-States</td>\n",
       "      <td>&lt;=50K</td>\n",
       "    </tr>\n",
       "    <tr>\n",
       "      <td>1</td>\n",
       "      <td>38</td>\n",
       "      <td>Private</td>\n",
       "      <td>89814</td>\n",
       "      <td>HS-grad</td>\n",
       "      <td>9</td>\n",
       "      <td>Married-civ-spouse</td>\n",
       "      <td>Farming-fishing</td>\n",
       "      <td>Husband</td>\n",
       "      <td>White</td>\n",
       "      <td>Male</td>\n",
       "      <td>0</td>\n",
       "      <td>0</td>\n",
       "      <td>50</td>\n",
       "      <td>United-States</td>\n",
       "      <td>&lt;=50K</td>\n",
       "    </tr>\n",
       "    <tr>\n",
       "      <td>2</td>\n",
       "      <td>28</td>\n",
       "      <td>Local-gov</td>\n",
       "      <td>336951</td>\n",
       "      <td>Assoc-acdm</td>\n",
       "      <td>12</td>\n",
       "      <td>Married-civ-spouse</td>\n",
       "      <td>Protective-serv</td>\n",
       "      <td>Husband</td>\n",
       "      <td>White</td>\n",
       "      <td>Male</td>\n",
       "      <td>0</td>\n",
       "      <td>0</td>\n",
       "      <td>40</td>\n",
       "      <td>United-States</td>\n",
       "      <td>&gt;50K</td>\n",
       "    </tr>\n",
       "    <tr>\n",
       "      <td>3</td>\n",
       "      <td>44</td>\n",
       "      <td>Private</td>\n",
       "      <td>160323</td>\n",
       "      <td>Some-college</td>\n",
       "      <td>10</td>\n",
       "      <td>Married-civ-spouse</td>\n",
       "      <td>Machine-op-inspct</td>\n",
       "      <td>Husband</td>\n",
       "      <td>Black</td>\n",
       "      <td>Male</td>\n",
       "      <td>7688</td>\n",
       "      <td>0</td>\n",
       "      <td>40</td>\n",
       "      <td>United-States</td>\n",
       "      <td>&gt;50K</td>\n",
       "    </tr>\n",
       "    <tr>\n",
       "      <td>4</td>\n",
       "      <td>18</td>\n",
       "      <td>?</td>\n",
       "      <td>103497</td>\n",
       "      <td>Some-college</td>\n",
       "      <td>10</td>\n",
       "      <td>Never-married</td>\n",
       "      <td>?</td>\n",
       "      <td>Own-child</td>\n",
       "      <td>White</td>\n",
       "      <td>Female</td>\n",
       "      <td>0</td>\n",
       "      <td>0</td>\n",
       "      <td>30</td>\n",
       "      <td>United-States</td>\n",
       "      <td>&lt;=50K</td>\n",
       "    </tr>\n",
       "  </tbody>\n",
       "</table>\n",
       "</div>"
      ],
      "text/plain": [
       "   age  workclass  fnlwgt     education  educational-num      marital-status  \\\n",
       "0   25    Private  226802          11th                7       Never-married   \n",
       "1   38    Private   89814       HS-grad                9  Married-civ-spouse   \n",
       "2   28  Local-gov  336951    Assoc-acdm               12  Married-civ-spouse   \n",
       "3   44    Private  160323  Some-college               10  Married-civ-spouse   \n",
       "4   18          ?  103497  Some-college               10       Never-married   \n",
       "\n",
       "          occupation relationship   race  gender  capital-gain  capital-loss  \\\n",
       "0  Machine-op-inspct    Own-child  Black    Male             0             0   \n",
       "1    Farming-fishing      Husband  White    Male             0             0   \n",
       "2    Protective-serv      Husband  White    Male             0             0   \n",
       "3  Machine-op-inspct      Husband  Black    Male          7688             0   \n",
       "4                  ?    Own-child  White  Female             0             0   \n",
       "\n",
       "   hours-per-week native-country income  \n",
       "0              40  United-States  <=50K  \n",
       "1              50  United-States  <=50K  \n",
       "2              40  United-States   >50K  \n",
       "3              40  United-States   >50K  \n",
       "4              30  United-States  <=50K  "
      ]
     },
     "execution_count": 2,
     "metadata": {},
     "output_type": "execute_result"
    }
   ],
   "source": [
    "df = pd.read_csv('data/adult/adult.csv.zip')\n",
    "df.head()"
   ]
  },
  {
   "cell_type": "code",
   "execution_count": 3,
   "metadata": {},
   "outputs": [
    {
     "data": {
      "text/html": [
       "<div>\n",
       "<style scoped>\n",
       "    .dataframe tbody tr th:only-of-type {\n",
       "        vertical-align: middle;\n",
       "    }\n",
       "\n",
       "    .dataframe tbody tr th {\n",
       "        vertical-align: top;\n",
       "    }\n",
       "\n",
       "    .dataframe thead th {\n",
       "        text-align: right;\n",
       "    }\n",
       "</style>\n",
       "<table border=\"1\" class=\"dataframe\">\n",
       "  <thead>\n",
       "    <tr style=\"text-align: right;\">\n",
       "      <th></th>\n",
       "      <th>age</th>\n",
       "      <th>workclass</th>\n",
       "      <th>fnlwgt</th>\n",
       "      <th>education</th>\n",
       "      <th>educational_num</th>\n",
       "      <th>marital_status</th>\n",
       "      <th>occupation</th>\n",
       "      <th>relationship</th>\n",
       "      <th>race</th>\n",
       "      <th>gender</th>\n",
       "      <th>capital_gain</th>\n",
       "      <th>capital_loss</th>\n",
       "      <th>hours_per_week</th>\n",
       "      <th>native_country</th>\n",
       "      <th>income_label</th>\n",
       "    </tr>\n",
       "  </thead>\n",
       "  <tbody>\n",
       "    <tr>\n",
       "      <td>0</td>\n",
       "      <td>25</td>\n",
       "      <td>Private</td>\n",
       "      <td>226802</td>\n",
       "      <td>11th</td>\n",
       "      <td>7</td>\n",
       "      <td>Never-married</td>\n",
       "      <td>Machine-op-inspct</td>\n",
       "      <td>Own-child</td>\n",
       "      <td>Black</td>\n",
       "      <td>Male</td>\n",
       "      <td>0</td>\n",
       "      <td>0</td>\n",
       "      <td>40</td>\n",
       "      <td>United-States</td>\n",
       "      <td>0</td>\n",
       "    </tr>\n",
       "    <tr>\n",
       "      <td>1</td>\n",
       "      <td>38</td>\n",
       "      <td>Private</td>\n",
       "      <td>89814</td>\n",
       "      <td>HS-grad</td>\n",
       "      <td>9</td>\n",
       "      <td>Married-civ-spouse</td>\n",
       "      <td>Farming-fishing</td>\n",
       "      <td>Husband</td>\n",
       "      <td>White</td>\n",
       "      <td>Male</td>\n",
       "      <td>0</td>\n",
       "      <td>0</td>\n",
       "      <td>50</td>\n",
       "      <td>United-States</td>\n",
       "      <td>0</td>\n",
       "    </tr>\n",
       "    <tr>\n",
       "      <td>2</td>\n",
       "      <td>28</td>\n",
       "      <td>Local-gov</td>\n",
       "      <td>336951</td>\n",
       "      <td>Assoc-acdm</td>\n",
       "      <td>12</td>\n",
       "      <td>Married-civ-spouse</td>\n",
       "      <td>Protective-serv</td>\n",
       "      <td>Husband</td>\n",
       "      <td>White</td>\n",
       "      <td>Male</td>\n",
       "      <td>0</td>\n",
       "      <td>0</td>\n",
       "      <td>40</td>\n",
       "      <td>United-States</td>\n",
       "      <td>1</td>\n",
       "    </tr>\n",
       "    <tr>\n",
       "      <td>3</td>\n",
       "      <td>44</td>\n",
       "      <td>Private</td>\n",
       "      <td>160323</td>\n",
       "      <td>Some-college</td>\n",
       "      <td>10</td>\n",
       "      <td>Married-civ-spouse</td>\n",
       "      <td>Machine-op-inspct</td>\n",
       "      <td>Husband</td>\n",
       "      <td>Black</td>\n",
       "      <td>Male</td>\n",
       "      <td>7688</td>\n",
       "      <td>0</td>\n",
       "      <td>40</td>\n",
       "      <td>United-States</td>\n",
       "      <td>1</td>\n",
       "    </tr>\n",
       "    <tr>\n",
       "      <td>4</td>\n",
       "      <td>18</td>\n",
       "      <td>?</td>\n",
       "      <td>103497</td>\n",
       "      <td>Some-college</td>\n",
       "      <td>10</td>\n",
       "      <td>Never-married</td>\n",
       "      <td>?</td>\n",
       "      <td>Own-child</td>\n",
       "      <td>White</td>\n",
       "      <td>Female</td>\n",
       "      <td>0</td>\n",
       "      <td>0</td>\n",
       "      <td>30</td>\n",
       "      <td>United-States</td>\n",
       "      <td>0</td>\n",
       "    </tr>\n",
       "  </tbody>\n",
       "</table>\n",
       "</div>"
      ],
      "text/plain": [
       "   age  workclass  fnlwgt     education  educational_num      marital_status  \\\n",
       "0   25    Private  226802          11th                7       Never-married   \n",
       "1   38    Private   89814       HS-grad                9  Married-civ-spouse   \n",
       "2   28  Local-gov  336951    Assoc-acdm               12  Married-civ-spouse   \n",
       "3   44    Private  160323  Some-college               10  Married-civ-spouse   \n",
       "4   18          ?  103497  Some-college               10       Never-married   \n",
       "\n",
       "          occupation relationship   race  gender  capital_gain  capital_loss  \\\n",
       "0  Machine-op-inspct    Own-child  Black    Male             0             0   \n",
       "1    Farming-fishing      Husband  White    Male             0             0   \n",
       "2    Protective-serv      Husband  White    Male             0             0   \n",
       "3  Machine-op-inspct      Husband  Black    Male          7688             0   \n",
       "4                  ?    Own-child  White  Female             0             0   \n",
       "\n",
       "   hours_per_week native_country  income_label  \n",
       "0              40  United-States             0  \n",
       "1              50  United-States             0  \n",
       "2              40  United-States             1  \n",
       "3              40  United-States             1  \n",
       "4              30  United-States             0  "
      ]
     },
     "execution_count": 3,
     "metadata": {},
     "output_type": "execute_result"
    }
   ],
   "source": [
    "# For convenience, we'll replace '-' with '_'\n",
    "df.columns = [c.replace(\"-\", \"_\") for c in df.columns]\n",
    "# binary target\n",
    "df['income_label'] = (df[\"income\"].apply(lambda x: \">50K\" in x)).astype(int)\n",
    "df.drop('income', axis=1, inplace=True)\n",
    "df.head()"
   ]
  },
  {
   "cell_type": "markdown",
   "metadata": {},
   "source": [
    "### Preparing the data\n",
    "\n",
    "Have a look to notebooks one and two if you want to get a good understanding of the next few lines of code (although there is no need to use the package)"
   ]
  },
  {
   "cell_type": "code",
   "execution_count": 4,
   "metadata": {},
   "outputs": [],
   "source": [
    "wide_cols = ['education', 'relationship','workclass','occupation','native_country','gender']\n",
    "crossed_cols = [('education', 'occupation'), ('native_country', 'occupation')]\n",
    "cat_embed_cols = [('education',16), ('relationship',8), ('workclass',16), ('occupation',16),('native_country',16)]\n",
    "continuous_cols = [\"age\",\"hours_per_week\"]\n",
    "target_col = 'income_label'"
   ]
  },
  {
   "cell_type": "code",
   "execution_count": 5,
   "metadata": {},
   "outputs": [],
   "source": [
    "# TARGET\n",
    "target = df[target_col].values\n",
    "\n",
    "# WIDE\n",
    "preprocess_wide = WidePreprocessor(wide_cols=wide_cols, crossed_cols=crossed_cols)\n",
    "X_wide = preprocess_wide.fit_transform(df)\n",
    "\n",
    "# DEEP\n",
    "preprocess_deep = DeepPreprocessor(embed_cols=cat_embed_cols, continuous_cols=continuous_cols)\n",
    "X_deep = preprocess_deep.fit_transform(df)"
   ]
  },
  {
   "cell_type": "code",
   "execution_count": 6,
   "metadata": {},
   "outputs": [
    {
     "name": "stdout",
     "output_type": "stream",
     "text": [
      "[[0. 1. 0. ... 0. 0. 0.]\n",
      " [0. 0. 0. ... 0. 0. 0.]\n",
      " [0. 0. 0. ... 0. 0. 0.]\n",
      " ...\n",
      " [0. 0. 0. ... 0. 0. 0.]\n",
      " [0. 0. 0. ... 0. 0. 0.]\n",
      " [0. 0. 0. ... 0. 0. 0.]]\n",
      "(48842, 796)\n"
     ]
    }
   ],
   "source": [
    "print(X_wide)\n",
    "print(X_wide.shape)"
   ]
  },
  {
   "cell_type": "code",
   "execution_count": 7,
   "metadata": {},
   "outputs": [
    {
     "name": "stdout",
     "output_type": "stream",
     "text": [
      "[[ 0.          0.          0.         ...  0.         -0.99512893\n",
      "  -0.03408696]\n",
      " [ 1.          1.          0.         ...  0.         -0.04694151\n",
      "   0.77292975]\n",
      " [ 2.          1.          1.         ...  0.         -0.77631645\n",
      "  -0.03408696]\n",
      " ...\n",
      " [ 1.          3.          0.         ...  0.          1.41180837\n",
      "  -0.03408696]\n",
      " [ 1.          0.          0.         ...  0.         -1.21394141\n",
      "  -1.64812038]\n",
      " [ 1.          4.          6.         ...  0.          0.97418341\n",
      "  -0.03408696]]\n",
      "(48842, 7)\n"
     ]
    }
   ],
   "source": [
    "print(X_deep)\n",
    "print(X_deep.shape)"
   ]
  },
  {
   "cell_type": "markdown",
   "metadata": {},
   "source": [
    "As you can see, you can run a wide and deep model in just a few lines of code\n",
    "\n",
    "Let's now see how to use `WideDeep` with varying parameters"
   ]
  },
  {
   "cell_type": "markdown",
   "metadata": {},
   "source": [
    "###  2.1 Dropout and Batchnorm"
   ]
  },
  {
   "cell_type": "code",
   "execution_count": 8,
   "metadata": {},
   "outputs": [],
   "source": [
    "wide = Wide(wide_dim=X_wide.shape[1], output_dim=1)\n",
    "# We can add dropout and batchnorm to the dense layers\n",
    "deepdense = DeepDense(hidden_layers=[64,32], dropout=[0.5, 0.5], batchnorm=True,\n",
    "                      deep_column_idx=preprocess_deep.deep_column_idx,\n",
    "                      embed_input=preprocess_deep.embeddings_input,\n",
    "                      continuous_cols=continuous_cols)\n",
    "model = WideDeep(wide=wide, deepdense=deepdense)"
   ]
  },
  {
   "cell_type": "code",
   "execution_count": 9,
   "metadata": {},
   "outputs": [
    {
     "data": {
      "text/plain": [
       "WideDeep(\n",
       "  (wide): Wide(\n",
       "    (wide_linear): Linear(in_features=796, out_features=1, bias=True)\n",
       "  )\n",
       "  (deepdense): Sequential(\n",
       "    (0): DeepDense(\n",
       "      (embed_layers): ModuleDict(\n",
       "        (emb_layer_education): Embedding(16, 16)\n",
       "        (emb_layer_native_country): Embedding(42, 16)\n",
       "        (emb_layer_occupation): Embedding(15, 16)\n",
       "        (emb_layer_relationship): Embedding(6, 8)\n",
       "        (emb_layer_workclass): Embedding(9, 16)\n",
       "      )\n",
       "      (embed_dropout): Dropout(p=0.0, inplace=False)\n",
       "      (dense): Sequential(\n",
       "        (dense_layer_0): Sequential(\n",
       "          (0): Linear(in_features=74, out_features=64, bias=True)\n",
       "          (1): LeakyReLU(negative_slope=0.01, inplace=True)\n",
       "          (2): BatchNorm1d(64, eps=1e-05, momentum=0.1, affine=True, track_running_stats=True)\n",
       "          (3): Dropout(p=0.5, inplace=False)\n",
       "        )\n",
       "        (dense_layer_1): Sequential(\n",
       "          (0): Linear(in_features=64, out_features=32, bias=True)\n",
       "          (1): LeakyReLU(negative_slope=0.01, inplace=True)\n",
       "          (2): BatchNorm1d(32, eps=1e-05, momentum=0.1, affine=True, track_running_stats=True)\n",
       "          (3): Dropout(p=0.5, inplace=False)\n",
       "        )\n",
       "      )\n",
       "    )\n",
       "    (1): Linear(in_features=32, out_features=1, bias=True)\n",
       "  )\n",
       ")"
      ]
     },
     "execution_count": 9,
     "metadata": {},
     "output_type": "execute_result"
    }
   ],
   "source": [
    "model"
   ]
  },
  {
   "cell_type": "markdown",
   "metadata": {},
   "source": [
    "We can use different initializers, optimizers and learning rate schedulers for each `branch` of the model"
   ]
  },
  {
   "cell_type": "markdown",
   "metadata": {},
   "source": [
    "###  Optimizers, LR schedulers, Initializers and Callbacks"
   ]
  },
  {
   "cell_type": "code",
   "execution_count": 10,
   "metadata": {},
   "outputs": [],
   "source": [
    "from pytorch_widedeep.initializers import KaimingNormal, XavierNormal\n",
    "from pytorch_widedeep.callbacks import ModelCheckpoint, LRHistory, EarlyStopping\n",
    "from pytorch_widedeep.optim import RAdam"
   ]
  },
  {
   "cell_type": "code",
   "execution_count": 11,
   "metadata": {},
   "outputs": [],
   "source": [
    "# Optimizers\n",
    "wide_opt = torch.optim.Adam(model.wide.parameters())\n",
    "deep_opt = RAdam(model.deepdense.parameters())\n",
    "# LR Schedulers\n",
    "wide_sch = torch.optim.lr_scheduler.StepLR(wide_opt, step_size=3)\n",
    "deep_sch = torch.optim.lr_scheduler.StepLR(deep_opt, step_size=5)"
   ]
  },
  {
   "cell_type": "markdown",
   "metadata": {},
   "source": [
    "the component-dependent settings must be passed as dictionaries, while general settings are simply lists"
   ]
  },
  {
   "cell_type": "code",
   "execution_count": 12,
   "metadata": {},
   "outputs": [],
   "source": [
    "# Component-dependent settings as Dict\n",
    "optimizers = {'wide': wide_opt, 'deepdense':deep_opt}\n",
    "schedulers = {'wide': wide_sch, 'deepdense':deep_sch}\n",
    "initializers = {'wide': KaimingNormal, 'deepdense':XavierNormal}\n",
    "# General settings as List\n",
    "callbacks = [LRHistory(n_epochs=10), EarlyStopping, ModelCheckpoint(filepath='model_weights/wd_out')]\n",
    "metrics = [BinaryAccuracy]"
   ]
  },
  {
   "cell_type": "code",
   "execution_count": 13,
   "metadata": {},
   "outputs": [],
   "source": [
    "model.compile(method='binary', optimizers=optimizers, lr_schedulers=schedulers, \n",
    "              initializers=initializers,\n",
    "              callbacks=callbacks,\n",
    "              metrics=metrics)"
   ]
  },
  {
   "cell_type": "code",
   "execution_count": 14,
   "metadata": {},
   "outputs": [
    {
     "name": "stderr",
     "output_type": "stream",
     "text": [
      "\r",
      "  0%|          | 0/153 [00:00<?, ?it/s]"
     ]
    },
    {
     "name": "stdout",
     "output_type": "stream",
     "text": [
      "Training\n"
     ]
    },
    {
     "name": "stderr",
     "output_type": "stream",
     "text": [
      "epoch 1: 100%|██████████| 153/153 [00:03<00:00, 47.06it/s, loss=0.731, metrics={'acc': 0.6468}]\n",
      "valid: 100%|██████████| 39/39 [00:00<00:00, 118.07it/s, loss=0.418, metrics={'acc': 0.6785}]\n",
      "epoch 2: 100%|██████████| 153/153 [00:03<00:00, 49.72it/s, loss=0.51, metrics={'acc': 0.7637}] \n",
      "valid: 100%|██████████| 39/39 [00:00<00:00, 114.38it/s, loss=0.376, metrics={'acc': 0.7765}]\n",
      "epoch 3: 100%|██████████| 153/153 [00:03<00:00, 49.32it/s, loss=0.448, metrics={'acc': 0.7927}]\n",
      "valid: 100%|██████████| 39/39 [00:00<00:00, 113.23it/s, loss=0.361, metrics={'acc': 0.8007}]\n",
      "epoch 4: 100%|██████████| 153/153 [00:03<00:00, 48.23it/s, loss=0.413, metrics={'acc': 0.8079}]\n",
      "valid: 100%|██████████| 39/39 [00:00<00:00, 118.17it/s, loss=0.355, metrics={'acc': 0.8132}]\n",
      "epoch 5: 100%|██████████| 153/153 [00:03<00:00, 48.27it/s, loss=0.395, metrics={'acc': 0.8149}]\n",
      "valid: 100%|██████████| 39/39 [00:00<00:00, 114.71it/s, loss=0.352, metrics={'acc': 0.8191}]\n",
      "epoch 6: 100%|██████████| 153/153 [00:03<00:00, 48.97it/s, loss=0.387, metrics={'acc': 0.8157}]\n",
      "valid: 100%|██████████| 39/39 [00:00<00:00, 116.88it/s, loss=0.352, metrics={'acc': 0.8199}]\n",
      "epoch 7: 100%|██████████| 153/153 [00:03<00:00, 48.56it/s, loss=0.388, metrics={'acc': 0.8153}]\n",
      "valid: 100%|██████████| 39/39 [00:00<00:00, 116.33it/s, loss=0.352, metrics={'acc': 0.8195}]\n",
      "epoch 8: 100%|██████████| 153/153 [00:03<00:00, 48.54it/s, loss=0.383, metrics={'acc': 0.8184}]\n",
      "valid: 100%|██████████| 39/39 [00:00<00:00, 93.05it/s, loss=0.351, metrics={'acc': 0.822}] \n",
      "epoch 9: 100%|██████████| 153/153 [00:03<00:00, 45.71it/s, loss=0.385, metrics={'acc': 0.8196}]\n",
      "valid: 100%|██████████| 39/39 [00:00<00:00, 110.48it/s, loss=0.351, metrics={'acc': 0.8229}]\n",
      "epoch 10: 100%|██████████| 153/153 [00:03<00:00, 48.44it/s, loss=0.382, metrics={'acc': 0.8194}]\n",
      "valid: 100%|██████████| 39/39 [00:00<00:00, 114.40it/s, loss=0.35, metrics={'acc': 0.8228}]\n"
     ]
    }
   ],
   "source": [
    "model.fit(X_wide=X_wide, X_deep=X_deep, target=target, n_epochs=10, batch_size=256, val_split=0.2)"
   ]
  },
  {
   "cell_type": "code",
   "execution_count": 15,
   "metadata": {},
   "outputs": [
    {
     "data": {
      "text/plain": [
       "['__call__',\n",
       " '__class__',\n",
       " '__delattr__',\n",
       " '__dict__',\n",
       " '__dir__',\n",
       " '__doc__',\n",
       " '__eq__',\n",
       " '__format__',\n",
       " '__ge__',\n",
       " '__getattr__',\n",
       " '__getattribute__',\n",
       " '__gt__',\n",
       " '__hash__',\n",
       " '__init__',\n",
       " '__init_subclass__',\n",
       " '__le__',\n",
       " '__lt__',\n",
       " '__module__',\n",
       " '__ne__',\n",
       " '__new__',\n",
       " '__reduce__',\n",
       " '__reduce_ex__',\n",
       " '__repr__',\n",
       " '__setattr__',\n",
       " '__setstate__',\n",
       " '__sizeof__',\n",
       " '__str__',\n",
       " '__subclasshook__',\n",
       " '__weakref__',\n",
       " '_activation_fn',\n",
       " '_apply',\n",
       " '_backward_hooks',\n",
       " '_buffers',\n",
       " '_forward_hooks',\n",
       " '_forward_pre_hooks',\n",
       " '_get_name',\n",
       " '_load_from_state_dict',\n",
       " '_load_state_dict_pre_hooks',\n",
       " '_loss_fn',\n",
       " '_lr_scheduler_step',\n",
       " '_modules',\n",
       " '_named_members',\n",
       " '_parameters',\n",
       " '_predict',\n",
       " '_register_load_state_dict_pre_hook',\n",
       " '_register_state_dict_hook',\n",
       " '_save_to_state_dict',\n",
       " '_slow_forward',\n",
       " '_state_dict_hooks',\n",
       " '_tracing_name',\n",
       " '_train_val_split',\n",
       " '_training_step',\n",
       " '_validation_step',\n",
       " '_version',\n",
       " '_warm_up',\n",
       " 'add_module',\n",
       " 'apply',\n",
       " 'batch_size',\n",
       " 'buffers',\n",
       " 'callback_container',\n",
       " 'callbacks',\n",
       " 'children',\n",
       " 'class_weight',\n",
       " 'compile',\n",
       " 'cpu',\n",
       " 'cuda',\n",
       " 'cyclic',\n",
       " 'deepdense',\n",
       " 'deephead',\n",
       " 'deepimage',\n",
       " 'deeptext',\n",
       " 'double',\n",
       " 'dump_patches',\n",
       " 'early_stop',\n",
       " 'eval',\n",
       " 'extra_repr',\n",
       " 'fit',\n",
       " 'float',\n",
       " 'forward',\n",
       " 'get_embeddings',\n",
       " 'half',\n",
       " 'history',\n",
       " 'initializer',\n",
       " 'load_state_dict',\n",
       " 'lr_history',\n",
       " 'lr_scheduler',\n",
       " 'method',\n",
       " 'metric',\n",
       " 'modules',\n",
       " 'named_buffers',\n",
       " 'named_children',\n",
       " 'named_modules',\n",
       " 'named_parameters',\n",
       " 'optimizer',\n",
       " 'parameters',\n",
       " 'predict',\n",
       " 'predict_proba',\n",
       " 'register_backward_hook',\n",
       " 'register_buffer',\n",
       " 'register_forward_hook',\n",
       " 'register_forward_pre_hook',\n",
       " 'register_parameter',\n",
       " 'requires_grad_',\n",
       " 'seed',\n",
       " 'share_memory',\n",
       " 'state_dict',\n",
       " 'to',\n",
       " 'train',\n",
       " 'train_running_loss',\n",
       " 'training',\n",
       " 'transforms',\n",
       " 'type',\n",
       " 'valid_running_loss',\n",
       " 'verbose',\n",
       " 'wide',\n",
       " 'with_focal_loss',\n",
       " 'zero_grad']"
      ]
     },
     "execution_count": 15,
     "metadata": {},
     "output_type": "execute_result"
    }
   ],
   "source": [
    "dir(model)"
   ]
  },
  {
   "cell_type": "markdown",
   "metadata": {},
   "source": [
    "You see that, among many methods and attributes we have the `history` and `lr_history` attributes"
   ]
  },
  {
   "cell_type": "code",
   "execution_count": 16,
   "metadata": {},
   "outputs": [
    {
     "data": {
      "text/plain": [
       "[0, 1, 2, 3, 4, 5, 6, 7, 8, 9]"
      ]
     },
     "execution_count": 16,
     "metadata": {},
     "output_type": "execute_result"
    }
   ],
   "source": [
    "model.history.epoch"
   ]
  },
  {
   "cell_type": "code",
   "execution_count": 17,
   "metadata": {},
   "outputs": [
    {
     "name": "stdout",
     "output_type": "stream",
     "text": [
      "{'train_loss': [0.7313813343157176, 0.5101876866583731, 0.44813506724008545, 0.41332343941420513, 0.3945406624694276, 0.3871746306715448, 0.3884129401515512, 0.38312816230300206, 0.3847907395923839, 0.3817657043341718], 'train_acc': [0.6468, 0.7637, 0.7927, 0.8079, 0.8149, 0.8157, 0.8153, 0.8184, 0.8196, 0.8194], 'val_loss': [0.41844800649545133, 0.3759944920356457, 0.36132928041311413, 0.3554159953044011, 0.3523857922126085, 0.3518377657120044, 0.35156664175864977, 0.35120767278549, 0.35089820012068135, 0.35047405576094603], 'val_acc': [0.6785, 0.7765, 0.8007, 0.8132, 0.8191, 0.8199, 0.8195, 0.822, 0.8229, 0.8228]}\n"
     ]
    }
   ],
   "source": [
    "print(model.history._history)"
   ]
  },
  {
   "cell_type": "code",
   "execution_count": 18,
   "metadata": {},
   "outputs": [
    {
     "name": "stdout",
     "output_type": "stream",
     "text": [
      "{'lr_wide_0': [0.001, 0.001, 0.001, 0.0001, 0.0001, 0.0001, 1.0000000000000003e-05, 1.0000000000000003e-05, 1.0000000000000003e-05, 1.0000000000000002e-06], 'lr_deepdense_0': [0.001, 0.001, 0.001, 0.001, 0.001, 0.0001, 0.0001, 0.0001, 0.0001, 0.0001]}\n"
     ]
    }
   ],
   "source": [
    "print(model.lr_history)"
   ]
  },
  {
   "cell_type": "markdown",
   "metadata": {},
   "source": [
    "We can see that the learning rate effectively decreases by a factor of 0.1 (the default) after the corresponding `step_size`. Note that the keys of the dictionary have a suffix `_0`. This is because if you pass different parameter groups to the torch optimizers, these will also be recorded. We'll see this in the `Regression` notebook. \n",
    "\n",
    "And I guess one has a good idea of how to use the package. Before we leave this notebook just mentioning that the `WideDeep` class comes with a useful method to \"rescue\" the learned embeddings. For example, let's say I want to use the embeddings learned for the different levels of the categorical feature `education`"
   ]
  },
  {
   "cell_type": "code",
   "execution_count": 19,
   "metadata": {},
   "outputs": [
    {
     "data": {
      "text/plain": [
       "{'11th': array([-0.04807916,  0.21404432,  0.12517522, -0.154123  ,  0.06864536,\n",
       "         0.00092955, -0.38516527, -0.18440197,  0.15861034,  0.12012056,\n",
       "         0.55413646, -0.16920644,  0.1356924 , -0.37921003,  0.53833497,\n",
       "         0.08743049], dtype=float32),\n",
       " 'HS-grad': array([ 0.37504154,  0.34191516,  0.27299362,  0.22921972,  0.07420117,\n",
       "         0.34922913,  0.19239122, -0.42343035, -0.845824  , -0.07287297,\n",
       "         0.27455565,  0.19505064,  0.07062761, -0.5201107 ,  0.37823108,\n",
       "         0.46134958], dtype=float32),\n",
       " 'Assoc-acdm': array([ 0.22331461,  0.15005238,  0.13472553, -0.16886246, -0.12053325,\n",
       "        -0.04233408, -0.08905135, -0.54481906,  0.24300168, -0.21069968,\n",
       "        -0.00685616, -0.38423738, -0.00281451,  0.10599079, -0.05224385,\n",
       "         0.2891064 ], dtype=float32),\n",
       " 'Some-college': array([-0.09498356, -0.16801773, -0.09181987,  0.05381393, -0.03607363,\n",
       "        -0.05759075,  0.09382061,  0.33274302, -0.11906563,  0.14481838,\n",
       "        -0.1765725 ,  0.20070277,  0.2960993 , -0.02055654,  0.26645136,\n",
       "         0.4075843 ], dtype=float32),\n",
       " '10th': array([-0.12961714, -0.27546212,  0.24345328, -0.24318363,  0.31552687,\n",
       "         0.16653115, -0.05234893,  0.06825106,  0.2388588 ,  0.10887478,\n",
       "        -0.12004007, -0.00373614, -0.0223387 ,  0.133562  ,  0.29672143,\n",
       "         0.03046475], dtype=float32),\n",
       " 'Prof-school': array([-0.1589678 , -0.07629952,  0.00763621,  0.13788143,  0.4114019 ,\n",
       "         0.07717889, -0.17072953,  0.29419565, -0.18929462, -0.09182461,\n",
       "        -0.08409152,  0.01395322, -0.20351669,  0.18333136, -0.03983613,\n",
       "        -0.31888708], dtype=float32),\n",
       " '7th-8th': array([ 0.39654806,  0.26095334, -0.3147828 , -0.41267306, -0.23983437,\n",
       "        -0.08034727,  0.4807234 ,  0.3054779 , -0.3085564 , -0.07860225,\n",
       "        -0.1279486 , -0.2846014 ,  0.1358583 ,  0.24006395, -0.18911272,\n",
       "        -0.2299538 ], dtype=float32),\n",
       " 'Bachelors': array([ 0.35242578, -0.03246311,  0.15835243, -0.06434399,  0.03403192,\n",
       "         0.0088449 ,  0.00627425, -0.31485453, -0.30984947, -0.23008366,\n",
       "        -0.09467663,  0.17246258, -0.09432375,  0.07691337,  0.70925283,\n",
       "         0.18795769], dtype=float32),\n",
       " 'Masters': array([-0.14503758,  0.0048258 ,  0.58242404,  0.28511924, -0.13773848,\n",
       "         0.35109136,  0.05824559,  0.3609631 ,  0.4700086 ,  0.4251728 ,\n",
       "        -0.2538366 , -0.00297809,  0.1424264 , -0.12481072, -0.09403807,\n",
       "         0.00634856], dtype=float32),\n",
       " 'Doctorate': array([-0.12487873, -0.1699961 ,  0.2220065 , -0.04808738,  0.09443628,\n",
       "        -0.21019349, -0.23745097,  0.28523713,  0.05516997, -0.04004707,\n",
       "         0.3316393 ,  0.18710822,  0.4153885 , -0.12905155,  0.03055826,\n",
       "         0.0664137 ], dtype=float32),\n",
       " '5th-6th': array([ 0.21891987, -0.13600409, -0.03123563,  0.16288632, -0.03479639,\n",
       "        -0.4221951 ,  0.4688111 ,  0.08145971, -0.29254073,  0.18396533,\n",
       "        -0.20204993, -0.03327556, -0.2558647 ,  0.56448   , -0.30299884,\n",
       "         0.07629355], dtype=float32),\n",
       " 'Assoc-voc': array([-0.01987046, -0.06434393,  0.00226   ,  0.08150155, -0.33775425,\n",
       "        -0.13507745,  0.12741297,  0.0542295 ,  0.09895965,  0.067229  ,\n",
       "        -0.1718493 ,  0.01054914,  0.10441845, -0.18814586, -0.01663602,\n",
       "         0.03088147], dtype=float32),\n",
       " '9th': array([-0.24095939,  0.2750888 ,  0.01418325, -0.36754113,  0.5431856 ,\n",
       "        -0.19582956,  0.03485603,  0.22838333, -0.05723334,  0.10631263,\n",
       "         0.06331363, -0.09572615,  0.21977316, -0.02579625, -0.13822857,\n",
       "         0.28736743], dtype=float32),\n",
       " '12th': array([-0.20278502, -0.19245535, -0.04846343,  0.14459866,  0.25858438,\n",
       "         0.15333128,  0.5074635 , -0.15141617, -0.19331448, -0.2630267 ,\n",
       "        -0.1378872 , -0.16868882,  0.4048257 , -0.34108582, -0.23098588,\n",
       "         0.2859633 ], dtype=float32),\n",
       " '1st-4th': array([-0.53678703,  0.19669479, -0.18026853,  0.33791658,  0.14260627,\n",
       "         0.20269199,  0.00518189,  0.01120056,  0.01568659,  0.28752655,\n",
       "         0.3359768 ,  0.01758064,  0.11630564, -0.35470524, -0.05704446,\n",
       "         0.41216984], dtype=float32),\n",
       " 'Preschool': array([ 0.10326536, -0.02895411,  0.11348445,  0.03685748,  0.55893034,\n",
       "        -0.2522173 , -0.07186767, -0.30955225, -0.17825711,  0.02907414,\n",
       "        -0.61121726,  0.40596214,  0.63471395,  0.3304132 ,  0.05272925,\n",
       "        -0.4266447 ], dtype=float32)}"
      ]
     },
     "execution_count": 19,
     "metadata": {},
     "output_type": "execute_result"
    }
   ],
   "source": [
    "model.get_embeddings(col_name='education', cat_encoding_dict=preprocess_deep.encoding_dict)"
   ]
  }
 ],
 "metadata": {
  "kernelspec": {
   "display_name": "Python 3",
   "language": "python",
   "name": "python3"
  },
  "language_info": {
   "codemirror_mode": {
    "name": "ipython",
    "version": 3
   },
   "file_extension": ".py",
   "mimetype": "text/x-python",
   "name": "python",
   "nbconvert_exporter": "python",
   "pygments_lexer": "ipython3",
   "version": "3.6.5"
  }
 },
 "nbformat": 4,
 "nbformat_minor": 2
}
