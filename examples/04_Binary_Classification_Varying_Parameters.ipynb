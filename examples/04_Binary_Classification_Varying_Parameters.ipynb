{
 "cells": [
  {
   "cell_type": "markdown",
   "metadata": {},
   "source": [
    "## Binary Classification with different optimizers, schedulers, etc.\n",
    "\n",
    "In this notebook we will use the Adult Census dataset. Download the data from [here](https://www.kaggle.com/wenruliu/adult-income-dataset/downloads/adult.csv/2)."
   ]
  },
  {
   "cell_type": "code",
   "execution_count": 1,
   "metadata": {},
   "outputs": [],
   "source": [
    "import numpy as np\n",
    "import pandas as pd\n",
    "import torch\n",
    "\n",
    "from pytorch_widedeep.preprocessing import WidePreprocessor, DeepPreprocessor\n",
    "from pytorch_widedeep.models import Wide, DeepDense, WideDeep\n",
    "from pytorch_widedeep.metrics import BinaryAccuracy"
   ]
  },
  {
   "cell_type": "code",
   "execution_count": 2,
   "metadata": {},
   "outputs": [
    {
     "data": {
      "text/html": [
       "<div>\n",
       "<style scoped>\n",
       "    .dataframe tbody tr th:only-of-type {\n",
       "        vertical-align: middle;\n",
       "    }\n",
       "\n",
       "    .dataframe tbody tr th {\n",
       "        vertical-align: top;\n",
       "    }\n",
       "\n",
       "    .dataframe thead th {\n",
       "        text-align: right;\n",
       "    }\n",
       "</style>\n",
       "<table border=\"1\" class=\"dataframe\">\n",
       "  <thead>\n",
       "    <tr style=\"text-align: right;\">\n",
       "      <th></th>\n",
       "      <th>age</th>\n",
       "      <th>workclass</th>\n",
       "      <th>fnlwgt</th>\n",
       "      <th>education</th>\n",
       "      <th>educational-num</th>\n",
       "      <th>marital-status</th>\n",
       "      <th>occupation</th>\n",
       "      <th>relationship</th>\n",
       "      <th>race</th>\n",
       "      <th>gender</th>\n",
       "      <th>capital-gain</th>\n",
       "      <th>capital-loss</th>\n",
       "      <th>hours-per-week</th>\n",
       "      <th>native-country</th>\n",
       "      <th>income</th>\n",
       "    </tr>\n",
       "  </thead>\n",
       "  <tbody>\n",
       "    <tr>\n",
       "      <td>0</td>\n",
       "      <td>25</td>\n",
       "      <td>Private</td>\n",
       "      <td>226802</td>\n",
       "      <td>11th</td>\n",
       "      <td>7</td>\n",
       "      <td>Never-married</td>\n",
       "      <td>Machine-op-inspct</td>\n",
       "      <td>Own-child</td>\n",
       "      <td>Black</td>\n",
       "      <td>Male</td>\n",
       "      <td>0</td>\n",
       "      <td>0</td>\n",
       "      <td>40</td>\n",
       "      <td>United-States</td>\n",
       "      <td>&lt;=50K</td>\n",
       "    </tr>\n",
       "    <tr>\n",
       "      <td>1</td>\n",
       "      <td>38</td>\n",
       "      <td>Private</td>\n",
       "      <td>89814</td>\n",
       "      <td>HS-grad</td>\n",
       "      <td>9</td>\n",
       "      <td>Married-civ-spouse</td>\n",
       "      <td>Farming-fishing</td>\n",
       "      <td>Husband</td>\n",
       "      <td>White</td>\n",
       "      <td>Male</td>\n",
       "      <td>0</td>\n",
       "      <td>0</td>\n",
       "      <td>50</td>\n",
       "      <td>United-States</td>\n",
       "      <td>&lt;=50K</td>\n",
       "    </tr>\n",
       "    <tr>\n",
       "      <td>2</td>\n",
       "      <td>28</td>\n",
       "      <td>Local-gov</td>\n",
       "      <td>336951</td>\n",
       "      <td>Assoc-acdm</td>\n",
       "      <td>12</td>\n",
       "      <td>Married-civ-spouse</td>\n",
       "      <td>Protective-serv</td>\n",
       "      <td>Husband</td>\n",
       "      <td>White</td>\n",
       "      <td>Male</td>\n",
       "      <td>0</td>\n",
       "      <td>0</td>\n",
       "      <td>40</td>\n",
       "      <td>United-States</td>\n",
       "      <td>&gt;50K</td>\n",
       "    </tr>\n",
       "    <tr>\n",
       "      <td>3</td>\n",
       "      <td>44</td>\n",
       "      <td>Private</td>\n",
       "      <td>160323</td>\n",
       "      <td>Some-college</td>\n",
       "      <td>10</td>\n",
       "      <td>Married-civ-spouse</td>\n",
       "      <td>Machine-op-inspct</td>\n",
       "      <td>Husband</td>\n",
       "      <td>Black</td>\n",
       "      <td>Male</td>\n",
       "      <td>7688</td>\n",
       "      <td>0</td>\n",
       "      <td>40</td>\n",
       "      <td>United-States</td>\n",
       "      <td>&gt;50K</td>\n",
       "    </tr>\n",
       "    <tr>\n",
       "      <td>4</td>\n",
       "      <td>18</td>\n",
       "      <td>?</td>\n",
       "      <td>103497</td>\n",
       "      <td>Some-college</td>\n",
       "      <td>10</td>\n",
       "      <td>Never-married</td>\n",
       "      <td>?</td>\n",
       "      <td>Own-child</td>\n",
       "      <td>White</td>\n",
       "      <td>Female</td>\n",
       "      <td>0</td>\n",
       "      <td>0</td>\n",
       "      <td>30</td>\n",
       "      <td>United-States</td>\n",
       "      <td>&lt;=50K</td>\n",
       "    </tr>\n",
       "  </tbody>\n",
       "</table>\n",
       "</div>"
      ],
      "text/plain": [
       "   age  workclass  fnlwgt     education  educational-num      marital-status  \\\n",
       "0   25    Private  226802          11th                7       Never-married   \n",
       "1   38    Private   89814       HS-grad                9  Married-civ-spouse   \n",
       "2   28  Local-gov  336951    Assoc-acdm               12  Married-civ-spouse   \n",
       "3   44    Private  160323  Some-college               10  Married-civ-spouse   \n",
       "4   18          ?  103497  Some-college               10       Never-married   \n",
       "\n",
       "          occupation relationship   race  gender  capital-gain  capital-loss  \\\n",
       "0  Machine-op-inspct    Own-child  Black    Male             0             0   \n",
       "1    Farming-fishing      Husband  White    Male             0             0   \n",
       "2    Protective-serv      Husband  White    Male             0             0   \n",
       "3  Machine-op-inspct      Husband  Black    Male          7688             0   \n",
       "4                  ?    Own-child  White  Female             0             0   \n",
       "\n",
       "   hours-per-week native-country income  \n",
       "0              40  United-States  <=50K  \n",
       "1              50  United-States  <=50K  \n",
       "2              40  United-States   >50K  \n",
       "3              40  United-States   >50K  \n",
       "4              30  United-States  <=50K  "
      ]
     },
     "execution_count": 2,
     "metadata": {},
     "output_type": "execute_result"
    }
   ],
   "source": [
    "df = pd.read_csv('data/adult/adult.csv.zip')\n",
    "df.head()"
   ]
  },
  {
   "cell_type": "code",
   "execution_count": 3,
   "metadata": {},
   "outputs": [
    {
     "data": {
      "text/html": [
       "<div>\n",
       "<style scoped>\n",
       "    .dataframe tbody tr th:only-of-type {\n",
       "        vertical-align: middle;\n",
       "    }\n",
       "\n",
       "    .dataframe tbody tr th {\n",
       "        vertical-align: top;\n",
       "    }\n",
       "\n",
       "    .dataframe thead th {\n",
       "        text-align: right;\n",
       "    }\n",
       "</style>\n",
       "<table border=\"1\" class=\"dataframe\">\n",
       "  <thead>\n",
       "    <tr style=\"text-align: right;\">\n",
       "      <th></th>\n",
       "      <th>age</th>\n",
       "      <th>workclass</th>\n",
       "      <th>fnlwgt</th>\n",
       "      <th>education</th>\n",
       "      <th>educational_num</th>\n",
       "      <th>marital_status</th>\n",
       "      <th>occupation</th>\n",
       "      <th>relationship</th>\n",
       "      <th>race</th>\n",
       "      <th>gender</th>\n",
       "      <th>capital_gain</th>\n",
       "      <th>capital_loss</th>\n",
       "      <th>hours_per_week</th>\n",
       "      <th>native_country</th>\n",
       "      <th>income_label</th>\n",
       "    </tr>\n",
       "  </thead>\n",
       "  <tbody>\n",
       "    <tr>\n",
       "      <td>0</td>\n",
       "      <td>25</td>\n",
       "      <td>Private</td>\n",
       "      <td>226802</td>\n",
       "      <td>11th</td>\n",
       "      <td>7</td>\n",
       "      <td>Never-married</td>\n",
       "      <td>Machine-op-inspct</td>\n",
       "      <td>Own-child</td>\n",
       "      <td>Black</td>\n",
       "      <td>Male</td>\n",
       "      <td>0</td>\n",
       "      <td>0</td>\n",
       "      <td>40</td>\n",
       "      <td>United-States</td>\n",
       "      <td>0</td>\n",
       "    </tr>\n",
       "    <tr>\n",
       "      <td>1</td>\n",
       "      <td>38</td>\n",
       "      <td>Private</td>\n",
       "      <td>89814</td>\n",
       "      <td>HS-grad</td>\n",
       "      <td>9</td>\n",
       "      <td>Married-civ-spouse</td>\n",
       "      <td>Farming-fishing</td>\n",
       "      <td>Husband</td>\n",
       "      <td>White</td>\n",
       "      <td>Male</td>\n",
       "      <td>0</td>\n",
       "      <td>0</td>\n",
       "      <td>50</td>\n",
       "      <td>United-States</td>\n",
       "      <td>0</td>\n",
       "    </tr>\n",
       "    <tr>\n",
       "      <td>2</td>\n",
       "      <td>28</td>\n",
       "      <td>Local-gov</td>\n",
       "      <td>336951</td>\n",
       "      <td>Assoc-acdm</td>\n",
       "      <td>12</td>\n",
       "      <td>Married-civ-spouse</td>\n",
       "      <td>Protective-serv</td>\n",
       "      <td>Husband</td>\n",
       "      <td>White</td>\n",
       "      <td>Male</td>\n",
       "      <td>0</td>\n",
       "      <td>0</td>\n",
       "      <td>40</td>\n",
       "      <td>United-States</td>\n",
       "      <td>1</td>\n",
       "    </tr>\n",
       "    <tr>\n",
       "      <td>3</td>\n",
       "      <td>44</td>\n",
       "      <td>Private</td>\n",
       "      <td>160323</td>\n",
       "      <td>Some-college</td>\n",
       "      <td>10</td>\n",
       "      <td>Married-civ-spouse</td>\n",
       "      <td>Machine-op-inspct</td>\n",
       "      <td>Husband</td>\n",
       "      <td>Black</td>\n",
       "      <td>Male</td>\n",
       "      <td>7688</td>\n",
       "      <td>0</td>\n",
       "      <td>40</td>\n",
       "      <td>United-States</td>\n",
       "      <td>1</td>\n",
       "    </tr>\n",
       "    <tr>\n",
       "      <td>4</td>\n",
       "      <td>18</td>\n",
       "      <td>?</td>\n",
       "      <td>103497</td>\n",
       "      <td>Some-college</td>\n",
       "      <td>10</td>\n",
       "      <td>Never-married</td>\n",
       "      <td>?</td>\n",
       "      <td>Own-child</td>\n",
       "      <td>White</td>\n",
       "      <td>Female</td>\n",
       "      <td>0</td>\n",
       "      <td>0</td>\n",
       "      <td>30</td>\n",
       "      <td>United-States</td>\n",
       "      <td>0</td>\n",
       "    </tr>\n",
       "  </tbody>\n",
       "</table>\n",
       "</div>"
      ],
      "text/plain": [
       "   age  workclass  fnlwgt     education  educational_num      marital_status  \\\n",
       "0   25    Private  226802          11th                7       Never-married   \n",
       "1   38    Private   89814       HS-grad                9  Married-civ-spouse   \n",
       "2   28  Local-gov  336951    Assoc-acdm               12  Married-civ-spouse   \n",
       "3   44    Private  160323  Some-college               10  Married-civ-spouse   \n",
       "4   18          ?  103497  Some-college               10       Never-married   \n",
       "\n",
       "          occupation relationship   race  gender  capital_gain  capital_loss  \\\n",
       "0  Machine-op-inspct    Own-child  Black    Male             0             0   \n",
       "1    Farming-fishing      Husband  White    Male             0             0   \n",
       "2    Protective-serv      Husband  White    Male             0             0   \n",
       "3  Machine-op-inspct      Husband  Black    Male          7688             0   \n",
       "4                  ?    Own-child  White  Female             0             0   \n",
       "\n",
       "   hours_per_week native_country  income_label  \n",
       "0              40  United-States             0  \n",
       "1              50  United-States             0  \n",
       "2              40  United-States             1  \n",
       "3              40  United-States             1  \n",
       "4              30  United-States             0  "
      ]
     },
     "execution_count": 3,
     "metadata": {},
     "output_type": "execute_result"
    }
   ],
   "source": [
    "# For convenience, we'll replace '-' with '_'\n",
    "df.columns = [c.replace(\"-\", \"_\") for c in df.columns]\n",
    "# binary target\n",
    "df['income_label'] = (df[\"income\"].apply(lambda x: \">50K\" in x)).astype(int)\n",
    "df.drop('income', axis=1, inplace=True)\n",
    "df.head()"
   ]
  },
  {
   "cell_type": "markdown",
   "metadata": {},
   "source": [
    "### Preparing the data\n",
    "\n",
    "Have a look to notebooks one and two if you want to get a good understanding of the next few lines of code (although there is no need to use the package)"
   ]
  },
  {
   "cell_type": "code",
   "execution_count": 8,
   "metadata": {},
   "outputs": [],
   "source": [
    "wide_cols = ['education', 'relationship','workclass','occupation','native_country','gender']\n",
    "crossed_cols = [('education', 'occupation'), ('native_country', 'occupation')]\n",
    "cat_embed_cols = [('education',16), ('relationship',8), ('workclass',16),\n",
    "    ('occupation',16),('native_country',16)]\n",
    "continuous_cols = [\"age\",\"hours_per_week\"]\n",
    "target_col = 'income_label'"
   ]
  },
  {
   "cell_type": "code",
   "execution_count": 5,
   "metadata": {},
   "outputs": [],
   "source": [
    "# TARGET\n",
    "target = df[target_col].values\n",
    "\n",
    "# WIDE\n",
    "preprocess_wide = WidePreprocessor(wide_cols=wide_cols, crossed_cols=crossed_cols)\n",
    "X_wide = preprocess_wide.fit_transform(df)\n",
    "\n",
    "# DEEP\n",
    "preprocess_deep = DeepPreprocessor(embed_cols=cat_embed_cols, continuous_cols=continuous_cols)\n",
    "X_deep = preprocess_deep.fit_transform(df)"
   ]
  },
  {
   "cell_type": "code",
   "execution_count": 6,
   "metadata": {},
   "outputs": [
    {
     "name": "stdout",
     "output_type": "stream",
     "text": [
      "[[0. 1. 0. ... 0. 0. 0.]\n",
      " [0. 0. 0. ... 0. 0. 0.]\n",
      " [0. 0. 0. ... 0. 0. 0.]\n",
      " ...\n",
      " [0. 0. 0. ... 0. 0. 0.]\n",
      " [0. 0. 0. ... 0. 0. 0.]\n",
      " [0. 0. 0. ... 0. 0. 0.]]\n",
      "(48842, 796)\n"
     ]
    }
   ],
   "source": [
    "print(X_wide)\n",
    "print(X_wide.shape)"
   ]
  },
  {
   "cell_type": "code",
   "execution_count": 7,
   "metadata": {},
   "outputs": [
    {
     "name": "stdout",
     "output_type": "stream",
     "text": [
      "[[ 0.          0.          0.         ...  0.         -0.99512893\n",
      "  -0.03408696]\n",
      " [ 1.          1.          0.         ...  0.         -0.04694151\n",
      "   0.77292975]\n",
      " [ 2.          1.          1.         ...  0.         -0.77631645\n",
      "  -0.03408696]\n",
      " ...\n",
      " [ 1.          3.          0.         ...  0.          1.41180837\n",
      "  -0.03408696]\n",
      " [ 1.          0.          0.         ...  0.         -1.21394141\n",
      "  -1.64812038]\n",
      " [ 1.          4.          6.         ...  0.          0.97418341\n",
      "  -0.03408696]]\n",
      "(48842, 7)\n"
     ]
    }
   ],
   "source": [
    "print(X_deep)\n",
    "print(X_deep.shape)"
   ]
  },
  {
   "cell_type": "markdown",
   "metadata": {},
   "source": [
    "As you can see, you can run a wide and deep model in just a few lines of code\n",
    "\n",
    "Let's now see how to use `WideDeep` with varying parameters"
   ]
  },
  {
   "cell_type": "markdown",
   "metadata": {},
   "source": [
    "###  2.1 Dropout and Batchnorm"
   ]
  },
  {
   "cell_type": "code",
   "execution_count": 9,
   "metadata": {},
   "outputs": [],
   "source": [
    "wide = Wide(wide_dim=X_wide.shape[1], output_dim=1)\n",
    "# We can add dropout and batchnorm to the dense layers\n",
    "deepdense = DeepDense(hidden_layers=[64,32], dropout=[0.5, 0.5], batchnorm=True,\n",
    "                      deep_column_idx=preprocess_deep.deep_column_idx,\n",
    "                      embed_input=preprocess_deep.embeddings_input,\n",
    "                      continuous_cols=continuous_cols)\n",
    "model = WideDeep(wide=wide, deepdense=deepdense)"
   ]
  },
  {
   "cell_type": "code",
   "execution_count": 10,
   "metadata": {},
   "outputs": [
    {
     "data": {
      "text/plain": [
       "WideDeep(\n",
       "  (wide): Wide(\n",
       "    (wide_linear): Linear(in_features=796, out_features=1, bias=True)\n",
       "  )\n",
       "  (deepdense): Sequential(\n",
       "    (0): DeepDense(\n",
       "      (embed_layers): ModuleDict(\n",
       "        (emb_layer_education): Embedding(16, 16)\n",
       "        (emb_layer_native_country): Embedding(42, 16)\n",
       "        (emb_layer_occupation): Embedding(15, 16)\n",
       "        (emb_layer_relationship): Embedding(6, 8)\n",
       "        (emb_layer_workclass): Embedding(9, 16)\n",
       "      )\n",
       "      (embed_dropout): Dropout(p=0.0, inplace=False)\n",
       "      (dense): Sequential(\n",
       "        (dense_layer_0): Sequential(\n",
       "          (0): Linear(in_features=74, out_features=64, bias=True)\n",
       "          (1): LeakyReLU(negative_slope=0.01, inplace=True)\n",
       "          (2): BatchNorm1d(64, eps=1e-05, momentum=0.1, affine=True, track_running_stats=True)\n",
       "          (3): Dropout(p=0.5, inplace=False)\n",
       "        )\n",
       "        (dense_layer_1): Sequential(\n",
       "          (0): Linear(in_features=64, out_features=32, bias=True)\n",
       "          (1): LeakyReLU(negative_slope=0.01, inplace=True)\n",
       "          (2): BatchNorm1d(32, eps=1e-05, momentum=0.1, affine=True, track_running_stats=True)\n",
       "          (3): Dropout(p=0.5, inplace=False)\n",
       "        )\n",
       "      )\n",
       "    )\n",
       "    (1): Linear(in_features=32, out_features=1, bias=True)\n",
       "  )\n",
       ")"
      ]
     },
     "execution_count": 10,
     "metadata": {},
     "output_type": "execute_result"
    }
   ],
   "source": [
    "model"
   ]
  },
  {
   "cell_type": "markdown",
   "metadata": {},
   "source": [
    "We can use different initializers, optimizers and learning rate schedulers for each `branch` of the model"
   ]
  },
  {
   "cell_type": "markdown",
   "metadata": {},
   "source": [
    "###  Optimizers, LR schedulers, Initializers and Callbacks"
   ]
  },
  {
   "cell_type": "code",
   "execution_count": 11,
   "metadata": {},
   "outputs": [],
   "source": [
    "from pytorch_widedeep.initializers import KaimingNormal, XavierNormal\n",
    "from pytorch_widedeep.callbacks import ModelCheckpoint, LRHistory, EarlyStopping\n",
    "from pytorch_widedeep.optim import RAdam"
   ]
  },
  {
   "cell_type": "code",
   "execution_count": 12,
   "metadata": {},
   "outputs": [],
   "source": [
    "# Optimizers\n",
    "wide_opt = torch.optim.Adam(model.wide.parameters())\n",
    "deep_opt = RAdam(model.deepdense.parameters())\n",
    "# LR Schedulers\n",
    "wide_sch = torch.optim.lr_scheduler.StepLR(wide_opt, step_size=3)\n",
    "deep_sch = torch.optim.lr_scheduler.StepLR(deep_opt, step_size=5)"
   ]
  },
  {
   "cell_type": "markdown",
   "metadata": {},
   "source": [
    "the component-dependent settings must be passed as dictionaries, while general settings are simply lists"
   ]
  },
  {
   "cell_type": "code",
   "execution_count": 13,
   "metadata": {},
   "outputs": [],
   "source": [
    "# Component-dependent settings as Dict\n",
    "optimizers = {'wide': wide_opt, 'deepdense':deep_opt}\n",
    "schedulers = {'wide': wide_sch, 'deepdense':deep_sch}\n",
    "initializers = {'wide': KaimingNormal, 'deepdense':XavierNormal}\n",
    "# General settings as List\n",
    "callbacks = [LRHistory(n_epochs=10), EarlyStopping, ModelCheckpoint(filepath='model_weights/wd_out')]\n",
    "metrics = [BinaryAccuracy]"
   ]
  },
  {
   "cell_type": "code",
   "execution_count": 14,
   "metadata": {},
   "outputs": [],
   "source": [
    "model.compile(method='binary', optimizers=optimizers, lr_schedulers=schedulers, \n",
    "              initializers=initializers,\n",
    "              callbacks=callbacks,\n",
    "              metrics=metrics)"
   ]
  },
  {
   "cell_type": "code",
   "execution_count": 15,
   "metadata": {},
   "outputs": [
    {
     "name": "stderr",
     "output_type": "stream",
     "text": [
      "\r",
      "  0%|          | 0/153 [00:00<?, ?it/s]"
     ]
    },
    {
     "name": "stdout",
     "output_type": "stream",
     "text": [
      "Training\n"
     ]
    },
    {
     "name": "stderr",
     "output_type": "stream",
     "text": [
      "epoch 1: 100%|██████████| 153/153 [00:03<00:00, 44.53it/s, loss=0.783, metrics={'acc': 0.6151}]\n",
      "valid: 100%|██████████| 39/39 [00:00<00:00, 116.60it/s, loss=0.469, metrics={'acc': 0.6493}]\n",
      "epoch 2: 100%|██████████| 153/153 [00:03<00:00, 47.32it/s, loss=0.529, metrics={'acc': 0.7565}]\n",
      "valid: 100%|██████████| 39/39 [00:00<00:00, 95.90it/s, loss=0.396, metrics={'acc': 0.7685}]\n",
      "epoch 3: 100%|██████████| 153/153 [00:03<00:00, 46.55it/s, loss=0.457, metrics={'acc': 0.7907}]\n",
      "valid: 100%|██████████| 39/39 [00:00<00:00, 116.63it/s, loss=0.372, metrics={'acc': 0.798}]\n",
      "epoch 4: 100%|██████████| 153/153 [00:03<00:00, 49.69it/s, loss=0.421, metrics={'acc': 0.8038}]\n",
      "valid: 100%|██████████| 39/39 [00:00<00:00, 128.04it/s, loss=0.366, metrics={'acc': 0.8091}]\n",
      "epoch 5: 100%|██████████| 153/153 [00:03<00:00, 50.27it/s, loss=0.398, metrics={'acc': 0.815}] \n",
      "valid: 100%|██████████| 39/39 [00:00<00:00, 131.81it/s, loss=0.36, metrics={'acc': 0.8188}]\n",
      "epoch 6: 100%|██████████| 153/153 [00:03<00:00, 50.16it/s, loss=0.388, metrics={'acc': 0.817}] \n",
      "valid: 100%|██████████| 39/39 [00:00<00:00, 130.33it/s, loss=0.36, metrics={'acc': 0.8204}]\n",
      "epoch 7: 100%|██████████| 153/153 [00:03<00:00, 50.06it/s, loss=0.386, metrics={'acc': 0.8175}]\n",
      "valid: 100%|██████████| 39/39 [00:00<00:00, 133.34it/s, loss=0.359, metrics={'acc': 0.8208}]\n",
      "epoch 8: 100%|██████████| 153/153 [00:03<00:00, 50.43it/s, loss=0.387, metrics={'acc': 0.8189}]\n",
      "valid: 100%|██████████| 39/39 [00:00<00:00, 124.92it/s, loss=0.359, metrics={'acc': 0.8221}]\n",
      "epoch 9: 100%|██████████| 153/153 [00:03<00:00, 50.34it/s, loss=0.385, metrics={'acc': 0.8185}]\n",
      "valid: 100%|██████████| 39/39 [00:00<00:00, 130.44it/s, loss=0.358, metrics={'acc': 0.8219}]\n",
      "epoch 10: 100%|██████████| 153/153 [00:03<00:00, 50.29it/s, loss=0.384, metrics={'acc': 0.8191}]\n",
      "valid: 100%|██████████| 39/39 [00:00<00:00, 129.58it/s, loss=0.358, metrics={'acc': 0.8225}]\n"
     ]
    }
   ],
   "source": [
    "model.fit(X_wide=X_wide, X_deep=X_deep, target=target, n_epochs=10, batch_size=256, val_split=0.2)"
   ]
  },
  {
   "cell_type": "code",
   "execution_count": 16,
   "metadata": {},
   "outputs": [
    {
     "data": {
      "text/plain": [
       "['__call__',\n",
       " '__class__',\n",
       " '__delattr__',\n",
       " '__dict__',\n",
       " '__dir__',\n",
       " '__doc__',\n",
       " '__eq__',\n",
       " '__format__',\n",
       " '__ge__',\n",
       " '__getattr__',\n",
       " '__getattribute__',\n",
       " '__gt__',\n",
       " '__hash__',\n",
       " '__init__',\n",
       " '__init_subclass__',\n",
       " '__le__',\n",
       " '__lt__',\n",
       " '__module__',\n",
       " '__ne__',\n",
       " '__new__',\n",
       " '__reduce__',\n",
       " '__reduce_ex__',\n",
       " '__repr__',\n",
       " '__setattr__',\n",
       " '__setstate__',\n",
       " '__sizeof__',\n",
       " '__str__',\n",
       " '__subclasshook__',\n",
       " '__weakref__',\n",
       " '_activation_fn',\n",
       " '_apply',\n",
       " '_backward_hooks',\n",
       " '_buffers',\n",
       " '_forward_hooks',\n",
       " '_forward_pre_hooks',\n",
       " '_get_name',\n",
       " '_load_from_state_dict',\n",
       " '_load_state_dict_pre_hooks',\n",
       " '_loss_fn',\n",
       " '_lr_scheduler_step',\n",
       " '_modules',\n",
       " '_named_members',\n",
       " '_parameters',\n",
       " '_predict',\n",
       " '_register_load_state_dict_pre_hook',\n",
       " '_register_state_dict_hook',\n",
       " '_save_to_state_dict',\n",
       " '_slow_forward',\n",
       " '_state_dict_hooks',\n",
       " '_tracing_name',\n",
       " '_train_val_split',\n",
       " '_training_step',\n",
       " '_validation_step',\n",
       " '_version',\n",
       " '_warm_up',\n",
       " 'add_module',\n",
       " 'apply',\n",
       " 'batch_size',\n",
       " 'buffers',\n",
       " 'callback_container',\n",
       " 'callbacks',\n",
       " 'children',\n",
       " 'class_weight',\n",
       " 'compile',\n",
       " 'cpu',\n",
       " 'cuda',\n",
       " 'cyclic',\n",
       " 'deepdense',\n",
       " 'deephead',\n",
       " 'deepimage',\n",
       " 'deeptext',\n",
       " 'double',\n",
       " 'dump_patches',\n",
       " 'early_stop',\n",
       " 'eval',\n",
       " 'extra_repr',\n",
       " 'fit',\n",
       " 'float',\n",
       " 'forward',\n",
       " 'get_embeddings',\n",
       " 'half',\n",
       " 'history',\n",
       " 'initializer',\n",
       " 'load_state_dict',\n",
       " 'lr_history',\n",
       " 'lr_scheduler',\n",
       " 'method',\n",
       " 'metric',\n",
       " 'modules',\n",
       " 'named_buffers',\n",
       " 'named_children',\n",
       " 'named_modules',\n",
       " 'named_parameters',\n",
       " 'optimizer',\n",
       " 'parameters',\n",
       " 'predict',\n",
       " 'predict_proba',\n",
       " 'register_backward_hook',\n",
       " 'register_buffer',\n",
       " 'register_forward_hook',\n",
       " 'register_forward_pre_hook',\n",
       " 'register_parameter',\n",
       " 'requires_grad_',\n",
       " 'seed',\n",
       " 'share_memory',\n",
       " 'state_dict',\n",
       " 'to',\n",
       " 'train',\n",
       " 'train_running_loss',\n",
       " 'training',\n",
       " 'transforms',\n",
       " 'type',\n",
       " 'valid_running_loss',\n",
       " 'verbose',\n",
       " 'wide',\n",
       " 'with_focal_loss',\n",
       " 'zero_grad']"
      ]
     },
     "execution_count": 16,
     "metadata": {},
     "output_type": "execute_result"
    }
   ],
   "source": [
    "dir(model)"
   ]
  },
  {
   "cell_type": "markdown",
   "metadata": {},
   "source": [
    "You see that, among many methods and attributes we have the `history` and `lr_history` attributes"
   ]
  },
  {
   "cell_type": "code",
   "execution_count": 17,
   "metadata": {},
   "outputs": [
    {
     "data": {
      "text/plain": [
       "[0, 1, 2, 3, 4, 5, 6, 7, 8, 9]"
      ]
     },
     "execution_count": 17,
     "metadata": {},
     "output_type": "execute_result"
    }
   ],
   "source": [
    "model.history.epoch"
   ]
  },
  {
   "cell_type": "code",
   "execution_count": 18,
   "metadata": {},
   "outputs": [
    {
     "name": "stdout",
     "output_type": "stream",
     "text": [
      "{'train_loss': [0.7826161832591287, 0.5294494130253012, 0.45743006565212424, 0.4206276263286865, 0.3982163554702709, 0.3881325295158461, 0.3862898593244989, 0.38681577603801404, 0.38500378529230755, 0.38388273743243], 'train_acc': [0.6151, 0.7565, 0.7907, 0.8038, 0.815, 0.817, 0.8175, 0.8189, 0.8185, 0.8191], 'val_loss': [0.4694176025879689, 0.3960292133001181, 0.37219820802028364, 0.3658289725963886, 0.3600605313594525, 0.35951805343994725, 0.35915129765486103, 0.3585702692851042, 0.3578468553530864, 0.3576407875770178], 'val_acc': [0.6493, 0.7685, 0.798, 0.8091, 0.8188, 0.8204, 0.8208, 0.8221, 0.8219, 0.8225]}\n"
     ]
    }
   ],
   "source": [
    "print(model.history._history)"
   ]
  },
  {
   "cell_type": "code",
   "execution_count": 19,
   "metadata": {},
   "outputs": [
    {
     "name": "stdout",
     "output_type": "stream",
     "text": [
      "{'lr_wide_0': [0.001, 0.001, 0.001, 0.0001, 0.0001, 0.0001, 1.0000000000000003e-05, 1.0000000000000003e-05, 1.0000000000000003e-05, 1.0000000000000002e-06], 'lr_deepdense_0': [0.001, 0.001, 0.001, 0.001, 0.001, 0.0001, 0.0001, 0.0001, 0.0001, 0.0001]}\n"
     ]
    }
   ],
   "source": [
    "print(model.lr_history)"
   ]
  },
  {
   "cell_type": "markdown",
   "metadata": {},
   "source": [
    "We can see that the learning rate effectively decreases by a factor of 0.1 (the default) after the corresponding `step_size`. Note that the keys of the dictionary have a suffix `_0`. This is because if you pass different parameter groups to the torch optimizers, these will also be recorded. We'll see this in the `Regression` notebook. \n",
    "\n",
    "And I guess one has a good idea of how to use the package. Before we leave this notebook just mentioning that the `WideDeep` class comes with a useful method to \"rescue\" the learned embeddings. For example, let's say I want to use the embeddings learned for the different levels of the categorical feature `education`"
   ]
  },
  {
   "cell_type": "code",
   "execution_count": 20,
   "metadata": {},
   "outputs": [
    {
     "data": {
      "text/plain": [
       "{'11th': array([-1.08425401e-01,  5.09871461e-04,  1.25755548e-01, -1.20801523e-01,\n",
       "        -2.56043434e-01, -3.55644524e-02, -8.66190940e-02, -1.39202878e-01,\n",
       "         1.11087626e-04,  4.54997361e-01, -2.31609955e-01, -1.36443637e-02,\n",
       "         8.78131837e-02, -3.07353675e-01, -1.10240346e-02,  6.45920560e-02],\n",
       "       dtype=float32),\n",
       " 'HS-grad': array([ 0.19832617,  0.12040217, -0.5314197 ,  0.35005897, -0.15391229,\n",
       "        -0.22196807,  0.09345723,  0.06745315,  0.25015768,  0.08744714,\n",
       "         0.24480642, -0.08957793,  0.27947524, -0.26326123, -0.19119193,\n",
       "        -0.10995993], dtype=float32),\n",
       " 'Assoc-acdm': array([ 0.06525454, -0.2618052 , -0.09840333,  0.10541438,  0.33471954,\n",
       "        -0.04292247,  0.10712572,  0.34287837, -0.18687049, -0.13836485,\n",
       "        -0.1715912 ,  0.15273218, -0.03476759, -0.07450581,  0.56081617,\n",
       "         0.29201028], dtype=float32),\n",
       " 'Some-college': array([-0.45491776, -0.17205039,  0.21580465, -0.2539856 ,  0.02358766,\n",
       "        -0.05496917, -0.01120283,  0.09221312, -0.12831998,  0.17159238,\n",
       "         0.196605  , -0.2090644 , -0.11193639, -0.18394227, -0.16056207,\n",
       "         0.02444198], dtype=float32),\n",
       " '10th': array([-0.5581912 , -0.20644131,  0.1300292 , -0.10135209,  0.4538276 ,\n",
       "        -0.27146348,  0.12652951,  0.5233289 ,  0.01145706, -0.05667543,\n",
       "         0.43509725, -0.74307233,  0.00139265,  0.07225899,  0.0781986 ,\n",
       "        -0.2610258 ], dtype=float32),\n",
       " 'Prof-school': array([-6.5744489e-02,  1.3956554e-01,  5.7986474e-01,  2.7874210e-01,\n",
       "        -2.4446699e-01,  7.9873689e-02, -3.8569799e-01,  2.2757685e-01,\n",
       "        -3.8109139e-02,  3.3144853e-01, -3.8229354e-02,  2.9802489e-01,\n",
       "        -1.5467829e-01,  5.4805580e-04, -2.1627106e-01, -2.6592135e-02],\n",
       "       dtype=float32),\n",
       " '7th-8th': array([ 0.10858492,  0.42190084,  0.07536066, -0.11707054,  0.05351719,\n",
       "         0.32636967,  0.14053936,  0.45679298, -0.2558197 , -0.47910702,\n",
       "         0.4725715 , -0.0981419 ,  0.3462793 ,  0.07776859, -0.45930195,\n",
       "         0.12625834], dtype=float32),\n",
       " 'Bachelors': array([ 0.01805384, -0.10573057,  0.25564098, -0.27709666, -0.16297452,\n",
       "        -0.1851758 , -0.5702467 , -0.23569717,  0.067039  , -0.28916818,\n",
       "        -0.22313781, -0.23893505,  0.37708414,  0.17465928, -0.47459307,\n",
       "         0.04889947], dtype=float32),\n",
       " 'Masters': array([ 0.11953138,  0.11543513, -0.3954705 ,  0.32583147,  0.23851769,\n",
       "        -0.6448425 ,  0.00705628,  0.10673986, -0.08305098, -0.10872949,\n",
       "        -0.46080047, -0.05367367, -0.18693425,  0.14182107, -0.39178014,\n",
       "        -0.23969549], dtype=float32),\n",
       " 'Doctorate': array([ 0.04873321, -0.19027464, -0.10777274, -0.17476888,  0.47248197,\n",
       "        -0.2873778 , -0.29792303, -0.06811561,  0.16541322, -0.17425427,\n",
       "        -0.09404507,  0.06525683,  0.06408301,  0.38656166,  0.13369907,\n",
       "         0.10825544], dtype=float32),\n",
       " '5th-6th': array([ 0.08566641,  0.03589746,  0.17174615,  0.08747724,  0.2698885 ,\n",
       "         0.08344392, -0.23652045,  0.31357667,  0.3546634 , -0.29814255,\n",
       "         0.10943606,  0.45218074, -0.0614133 , -0.31987205,  0.34947518,\n",
       "         0.07603104], dtype=float32),\n",
       " 'Assoc-voc': array([-0.07830544,  0.0278313 ,  0.34295908, -0.27213913, -0.20097388,\n",
       "         0.10972344,  0.14000823, -0.24098383, -0.16614872,  0.19084413,\n",
       "        -0.02334382,  0.5209352 ,  0.24089335, -0.1350642 , -0.23480216,\n",
       "        -0.32963687], dtype=float32),\n",
       " '9th': array([ 0.12994888,  0.02475524, -0.12875263,  0.0097373 ,  0.38253692,\n",
       "        -0.2718543 ,  0.13766348,  0.27845392, -0.2036348 , -0.20567507,\n",
       "        -0.11305337, -0.47028974,  0.07009655, -0.29621345, -0.17303236,\n",
       "         0.15854478], dtype=float32),\n",
       " '12th': array([-0.15079321, -0.26879913, -0.5159767 ,  0.30044943,  0.0295292 ,\n",
       "        -0.32494095,  0.20975012,  0.35193697, -0.5034315 , -0.14420179,\n",
       "         0.06113023,  0.22398257,  0.0087006 ,  0.09041765, -0.09754901,\n",
       "        -0.21647781], dtype=float32),\n",
       " '1st-4th': array([-0.3199786 ,  0.10094872, -0.10035568,  0.10014401, -0.09340642,\n",
       "        -0.00761677,  0.50759906,  0.288856  , -0.18745485,  0.05442255,\n",
       "         0.6481828 ,  0.18515776,  0.21597311, -0.21534163,  0.01798662,\n",
       "        -0.22816893], dtype=float32),\n",
       " 'Preschool': array([ 0.10035816, -0.24015287,  0.00935481,  0.05356123, -0.18744251,\n",
       "        -0.39735606,  0.03849271, -0.2864288 , -0.10379744,  0.20251973,\n",
       "         0.14565234, -0.24607188, -0.14268415,  0.1209868 ,  0.04662501,\n",
       "         0.41015574], dtype=float32)}"
      ]
     },
     "execution_count": 20,
     "metadata": {},
     "output_type": "execute_result"
    }
   ],
   "source": [
    "model.get_embeddings(col_name='education', cat_encoding_dict=preprocess_deep.encoding_dict)"
   ]
  }
 ],
 "metadata": {
  "kernelspec": {
   "display_name": "Python 3",
   "language": "python",
   "name": "python3"
  },
  "language_info": {
   "codemirror_mode": {
    "name": "ipython",
    "version": 3
   },
   "file_extension": ".py",
   "mimetype": "text/x-python",
   "name": "python",
   "nbconvert_exporter": "python",
   "pygments_lexer": "ipython3",
   "version": "3.6.5"
  }
 },
 "nbformat": 4,
 "nbformat_minor": 2
}
