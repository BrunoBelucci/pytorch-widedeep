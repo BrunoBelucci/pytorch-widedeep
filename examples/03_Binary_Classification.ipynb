{
 "cells": [
  {
   "cell_type": "markdown",
   "metadata": {},
   "source": [
    "## 1. Simple Binary Classification with defaults\n",
    "\n",
    "In this notebook we will use the Adult Census dataset. Download the data from [here](https://www.kaggle.com/wenruliu/adult-income-dataset/downloads/adult.csv/2)."
   ]
  },
  {
   "cell_type": "code",
   "execution_count": 1,
   "metadata": {},
   "outputs": [],
   "source": [
    "import numpy as np\n",
    "import pandas as pd\n",
    "import torch\n",
    "\n",
    "from pytorch_widedeep.preprocessing import WidePreprocessor, DeepPreprocessor\n",
    "from pytorch_widedeep.models import Wide, DeepDense, WideDeep\n",
    "from pytorch_widedeep.metrics import BinaryAccuracy"
   ]
  },
  {
   "cell_type": "code",
   "execution_count": 2,
   "metadata": {},
   "outputs": [
    {
     "data": {
      "text/html": [
       "<div>\n",
       "<style scoped>\n",
       "    .dataframe tbody tr th:only-of-type {\n",
       "        vertical-align: middle;\n",
       "    }\n",
       "\n",
       "    .dataframe tbody tr th {\n",
       "        vertical-align: top;\n",
       "    }\n",
       "\n",
       "    .dataframe thead th {\n",
       "        text-align: right;\n",
       "    }\n",
       "</style>\n",
       "<table border=\"1\" class=\"dataframe\">\n",
       "  <thead>\n",
       "    <tr style=\"text-align: right;\">\n",
       "      <th></th>\n",
       "      <th>age</th>\n",
       "      <th>workclass</th>\n",
       "      <th>fnlwgt</th>\n",
       "      <th>education</th>\n",
       "      <th>educational-num</th>\n",
       "      <th>marital-status</th>\n",
       "      <th>occupation</th>\n",
       "      <th>relationship</th>\n",
       "      <th>race</th>\n",
       "      <th>gender</th>\n",
       "      <th>capital-gain</th>\n",
       "      <th>capital-loss</th>\n",
       "      <th>hours-per-week</th>\n",
       "      <th>native-country</th>\n",
       "      <th>income</th>\n",
       "    </tr>\n",
       "  </thead>\n",
       "  <tbody>\n",
       "    <tr>\n",
       "      <td>0</td>\n",
       "      <td>25</td>\n",
       "      <td>Private</td>\n",
       "      <td>226802</td>\n",
       "      <td>11th</td>\n",
       "      <td>7</td>\n",
       "      <td>Never-married</td>\n",
       "      <td>Machine-op-inspct</td>\n",
       "      <td>Own-child</td>\n",
       "      <td>Black</td>\n",
       "      <td>Male</td>\n",
       "      <td>0</td>\n",
       "      <td>0</td>\n",
       "      <td>40</td>\n",
       "      <td>United-States</td>\n",
       "      <td>&lt;=50K</td>\n",
       "    </tr>\n",
       "    <tr>\n",
       "      <td>1</td>\n",
       "      <td>38</td>\n",
       "      <td>Private</td>\n",
       "      <td>89814</td>\n",
       "      <td>HS-grad</td>\n",
       "      <td>9</td>\n",
       "      <td>Married-civ-spouse</td>\n",
       "      <td>Farming-fishing</td>\n",
       "      <td>Husband</td>\n",
       "      <td>White</td>\n",
       "      <td>Male</td>\n",
       "      <td>0</td>\n",
       "      <td>0</td>\n",
       "      <td>50</td>\n",
       "      <td>United-States</td>\n",
       "      <td>&lt;=50K</td>\n",
       "    </tr>\n",
       "    <tr>\n",
       "      <td>2</td>\n",
       "      <td>28</td>\n",
       "      <td>Local-gov</td>\n",
       "      <td>336951</td>\n",
       "      <td>Assoc-acdm</td>\n",
       "      <td>12</td>\n",
       "      <td>Married-civ-spouse</td>\n",
       "      <td>Protective-serv</td>\n",
       "      <td>Husband</td>\n",
       "      <td>White</td>\n",
       "      <td>Male</td>\n",
       "      <td>0</td>\n",
       "      <td>0</td>\n",
       "      <td>40</td>\n",
       "      <td>United-States</td>\n",
       "      <td>&gt;50K</td>\n",
       "    </tr>\n",
       "    <tr>\n",
       "      <td>3</td>\n",
       "      <td>44</td>\n",
       "      <td>Private</td>\n",
       "      <td>160323</td>\n",
       "      <td>Some-college</td>\n",
       "      <td>10</td>\n",
       "      <td>Married-civ-spouse</td>\n",
       "      <td>Machine-op-inspct</td>\n",
       "      <td>Husband</td>\n",
       "      <td>Black</td>\n",
       "      <td>Male</td>\n",
       "      <td>7688</td>\n",
       "      <td>0</td>\n",
       "      <td>40</td>\n",
       "      <td>United-States</td>\n",
       "      <td>&gt;50K</td>\n",
       "    </tr>\n",
       "    <tr>\n",
       "      <td>4</td>\n",
       "      <td>18</td>\n",
       "      <td>?</td>\n",
       "      <td>103497</td>\n",
       "      <td>Some-college</td>\n",
       "      <td>10</td>\n",
       "      <td>Never-married</td>\n",
       "      <td>?</td>\n",
       "      <td>Own-child</td>\n",
       "      <td>White</td>\n",
       "      <td>Female</td>\n",
       "      <td>0</td>\n",
       "      <td>0</td>\n",
       "      <td>30</td>\n",
       "      <td>United-States</td>\n",
       "      <td>&lt;=50K</td>\n",
       "    </tr>\n",
       "  </tbody>\n",
       "</table>\n",
       "</div>"
      ],
      "text/plain": [
       "   age  workclass  fnlwgt     education  educational-num      marital-status  \\\n",
       "0   25    Private  226802          11th                7       Never-married   \n",
       "1   38    Private   89814       HS-grad                9  Married-civ-spouse   \n",
       "2   28  Local-gov  336951    Assoc-acdm               12  Married-civ-spouse   \n",
       "3   44    Private  160323  Some-college               10  Married-civ-spouse   \n",
       "4   18          ?  103497  Some-college               10       Never-married   \n",
       "\n",
       "          occupation relationship   race  gender  capital-gain  capital-loss  \\\n",
       "0  Machine-op-inspct    Own-child  Black    Male             0             0   \n",
       "1    Farming-fishing      Husband  White    Male             0             0   \n",
       "2    Protective-serv      Husband  White    Male             0             0   \n",
       "3  Machine-op-inspct      Husband  Black    Male          7688             0   \n",
       "4                  ?    Own-child  White  Female             0             0   \n",
       "\n",
       "   hours-per-week native-country income  \n",
       "0              40  United-States  <=50K  \n",
       "1              50  United-States  <=50K  \n",
       "2              40  United-States   >50K  \n",
       "3              40  United-States   >50K  \n",
       "4              30  United-States  <=50K  "
      ]
     },
     "execution_count": 2,
     "metadata": {},
     "output_type": "execute_result"
    }
   ],
   "source": [
    "df = pd.read_csv('data/adult/adult.csv.zip')\n",
    "df.head()"
   ]
  },
  {
   "cell_type": "code",
   "execution_count": 3,
   "metadata": {},
   "outputs": [
    {
     "data": {
      "text/html": [
       "<div>\n",
       "<style scoped>\n",
       "    .dataframe tbody tr th:only-of-type {\n",
       "        vertical-align: middle;\n",
       "    }\n",
       "\n",
       "    .dataframe tbody tr th {\n",
       "        vertical-align: top;\n",
       "    }\n",
       "\n",
       "    .dataframe thead th {\n",
       "        text-align: right;\n",
       "    }\n",
       "</style>\n",
       "<table border=\"1\" class=\"dataframe\">\n",
       "  <thead>\n",
       "    <tr style=\"text-align: right;\">\n",
       "      <th></th>\n",
       "      <th>age</th>\n",
       "      <th>workclass</th>\n",
       "      <th>fnlwgt</th>\n",
       "      <th>education</th>\n",
       "      <th>educational_num</th>\n",
       "      <th>marital_status</th>\n",
       "      <th>occupation</th>\n",
       "      <th>relationship</th>\n",
       "      <th>race</th>\n",
       "      <th>gender</th>\n",
       "      <th>capital_gain</th>\n",
       "      <th>capital_loss</th>\n",
       "      <th>hours_per_week</th>\n",
       "      <th>native_country</th>\n",
       "      <th>income_label</th>\n",
       "    </tr>\n",
       "  </thead>\n",
       "  <tbody>\n",
       "    <tr>\n",
       "      <td>0</td>\n",
       "      <td>25</td>\n",
       "      <td>Private</td>\n",
       "      <td>226802</td>\n",
       "      <td>11th</td>\n",
       "      <td>7</td>\n",
       "      <td>Never-married</td>\n",
       "      <td>Machine-op-inspct</td>\n",
       "      <td>Own-child</td>\n",
       "      <td>Black</td>\n",
       "      <td>Male</td>\n",
       "      <td>0</td>\n",
       "      <td>0</td>\n",
       "      <td>40</td>\n",
       "      <td>United-States</td>\n",
       "      <td>0</td>\n",
       "    </tr>\n",
       "    <tr>\n",
       "      <td>1</td>\n",
       "      <td>38</td>\n",
       "      <td>Private</td>\n",
       "      <td>89814</td>\n",
       "      <td>HS-grad</td>\n",
       "      <td>9</td>\n",
       "      <td>Married-civ-spouse</td>\n",
       "      <td>Farming-fishing</td>\n",
       "      <td>Husband</td>\n",
       "      <td>White</td>\n",
       "      <td>Male</td>\n",
       "      <td>0</td>\n",
       "      <td>0</td>\n",
       "      <td>50</td>\n",
       "      <td>United-States</td>\n",
       "      <td>0</td>\n",
       "    </tr>\n",
       "    <tr>\n",
       "      <td>2</td>\n",
       "      <td>28</td>\n",
       "      <td>Local-gov</td>\n",
       "      <td>336951</td>\n",
       "      <td>Assoc-acdm</td>\n",
       "      <td>12</td>\n",
       "      <td>Married-civ-spouse</td>\n",
       "      <td>Protective-serv</td>\n",
       "      <td>Husband</td>\n",
       "      <td>White</td>\n",
       "      <td>Male</td>\n",
       "      <td>0</td>\n",
       "      <td>0</td>\n",
       "      <td>40</td>\n",
       "      <td>United-States</td>\n",
       "      <td>1</td>\n",
       "    </tr>\n",
       "    <tr>\n",
       "      <td>3</td>\n",
       "      <td>44</td>\n",
       "      <td>Private</td>\n",
       "      <td>160323</td>\n",
       "      <td>Some-college</td>\n",
       "      <td>10</td>\n",
       "      <td>Married-civ-spouse</td>\n",
       "      <td>Machine-op-inspct</td>\n",
       "      <td>Husband</td>\n",
       "      <td>Black</td>\n",
       "      <td>Male</td>\n",
       "      <td>7688</td>\n",
       "      <td>0</td>\n",
       "      <td>40</td>\n",
       "      <td>United-States</td>\n",
       "      <td>1</td>\n",
       "    </tr>\n",
       "    <tr>\n",
       "      <td>4</td>\n",
       "      <td>18</td>\n",
       "      <td>?</td>\n",
       "      <td>103497</td>\n",
       "      <td>Some-college</td>\n",
       "      <td>10</td>\n",
       "      <td>Never-married</td>\n",
       "      <td>?</td>\n",
       "      <td>Own-child</td>\n",
       "      <td>White</td>\n",
       "      <td>Female</td>\n",
       "      <td>0</td>\n",
       "      <td>0</td>\n",
       "      <td>30</td>\n",
       "      <td>United-States</td>\n",
       "      <td>0</td>\n",
       "    </tr>\n",
       "  </tbody>\n",
       "</table>\n",
       "</div>"
      ],
      "text/plain": [
       "   age  workclass  fnlwgt     education  educational_num      marital_status  \\\n",
       "0   25    Private  226802          11th                7       Never-married   \n",
       "1   38    Private   89814       HS-grad                9  Married-civ-spouse   \n",
       "2   28  Local-gov  336951    Assoc-acdm               12  Married-civ-spouse   \n",
       "3   44    Private  160323  Some-college               10  Married-civ-spouse   \n",
       "4   18          ?  103497  Some-college               10       Never-married   \n",
       "\n",
       "          occupation relationship   race  gender  capital_gain  capital_loss  \\\n",
       "0  Machine-op-inspct    Own-child  Black    Male             0             0   \n",
       "1    Farming-fishing      Husband  White    Male             0             0   \n",
       "2    Protective-serv      Husband  White    Male             0             0   \n",
       "3  Machine-op-inspct      Husband  Black    Male          7688             0   \n",
       "4                  ?    Own-child  White  Female             0             0   \n",
       "\n",
       "   hours_per_week native_country  income_label  \n",
       "0              40  United-States             0  \n",
       "1              50  United-States             0  \n",
       "2              40  United-States             1  \n",
       "3              40  United-States             1  \n",
       "4              30  United-States             0  "
      ]
     },
     "execution_count": 3,
     "metadata": {},
     "output_type": "execute_result"
    }
   ],
   "source": [
    "# For convenience, we'll replace '-' with '_'\n",
    "df.columns = [c.replace(\"-\", \"_\") for c in df.columns]\n",
    "# binary target\n",
    "df['income_label'] = (df[\"income\"].apply(lambda x: \">50K\" in x)).astype(int)\n",
    "df.drop('income', axis=1, inplace=True)\n",
    "df.head()"
   ]
  },
  {
   "cell_type": "markdown",
   "metadata": {},
   "source": [
    "### 1.1 Preparing the data\n",
    "\n",
    "Have a look to notebooks one and two if you want to get a good understanding of the next few lines of code (although there is no need to use the package)"
   ]
  },
  {
   "cell_type": "code",
   "execution_count": 4,
   "metadata": {},
   "outputs": [],
   "source": [
    "wide_cols = ['education', 'relationship','workclass','occupation','native_country','gender']\n",
    "crossed_cols = [('education', 'occupation'), ('native_country', 'occupation')]\n",
    "cat_embed_cols = [('education',16), ('relationship',8), ('workclass',16),\n",
    "    ('occupation',16),('native_country',16)]\n",
    "continuous_cols = [\"age\",\"hours_per_week\"]\n",
    "target_col = 'income_label'"
   ]
  },
  {
   "cell_type": "code",
   "execution_count": 5,
   "metadata": {},
   "outputs": [],
   "source": [
    "# TARGET\n",
    "target = df[target_col].values\n",
    "\n",
    "# WIDE\n",
    "preprocess_wide = WidePreprocessor(wide_cols=wide_cols, crossed_cols=crossed_cols)\n",
    "X_wide = preprocess_wide.fit_transform(df)\n",
    "\n",
    "# DEEP\n",
    "preprocess_deep = DeepPreprocessor(embed_cols=cat_embed_cols, continuous_cols=continuous_cols)\n",
    "X_deep = preprocess_deep.fit_transform(df)"
   ]
  },
  {
   "cell_type": "code",
   "execution_count": 6,
   "metadata": {},
   "outputs": [
    {
     "name": "stdout",
     "output_type": "stream",
     "text": [
      "[[0. 1. 0. ... 0. 0. 0.]\n",
      " [0. 0. 0. ... 0. 0. 0.]\n",
      " [0. 0. 0. ... 0. 0. 0.]\n",
      " ...\n",
      " [0. 0. 0. ... 0. 0. 0.]\n",
      " [0. 0. 0. ... 0. 0. 0.]\n",
      " [0. 0. 0. ... 0. 0. 0.]]\n",
      "(48842, 796)\n"
     ]
    }
   ],
   "source": [
    "print(X_wide)\n",
    "print(X_wide.shape)"
   ]
  },
  {
   "cell_type": "code",
   "execution_count": 7,
   "metadata": {},
   "outputs": [
    {
     "name": "stdout",
     "output_type": "stream",
     "text": [
      "[[ 0.          0.          0.         ...  0.         -0.99512893\n",
      "  -0.03408696]\n",
      " [ 1.          1.          0.         ...  0.         -0.04694151\n",
      "   0.77292975]\n",
      " [ 2.          1.          1.         ...  0.         -0.77631645\n",
      "  -0.03408696]\n",
      " ...\n",
      " [ 1.          3.          0.         ...  0.          1.41180837\n",
      "  -0.03408696]\n",
      " [ 1.          0.          0.         ...  0.         -1.21394141\n",
      "  -1.64812038]\n",
      " [ 1.          4.          6.         ...  0.          0.97418341\n",
      "  -0.03408696]]\n",
      "(48842, 7)\n"
     ]
    }
   ],
   "source": [
    "print(X_deep)\n",
    "print(X_deep.shape)"
   ]
  },
  {
   "cell_type": "markdown",
   "metadata": {},
   "source": [
    "### 1.2. Defining the model"
   ]
  },
  {
   "cell_type": "code",
   "execution_count": 8,
   "metadata": {},
   "outputs": [],
   "source": [
    "wide = Wide(wide_dim=X_wide.shape[1], output_dim=1)\n",
    "deepdense = DeepDense(hidden_layers=[64,32], \n",
    "                      deep_column_idx=preprocess_deep.deep_column_idx,\n",
    "                      embed_input=preprocess_deep.embeddings_input,\n",
    "                      continuous_cols=continuous_cols)\n",
    "model = WideDeep(wide=wide, deepdense=deepdense)"
   ]
  },
  {
   "cell_type": "code",
   "execution_count": 9,
   "metadata": {},
   "outputs": [
    {
     "data": {
      "text/plain": [
       "WideDeep(\n",
       "  (wide): Wide(\n",
       "    (wide_linear): Linear(in_features=796, out_features=1, bias=True)\n",
       "  )\n",
       "  (deepdense): Sequential(\n",
       "    (0): DeepDense(\n",
       "      (embed_layers): ModuleDict(\n",
       "        (emb_layer_education): Embedding(16, 16)\n",
       "        (emb_layer_native_country): Embedding(42, 16)\n",
       "        (emb_layer_occupation): Embedding(15, 16)\n",
       "        (emb_layer_relationship): Embedding(6, 8)\n",
       "        (emb_layer_workclass): Embedding(9, 16)\n",
       "      )\n",
       "      (dense): Sequential(\n",
       "        (dense_layer_0): Sequential(\n",
       "          (0): Linear(in_features=74, out_features=64, bias=True)\n",
       "          (1): LeakyReLU(negative_slope=0.01, inplace=True)\n",
       "          (2): Dropout(p=0.0, inplace=False)\n",
       "        )\n",
       "        (dense_layer_1): Sequential(\n",
       "          (0): Linear(in_features=64, out_features=32, bias=True)\n",
       "          (1): LeakyReLU(negative_slope=0.01, inplace=True)\n",
       "          (2): Dropout(p=0.0, inplace=False)\n",
       "        )\n",
       "      )\n",
       "    )\n",
       "    (1): Linear(in_features=32, out_features=1, bias=True)\n",
       "  )\n",
       ")"
      ]
     },
     "execution_count": 9,
     "metadata": {},
     "output_type": "execute_result"
    }
   ],
   "source": [
    "model"
   ]
  },
  {
   "cell_type": "markdown",
   "metadata": {},
   "source": [
    "As you can see, the model is not particularly complex. In mathematical terms (Eq 3 in the [original paper](https://arxiv.org/pdf/1606.07792.pdf)): \n",
    "\n",
    "$$\n",
    "pred = \\sigma(W^{T}_{wide}[x, \\phi(x)] + W^{T}_{deep}a_{deep}^{(l_f)} +  b) \n",
    "$$ \n",
    "\n",
    "\n",
    "The architecture above will output the 1st and the second term in the parenthesis. `WideDeep` will then add them and apply an activation function (`sigmoid` in this case). For more details, please refer to the paper."
   ]
  },
  {
   "cell_type": "markdown",
   "metadata": {},
   "source": [
    "### 1.3 Compiling and Running/Fitting\n",
    "Once the model is built, we just need to compile it and run it"
   ]
  },
  {
   "cell_type": "code",
   "execution_count": 10,
   "metadata": {},
   "outputs": [],
   "source": [
    "model.compile(method='binary', metrics=[BinaryAccuracy])"
   ]
  },
  {
   "cell_type": "code",
   "execution_count": 11,
   "metadata": {},
   "outputs": [
    {
     "name": "stderr",
     "output_type": "stream",
     "text": [
      "epoch 1: 100%|██████████| 153/153 [00:01<00:00, 87.08it/s, loss=0.421, metrics={'acc': 0.8067}]\n",
      "valid: 100%|██████████| 39/39 [00:00<00:00, 136.50it/s, loss=0.364, metrics={'acc': 0.8115}]\n",
      "epoch 2: 100%|██████████| 153/153 [00:01<00:00, 96.64it/s, loss=0.352, metrics={'acc': 0.8354}] \n",
      "valid: 100%|██████████| 39/39 [00:00<00:00, 146.08it/s, loss=0.354, metrics={'acc': 0.8356}]\n",
      "epoch 3: 100%|██████████| 153/153 [00:01<00:00, 97.69it/s, loss=0.344, metrics={'acc': 0.8388}]\n",
      "valid: 100%|██████████| 39/39 [00:00<00:00, 141.73it/s, loss=0.35, metrics={'acc': 0.8388}]\n",
      "epoch 4: 100%|██████████| 153/153 [00:01<00:00, 99.13it/s, loss=0.34, metrics={'acc': 0.841}]   \n",
      "valid: 100%|██████████| 39/39 [00:00<00:00, 139.63it/s, loss=0.348, metrics={'acc': 0.8407}]\n",
      "epoch 5: 100%|██████████| 153/153 [00:01<00:00, 94.87it/s, loss=0.337, metrics={'acc': 0.8422}]\n",
      "valid: 100%|██████████| 39/39 [00:00<00:00, 134.58it/s, loss=0.348, metrics={'acc': 0.8417}]\n"
     ]
    }
   ],
   "source": [
    "model.fit(X_wide=X_wide, X_deep=X_deep, target=target, n_epochs=5, batch_size=256, val_split=0.2)"
   ]
  },
  {
   "cell_type": "markdown",
   "metadata": {},
   "source": [
    "As you can see, you can run a wide and deep model in just a few lines of code\n",
    "\n",
    "Let's now see how to use `WideDeep` with varying parameters"
   ]
  },
  {
   "cell_type": "markdown",
   "metadata": {},
   "source": [
    "## 2. Binary Classification with varying parameters"
   ]
  },
  {
   "cell_type": "markdown",
   "metadata": {},
   "source": [
    "###  2.1 Dropout and Batchnorm"
   ]
  },
  {
   "cell_type": "code",
   "execution_count": 12,
   "metadata": {},
   "outputs": [],
   "source": [
    "wide = Wide(wide_dim=X_wide.shape[1], output_dim=1)\n",
    "# We can add dropout and batchnorm to the dense layers\n",
    "deepdense = DeepDense(hidden_layers=[64,32], dropout=[0.5, 0.5], batchnorm=True,\n",
    "                      deep_column_idx=preprocess_deep.deep_column_idx,\n",
    "                      embed_input=preprocess_deep.embeddings_input,\n",
    "                      continuous_cols=continuous_cols)\n",
    "model = WideDeep(wide=wide, deepdense=deepdense)"
   ]
  },
  {
   "cell_type": "code",
   "execution_count": 13,
   "metadata": {},
   "outputs": [
    {
     "data": {
      "text/plain": [
       "WideDeep(\n",
       "  (wide): Wide(\n",
       "    (wide_linear): Linear(in_features=796, out_features=1, bias=True)\n",
       "  )\n",
       "  (deepdense): Sequential(\n",
       "    (0): DeepDense(\n",
       "      (embed_layers): ModuleDict(\n",
       "        (emb_layer_education): Embedding(16, 16)\n",
       "        (emb_layer_native_country): Embedding(42, 16)\n",
       "        (emb_layer_occupation): Embedding(15, 16)\n",
       "        (emb_layer_relationship): Embedding(6, 8)\n",
       "        (emb_layer_workclass): Embedding(9, 16)\n",
       "      )\n",
       "      (dense): Sequential(\n",
       "        (dense_layer_0): Sequential(\n",
       "          (0): Linear(in_features=74, out_features=64, bias=True)\n",
       "          (1): BatchNorm1d(64, eps=1e-05, momentum=0.1, affine=True, track_running_stats=True)\n",
       "          (2): LeakyReLU(negative_slope=0.01, inplace=True)\n",
       "          (3): Dropout(p=0.5, inplace=False)\n",
       "        )\n",
       "        (dense_layer_1): Sequential(\n",
       "          (0): Linear(in_features=64, out_features=32, bias=True)\n",
       "          (1): BatchNorm1d(32, eps=1e-05, momentum=0.1, affine=True, track_running_stats=True)\n",
       "          (2): LeakyReLU(negative_slope=0.01, inplace=True)\n",
       "          (3): Dropout(p=0.5, inplace=False)\n",
       "        )\n",
       "      )\n",
       "    )\n",
       "    (1): Linear(in_features=32, out_features=1, bias=True)\n",
       "  )\n",
       ")"
      ]
     },
     "execution_count": 13,
     "metadata": {},
     "output_type": "execute_result"
    }
   ],
   "source": [
    "model"
   ]
  },
  {
   "cell_type": "markdown",
   "metadata": {},
   "source": [
    "We can use different initializers, optimizers and learning rate schedulers for each `branch` of the model"
   ]
  },
  {
   "cell_type": "markdown",
   "metadata": {},
   "source": [
    "###  2.1 Optimizers, LR schedulers, Initializers and Callbacks"
   ]
  },
  {
   "cell_type": "code",
   "execution_count": 14,
   "metadata": {},
   "outputs": [],
   "source": [
    "from pytorch_widedeep.initializers import KaimingNormal, XavierNormal\n",
    "from pytorch_widedeep.callbacks import ModelCheckpoint, LRHistory, EarlyStopping\n",
    "from pytorch_widedeep.optim import RAdam"
   ]
  },
  {
   "cell_type": "code",
   "execution_count": 15,
   "metadata": {},
   "outputs": [],
   "source": [
    "# Optimizers\n",
    "wide_opt = torch.optim.Adam(model.wide.parameters())\n",
    "deep_opt = RAdam(model.deepdense.parameters())\n",
    "# LR Schedulers\n",
    "wide_sch = torch.optim.lr_scheduler.StepLR(wide_opt, step_size=3)\n",
    "deep_sch = torch.optim.lr_scheduler.StepLR(deep_opt, step_size=5)"
   ]
  },
  {
   "cell_type": "markdown",
   "metadata": {},
   "source": [
    "the component-dependent settings must be passed as dictionaries, while general settings are simply lists"
   ]
  },
  {
   "cell_type": "code",
   "execution_count": 16,
   "metadata": {},
   "outputs": [],
   "source": [
    "# Component-dependent settings as Dict\n",
    "optimizers = {'wide': wide_opt, 'deepdense':deep_opt}\n",
    "schedulers = {'wide': wide_sch, 'deepdense':deep_sch}\n",
    "initializers = {'wide': KaimingNormal, 'deepdense':XavierNormal}\n",
    "# General settings as List\n",
    "callbacks = [LRHistory(n_epochs=10), EarlyStopping, ModelCheckpoint(filepath='model_weights/wd_out')]\n",
    "metrics = [BinaryAccuracy]"
   ]
  },
  {
   "cell_type": "code",
   "execution_count": 17,
   "metadata": {},
   "outputs": [],
   "source": [
    "model.compile(method='binary', optimizers=optimizers, lr_schedulers=schedulers, \n",
    "              initializers=initializers,\n",
    "              callbacks=callbacks,\n",
    "              metrics=metrics)"
   ]
  },
  {
   "cell_type": "code",
   "execution_count": 18,
   "metadata": {},
   "outputs": [
    {
     "name": "stderr",
     "output_type": "stream",
     "text": [
      "epoch 1: 100%|██████████| 153/153 [00:02<00:00, 76.36it/s, loss=0.72, metrics={'acc': 0.6214}] \n",
      "valid: 100%|██████████| 39/39 [00:00<00:00, 133.66it/s, loss=0.433, metrics={'acc': 0.6602}]\n",
      "epoch 2: 100%|██████████| 153/153 [00:02<00:00, 73.74it/s, loss=0.482, metrics={'acc': 0.7676}]\n",
      "valid: 100%|██████████| 39/39 [00:00<00:00, 120.10it/s, loss=0.375, metrics={'acc': 0.7802}]\n",
      "epoch 3: 100%|██████████| 153/153 [00:02<00:00, 73.27it/s, loss=0.42, metrics={'acc': 0.8017}] \n",
      "valid: 100%|██████████| 39/39 [00:00<00:00, 139.83it/s, loss=0.361, metrics={'acc': 0.8082}]\n",
      "epoch 4: 100%|██████████| 153/153 [00:02<00:00, 72.46it/s, loss=0.395, metrics={'acc': 0.8108}]\n",
      "valid: 100%|██████████| 39/39 [00:00<00:00, 136.43it/s, loss=0.357, metrics={'acc': 0.8158}]\n",
      "epoch 5: 100%|██████████| 153/153 [00:02<00:00, 71.34it/s, loss=0.383, metrics={'acc': 0.818}] \n",
      "valid: 100%|██████████| 39/39 [00:00<00:00, 136.50it/s, loss=0.355, metrics={'acc': 0.8218}]\n",
      "epoch 6: 100%|██████████| 153/153 [00:02<00:00, 72.82it/s, loss=0.378, metrics={'acc': 0.8181}]\n",
      "valid: 100%|██████████| 39/39 [00:00<00:00, 128.62it/s, loss=0.354, metrics={'acc': 0.8219}]\n",
      "epoch 7: 100%|██████████| 153/153 [00:02<00:00, 72.72it/s, loss=0.376, metrics={'acc': 0.8218}]\n",
      "valid: 100%|██████████| 39/39 [00:00<00:00, 129.85it/s, loss=0.354, metrics={'acc': 0.8249}]\n",
      "epoch 8: 100%|██████████| 153/153 [00:02<00:00, 71.97it/s, loss=0.375, metrics={'acc': 0.8209}]\n",
      "valid: 100%|██████████| 39/39 [00:00<00:00, 128.82it/s, loss=0.354, metrics={'acc': 0.8243}]\n",
      "epoch 9: 100%|██████████| 153/153 [00:02<00:00, 69.46it/s, loss=0.375, metrics={'acc': 0.8185}]\n",
      "valid: 100%|██████████| 39/39 [00:00<00:00, 125.86it/s, loss=0.353, metrics={'acc': 0.8223}]\n",
      "epoch 10: 100%|██████████| 153/153 [00:02<00:00, 69.66it/s, loss=0.374, metrics={'acc': 0.8202}]\n",
      "valid: 100%|██████████| 39/39 [00:00<00:00, 131.28it/s, loss=0.353, metrics={'acc': 0.8238}]\n"
     ]
    }
   ],
   "source": [
    "model.fit(X_wide=X_wide, X_deep=X_deep, target=target, n_epochs=10, batch_size=256, val_split=0.2)"
   ]
  },
  {
   "cell_type": "code",
   "execution_count": 19,
   "metadata": {},
   "outputs": [
    {
     "data": {
      "text/plain": [
       "['__call__',\n",
       " '__class__',\n",
       " '__delattr__',\n",
       " '__dict__',\n",
       " '__dir__',\n",
       " '__doc__',\n",
       " '__eq__',\n",
       " '__format__',\n",
       " '__ge__',\n",
       " '__getattr__',\n",
       " '__getattribute__',\n",
       " '__gt__',\n",
       " '__hash__',\n",
       " '__init__',\n",
       " '__init_subclass__',\n",
       " '__le__',\n",
       " '__lt__',\n",
       " '__module__',\n",
       " '__ne__',\n",
       " '__new__',\n",
       " '__reduce__',\n",
       " '__reduce_ex__',\n",
       " '__repr__',\n",
       " '__setattr__',\n",
       " '__setstate__',\n",
       " '__sizeof__',\n",
       " '__str__',\n",
       " '__subclasshook__',\n",
       " '__weakref__',\n",
       " '_activation_fn',\n",
       " '_apply',\n",
       " '_backend',\n",
       " '_backward_hooks',\n",
       " '_buffers',\n",
       " '_construct',\n",
       " '_forward_hooks',\n",
       " '_forward_pre_hooks',\n",
       " '_get_name',\n",
       " '_load_from_state_dict',\n",
       " '_load_state_dict_pre_hooks',\n",
       " '_loss_fn',\n",
       " '_lr_scheduler_step',\n",
       " '_modules',\n",
       " '_named_members',\n",
       " '_parameters',\n",
       " '_predict',\n",
       " '_register_load_state_dict_pre_hook',\n",
       " '_register_state_dict_hook',\n",
       " '_save_to_state_dict',\n",
       " '_slow_forward',\n",
       " '_state_dict_hooks',\n",
       " '_tracing_name',\n",
       " '_train_val_split',\n",
       " '_training_step',\n",
       " '_validation_step',\n",
       " '_version',\n",
       " 'add_module',\n",
       " 'apply',\n",
       " 'batch_size',\n",
       " 'buffers',\n",
       " 'callback_container',\n",
       " 'callbacks',\n",
       " 'children',\n",
       " 'class_weight',\n",
       " 'compile',\n",
       " 'cpu',\n",
       " 'cuda',\n",
       " 'cyclic',\n",
       " 'deepdense',\n",
       " 'deephead',\n",
       " 'deepimage',\n",
       " 'deeptext',\n",
       " 'double',\n",
       " 'dump_patches',\n",
       " 'early_stop',\n",
       " 'eval',\n",
       " 'extra_repr',\n",
       " 'fit',\n",
       " 'float',\n",
       " 'forward',\n",
       " 'get_embeddings',\n",
       " 'half',\n",
       " 'history',\n",
       " 'initializer',\n",
       " 'load_state_dict',\n",
       " 'lr_history',\n",
       " 'lr_scheduler',\n",
       " 'method',\n",
       " 'metric',\n",
       " 'modules',\n",
       " 'named_buffers',\n",
       " 'named_children',\n",
       " 'named_modules',\n",
       " 'named_parameters',\n",
       " 'optimizer',\n",
       " 'parameters',\n",
       " 'predict',\n",
       " 'predict_proba',\n",
       " 'register_backward_hook',\n",
       " 'register_buffer',\n",
       " 'register_forward_hook',\n",
       " 'register_forward_pre_hook',\n",
       " 'register_parameter',\n",
       " 'requires_grad_',\n",
       " 'share_memory',\n",
       " 'state_dict',\n",
       " 'to',\n",
       " 'train',\n",
       " 'train_running_loss',\n",
       " 'training',\n",
       " 'transforms',\n",
       " 'type',\n",
       " 'valid_running_loss',\n",
       " 'verbose',\n",
       " 'wide',\n",
       " 'with_focal_loss',\n",
       " 'zero_grad']"
      ]
     },
     "execution_count": 19,
     "metadata": {},
     "output_type": "execute_result"
    }
   ],
   "source": [
    "dir(model)"
   ]
  },
  {
   "cell_type": "markdown",
   "metadata": {},
   "source": [
    "You see that, among many methods and attributes we have the `history` and `lr_history` attributes"
   ]
  },
  {
   "cell_type": "code",
   "execution_count": 20,
   "metadata": {},
   "outputs": [
    {
     "data": {
      "text/plain": [
       "[0, 1, 2, 3, 4, 5, 6, 7, 8, 9]"
      ]
     },
     "execution_count": 20,
     "metadata": {},
     "output_type": "execute_result"
    }
   ],
   "source": [
    "model.history.epoch"
   ]
  },
  {
   "cell_type": "code",
   "execution_count": 21,
   "metadata": {},
   "outputs": [
    {
     "data": {
      "text/plain": [
       "{'train_loss': [0.7201351490285661,\n",
       "  0.48229670855734086,\n",
       "  0.4197782385193445,\n",
       "  0.3953245247111601,\n",
       "  0.38271428147951764,\n",
       "  0.37770096071405346,\n",
       "  0.375562605515025,\n",
       "  0.37540602976200627,\n",
       "  0.3753419857399136,\n",
       "  0.3741065304653317],\n",
       " 'train_acc': [0.6214,\n",
       "  0.7676,\n",
       "  0.8017,\n",
       "  0.8108,\n",
       "  0.818,\n",
       "  0.8181,\n",
       "  0.8218,\n",
       "  0.8209,\n",
       "  0.8185,\n",
       "  0.8202],\n",
       " 'val_loss': [0.4325417692844684,\n",
       "  0.37463742876664186,\n",
       "  0.3612546171897497,\n",
       "  0.35738192154810977,\n",
       "  0.35490937798451155,\n",
       "  0.35429174930621415,\n",
       "  0.35409936461693203,\n",
       "  0.3539723998461014,\n",
       "  0.353485290820782,\n",
       "  0.35325784331712967],\n",
       " 'val_acc': [0.6602,\n",
       "  0.7802,\n",
       "  0.8082,\n",
       "  0.8158,\n",
       "  0.8218,\n",
       "  0.8219,\n",
       "  0.8249,\n",
       "  0.8243,\n",
       "  0.8223,\n",
       "  0.8238]}"
      ]
     },
     "execution_count": 21,
     "metadata": {},
     "output_type": "execute_result"
    }
   ],
   "source": [
    "model.history._history"
   ]
  },
  {
   "cell_type": "code",
   "execution_count": 22,
   "metadata": {},
   "outputs": [
    {
     "data": {
      "text/plain": [
       "{'lr_wide_0': [0.001,\n",
       "  0.001,\n",
       "  0.001,\n",
       "  0.0001,\n",
       "  0.0001,\n",
       "  0.0001,\n",
       "  1.0000000000000003e-05,\n",
       "  1.0000000000000003e-05,\n",
       "  1.0000000000000003e-05,\n",
       "  1.0000000000000002e-06],\n",
       " 'lr_deepdense_0': [0.001,\n",
       "  0.001,\n",
       "  0.001,\n",
       "  0.001,\n",
       "  0.001,\n",
       "  0.0001,\n",
       "  0.0001,\n",
       "  0.0001,\n",
       "  0.0001,\n",
       "  0.0001]}"
      ]
     },
     "execution_count": 22,
     "metadata": {},
     "output_type": "execute_result"
    }
   ],
   "source": [
    "model.lr_history"
   ]
  },
  {
   "cell_type": "markdown",
   "metadata": {},
   "source": [
    "We can see that the learning rate effectively decreases by a factor of 0.1 (the default) after the corresponding `step_size`. Note that the keys of the dictionary have a suffix `_0`. This is because if you pass different parameter groups to the torch optimizers, these will also be recorded. We'll see this in the `Regression` notebook. \n",
    "\n",
    "And I guess one has a good idea of how to use the package. Before we leave this notebook just mentioning that the `WideDeep` class comes with a useful method to \"rescue\" the learned embeddings. For example, let's say I want to use the embeddings learned for the different levels of the categorical feature `education`"
   ]
  },
  {
   "cell_type": "code",
   "execution_count": 23,
   "metadata": {},
   "outputs": [
    {
     "data": {
      "text/plain": [
       "{'11th': array([ 0.23203531,  0.22896081, -0.40356618,  0.43150797, -0.24202456,\n",
       "        -0.15940084, -0.08549729,  0.4564645 ,  0.13446881, -0.16135852,\n",
       "        -0.1743799 , -0.4434135 , -0.18031678,  0.15880926,  0.02965698,\n",
       "        -0.22083491], dtype=float32),\n",
       " 'HS-grad': array([ 0.3114914 ,  0.36132628, -0.42488536, -0.44385988,  0.2485746 ,\n",
       "         0.01649826,  0.43731764, -0.16036318,  0.22887692, -0.25932702,\n",
       "        -0.02782134, -0.06970705,  0.19947569, -0.06710748, -0.10803316,\n",
       "         0.46665302], dtype=float32),\n",
       " 'Assoc-acdm': array([-0.24408445,  0.05876141, -0.04507849, -0.19578709, -0.14715208,\n",
       "         0.4983954 , -0.05527269,  0.16526866, -0.307099  ,  0.17685033,\n",
       "        -0.14156346, -0.06647427, -0.46975732,  0.16181333,  0.02914725,\n",
       "        -0.49256295], dtype=float32),\n",
       " 'Some-college': array([ 0.5198188 ,  0.12946902,  0.46062082,  0.44757575, -0.3287289 ,\n",
       "        -0.12341443, -0.11078605,  0.1642068 ,  0.7651399 ,  0.06216411,\n",
       "        -0.8117381 ,  0.6532599 , -0.00924105,  0.4417696 ,  0.09026518,\n",
       "        -0.12002172], dtype=float32),\n",
       " '10th': array([ 0.5984684 ,  0.16307777, -0.0040624 ,  0.09925628,  0.20535131,\n",
       "        -0.15751003, -0.16682488, -0.1383966 , -0.04823777,  0.15658148,\n",
       "        -0.12845115, -0.1440473 ,  0.35936442,  0.01721832, -0.01479862,\n",
       "         0.1628472 ], dtype=float32),\n",
       " 'Prof-school': array([ 0.02319724,  0.3303704 ,  0.08904056, -0.21102089,  0.19608757,\n",
       "        -0.07665357,  0.15307519,  0.25392193, -0.03555196, -0.01884847,\n",
       "         0.03365186, -0.11260296, -0.13606223, -0.09259846,  0.27067274,\n",
       "        -0.16312157], dtype=float32),\n",
       " '7th-8th': array([ 0.33061972,  0.1258869 , -0.18391465, -0.5522697 ,  0.14627822,\n",
       "         0.08831056,  0.00233046, -0.00830169, -0.07232173, -0.3524963 ,\n",
       "        -0.01687683, -0.28693867,  0.19178541, -0.17721641, -0.24398643,\n",
       "         0.15801452], dtype=float32),\n",
       " 'Bachelors': array([ 0.23301753,  0.11734378, -0.02250313, -0.31250337,  0.25254628,\n",
       "        -0.13198347,  0.32288718, -0.11564187,  0.08262251,  0.00897656,\n",
       "        -0.04101277,  0.2034123 ,  0.00600741,  0.11451315,  0.08216624,\n",
       "        -0.18260935], dtype=float32),\n",
       " 'Masters': array([-0.2682981 ,  0.03703215, -0.25879607, -0.40328467, -0.32078862,\n",
       "        -0.15390627, -0.00587583,  0.2890941 , -0.2309889 , -0.03192039,\n",
       "         0.42183968,  0.3534382 , -0.10053465,  0.20614813, -0.00845117,\n",
       "         0.13243063], dtype=float32),\n",
       " 'Doctorate': array([ 0.40153244, -0.15173616,  0.2734586 , -0.06986004, -0.14779176,\n",
       "         0.06517711,  0.43264598, -0.04060874,  0.09469996,  0.04779944,\n",
       "         0.11410471, -0.61585397, -0.33141896, -0.06763163,  0.19431648,\n",
       "         0.32619408], dtype=float32),\n",
       " '5th-6th': array([-0.06580594, -0.15445694, -0.4775835 ,  0.28082463,  0.21930388,\n",
       "         0.15399367,  0.08140283,  0.12158986,  0.65451396, -0.3062649 ,\n",
       "        -0.4490934 ,  0.346769  , -0.36774218,  0.06957038,  0.1303332 ,\n",
       "         0.07054735], dtype=float32),\n",
       " 'Assoc-voc': array([ 0.3115598 ,  0.18573369,  0.17958838, -0.30102468, -0.35813195,\n",
       "         0.11202388,  0.2779358 ,  0.22348149,  0.09943093, -0.53038543,\n",
       "         0.03727521, -0.04638249, -0.09950424,  0.27130258,  0.07549058,\n",
       "        -0.49732867], dtype=float32),\n",
       " '9th': array([ 0.2628104 , -0.2855187 , -0.25854272, -0.08381794, -0.2020421 ,\n",
       "        -0.02920138,  0.10086066, -0.10290657, -0.33239442, -0.2356638 ,\n",
       "        -0.248578  ,  0.01665138,  0.28796577,  0.07396127,  0.01030401,\n",
       "         0.37545788], dtype=float32),\n",
       " '12th': array([ 0.11248264, -0.14112231, -0.18007489,  0.41162646,  0.27112672,\n",
       "        -0.02875315, -0.16151035, -0.4613239 , -0.41860878, -0.27310988,\n",
       "        -0.12612441, -0.26779214,  0.46872276,  0.50543463, -0.06184073,\n",
       "         0.01199363], dtype=float32),\n",
       " '1st-4th': array([ 0.10582871, -0.22928524, -0.21345232,  0.27670494, -0.28263775,\n",
       "         0.06005969, -0.04883407, -0.04386626, -0.18646769, -0.28977564,\n",
       "         0.3295173 , -0.2891513 ,  0.3165016 , -0.30840456, -0.13870218,\n",
       "         0.24087428], dtype=float32),\n",
       " 'Preschool': array([ 0.06730541, -0.12282428, -0.0063521 ,  0.07224482,  0.24416964,\n",
       "        -0.09476493, -0.12492466, -0.1393237 , -0.36801594, -0.02907634,\n",
       "         0.44266376, -0.15134929,  0.24314906, -0.15032478,  0.20950297,\n",
       "        -0.12269441], dtype=float32)}"
      ]
     },
     "execution_count": 23,
     "metadata": {},
     "output_type": "execute_result"
    }
   ],
   "source": [
    "model.get_embeddings(col_name='education', cat_encoding_dict=preprocess_deep.encoding_dict)"
   ]
  }
 ],
 "metadata": {
  "kernelspec": {
   "display_name": "Python 3",
   "language": "python",
   "name": "python3"
  },
  "language_info": {
   "codemirror_mode": {
    "name": "ipython",
    "version": 3
   },
   "file_extension": ".py",
   "mimetype": "text/x-python",
   "name": "python",
   "nbconvert_exporter": "python",
   "pygments_lexer": "ipython3",
   "version": "3.6.5"
  }
 },
 "nbformat": 4,
 "nbformat_minor": 2
}
